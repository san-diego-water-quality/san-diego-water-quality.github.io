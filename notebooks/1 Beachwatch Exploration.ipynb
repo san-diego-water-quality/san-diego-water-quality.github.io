{
 "cells": [
  {
   "cell_type": "markdown",
   "metadata": {},
   "source": [
    "# Beachwatch\n",
    "\n",
    "This notebook examines the bacteria count data for the San Diego coastline, from the Beachwatch program. To analyze beachwatch data, we'll use the data package that is stored on the Library's data repository.\n",
    "\n",
    "First, visit the [repository home page](http://data.sandiegodata.org) and note the tag for \"water-project\" below the search box. The [water-project](https://data.sandiegodata.org/dataset?tags=water-project) tag page lists all of the datasets for this project. In the (San Diego Beachwatch Data)[https://data.sandiegodata.org/dataset/ceden-waterboards-ca-gov-beachwatch-sandiego), Look for these two headings, just above the \"Data and Resources\" section:\n",
    "\n",
    "- Loading the ZIP Package\n",
    "- Loading the CSV Package\n",
    "\n",
    "You can copy the code from one of those sections to get started. \n",
    "\n",
    "After opening the data package, we'll look at the results for the stations and station groups, a examine how well readons at one station are correlate with others in the same group. \n",
    "\n",
    "\n",
    "## Useful sites\n",
    "\n",
    "* A great example of [mapping with geopandas](http://jonathansoma.com/lede/foundations-2017/classes/geopandas/mapping-with-geopandas/).\n"
   ]
  },
  {
   "cell_type": "code",
   "execution_count": 53,
   "metadata": {},
   "outputs": [],
   "source": [
    "import matplotlib.pyplot as plt \n",
    "import metapack as mp\n",
    "import pandas as pd\n",
    "import numpy as np\n",
    "import seaborn as sns"
   ]
  },
  {
   "cell_type": "markdown",
   "metadata": {},
   "source": [
    "# Get the Package\n",
    "\n",
    "Usually, the first thing you'll do with a Metatab data package is display the top level documentation, to see what resources it has and other basic information\n"
   ]
  },
  {
   "cell_type": "code",
   "execution_count": 2,
   "metadata": {},
   "outputs": [
    {
     "data": {
      "text/html": [
       "<h2>San Diego Beachwatch Data</h2>\n",
       "<p><p><em>Water quality data for San Diego county beaches.</em></p>\n",
       "<p><small>ceden.waterboards.ca.gov-beachwatch-sandiego-2 from metapack+http://library.metatab.org/ceden.waterboards.ca.gov-beachwatch-sandiego-2.zip#metadata.csv</small></p></p>\n",
       "<p>The Beachwatch data set has four bacteria measurements from 172 stations on the\n",
       "coast of San Diego county, from July 1998 to Decenber 2013. The four\n",
       "measurements are:</p>\n",
       "<ul>\n",
       "<li>Coliform, Total      66992</li>\n",
       "<li>Coliform, Fecal      65827</li>\n",
       "<li>Enterococcus         65010</li>\n",
       "<li>E. coli               4428</li>\n",
       "</ul>\n",
       "<h3>Documentation</h3>\n",
       "<ul>\n",
       "<li><strong><a href=\"https://www.waterboards.ca.gov/water_issues/programs/beaches/beach_water_quality/beaches_program.html\">overview</a></strong> Project Overview Page</li>\n",
       "<li><strong><a href=\"https://ceden.waterboards.ca.gov/AdvancedQueryTool\">source_page</a></strong> CEDEN advanced query tool page</li>\n",
       "</ul>\n",
       "<h3>Contacts</h3>\n",
       "<p><strong>Wrangler:</strong> <a href=\"mailto:eric@civicknowledge.com\">Eric Busboom</a> <a href=\"http://civicknowledge.com\">Civic Knowledge</a></p>\n",
       "<h3>Resources</h3>\n",
       "<p><ol>\n",
       "<li><p><strong>beachwatch-sd</strong> - <a target=\"_blank\" href=\"file:///home/jovyan/.local/share/metapack/library.metatab.org/ceden.waterboards.ca.gov-beachwatch-sandiego-2.zip_d/ceden.waterboards.ca.gov-beachwatch-sandiego-2/data/beachwatch-sd.csv\">file:///home/jovyan/.local/share/metapack/library.metatab.org/ceden.waterboards.ca.gov-beachwatch-sandiego-2.zip_d/ceden.waterboards.ca.gov-beachwatch-sandiego-2/data/beachwatch-sd.csv</a> Beachwatch program for San Diego county</p></li></p>\n",
       "</ol>\n",
       "\n",
       "</ol>"
      ],
      "text/plain": [
       "<metapack.doc.MetapackDoc at 0x7f54ca9e1ba8>"
      ]
     },
     "execution_count": 2,
     "metadata": {},
     "output_type": "execute_result"
    }
   ],
   "source": [
    "pkg = mp.open_package('http://library.metatab.org/ceden.waterboards.ca.gov-beachwatch-sandiego-2.zip')\n",
    "\n",
    "pkg"
   ]
  },
  {
   "cell_type": "markdown",
   "metadata": {},
   "source": [
    "The Beachwatch dataset has a lot of column, which  we haven't fully documented, so you'll have to guess at what a lot of the column mean. "
   ]
  },
  {
   "cell_type": "code",
   "execution_count": 3,
   "metadata": {},
   "outputs": [
    {
     "data": {
      "text/html": [
       "<h3><a name=\"resource-beachwatch-sd\"></a>beachwatch-sd</h3><p><a target=\"_blank\" href=\"file:///home/jovyan/.local/share/metapack/library.metatab.org/ceden.waterboards.ca.gov-beachwatch-sandiego-2.zip_d/ceden.waterboards.ca.gov-beachwatch-sandiego-2/data/beachwatch-sd.csv\">file:///home/jovyan/.local/share/metapack/library.metatab.org/ceden.waterboards.ca.gov-beachwatch-sandiego-2.zip_d/ceden.waterboards.ca.gov-beachwatch-sandiego-2/data/beachwatch-sd.csv</a></p><table>\n",
       "<tr><th>Header</th><th>Type</th><th>Description</th></tr><tr><td>program</td><td>string</td><td></td></tr> \n",
       "<tr><td>parentproject</td><td>string</td><td></td></tr> \n",
       "<tr><td>project</td><td>string</td><td></td></tr> \n",
       "<tr><td>stationname</td><td>string</td><td></td></tr> \n",
       "<tr><td>stationcode</td><td>string</td><td></td></tr> \n",
       "<tr><td>sampledate</td><td>date</td><td></td></tr> \n",
       "<tr><td>collectiontime</td><td>time</td><td></td></tr> \n",
       "<tr><td>locationcode</td><td>string</td><td></td></tr> \n",
       "<tr><td>collectiondepth</td><td>integer</td><td></td></tr> \n",
       "<tr><td>unitcollectiondepth</td><td>string</td><td></td></tr> \n",
       "<tr><td>sampletypecode</td><td>string</td><td></td></tr> \n",
       "<tr><td>collectionreplicate</td><td>integer</td><td></td></tr> \n",
       "<tr><td>resultsreplicate</td><td>integer</td><td></td></tr> \n",
       "<tr><td>labbatch</td><td>string</td><td></td></tr> \n",
       "<tr><td>labsampleid</td><td>string</td><td></td></tr> \n",
       "<tr><td>matrixname</td><td>string</td><td></td></tr> \n",
       "<tr><td>methodname</td><td>string</td><td></td></tr> \n",
       "<tr><td>analyte</td><td>string</td><td></td></tr> \n",
       "<tr><td>unit</td><td>string</td><td></td></tr> \n",
       "<tr><td>result</td><td>integer</td><td></td></tr> \n",
       "<tr><td>observation</td><td>string</td><td></td></tr> \n",
       "<tr><td>mdl</td><td>integer</td><td></td></tr> \n",
       "<tr><td>rl</td><td>integer</td><td></td></tr> \n",
       "<tr><td>resultqualcode</td><td>string</td><td></td></tr> \n",
       "<tr><td>qacode</td><td>string</td><td></td></tr> \n",
       "<tr><td>batchverification</td><td>string</td><td></td></tr> \n",
       "<tr><td>compliancecode</td><td>string</td><td></td></tr> \n",
       "<tr><td>samplecomments</td><td>string</td><td></td></tr> \n",
       "<tr><td>collectioncomments</td><td>string</td><td></td></tr> \n",
       "<tr><td>resultscomments</td><td>string</td><td></td></tr> \n",
       "<tr><td>batchcomments</td><td>string</td><td></td></tr> \n",
       "<tr><td>eventcode</td><td>string</td><td></td></tr> \n",
       "<tr><td>protocolcode</td><td>string</td><td></td></tr> \n",
       "<tr><td>sampleagency</td><td>string</td><td></td></tr> \n",
       "<tr><td>groupsamples</td><td>string</td><td></td></tr> \n",
       "<tr><td>collectionmethodname</td><td>string</td><td></td></tr> \n",
       "<tr><td>targetlatitude</td><td>number</td><td></td></tr> \n",
       "<tr><td>targetlongitude</td><td>number</td><td></td></tr> \n",
       "<tr><td>collectiondevicedescription</td><td>string</td><td></td></tr> \n",
       "<tr><td>calibrationdate</td><td>string</td><td></td></tr> \n",
       "<tr><td>positionwatercolumn</td><td>string</td><td></td></tr> \n",
       "<tr><td>preppreservationname</td><td>string</td><td></td></tr> \n",
       "<tr><td>preppreservationdate</td><td>string</td><td></td></tr> \n",
       "<tr><td>digestextractmethod</td><td>string</td><td></td></tr> \n",
       "<tr><td>digestextractdate</td><td>string</td><td></td></tr> \n",
       "<tr><td>analysisdate</td><td>string</td><td></td></tr> \n",
       "<tr><td>dilutionfactor</td><td>integer</td><td></td></tr> \n",
       "<tr><td>expectedvalue</td><td>integer</td><td></td></tr> \n",
       "<tr><td>labagency</td><td>string</td><td></td></tr> \n",
       "<tr><td>submittingagency</td><td>string</td><td></td></tr> \n",
       "<tr><td>submissioncode</td><td>string</td><td></td></tr> \n",
       "<tr><td>occupationmethod</td><td>string</td><td></td></tr> \n",
       "<tr><td>startingbank</td><td>string</td><td></td></tr> \n",
       "<tr><td>distancefrombank</td><td>string</td><td></td></tr> \n",
       "<tr><td>unitdistancefrombank</td><td>string</td><td></td></tr> \n",
       "<tr><td>streamwidth</td><td>string</td><td></td></tr> \n",
       "<tr><td>unitstreamwidth</td><td>string</td><td></td></tr> \n",
       "<tr><td>stationwaterdepth</td><td>string</td><td></td></tr> \n",
       "<tr><td>unitstationwaterdepth</td><td>string</td><td></td></tr> \n",
       "<tr><td>hydromod</td><td>string</td><td></td></tr> \n",
       "<tr><td>hydromodloc</td><td>string</td><td></td></tr> \n",
       "<tr><td>locationdetailwqcomments</td><td>string</td><td></td></tr> \n",
       "<tr><td>channelwidth</td><td>string</td><td></td></tr> \n",
       "<tr><td>upstreamlength</td><td>string</td><td></td></tr> \n",
       "<tr><td>downstreamlength</td><td>string</td><td></td></tr> \n",
       "<tr><td>totalreach</td><td>string</td><td></td></tr> \n",
       "<tr><td>locationdetailbacomments</td><td>string</td><td></td></tr> \n",
       "<tr><td>county</td><td>string</td><td></td></tr> \n",
       "<tr><td>county_fips</td><td>integer</td><td></td></tr> \n",
       "<tr><td>regional_board</td><td>string</td><td></td></tr> \n",
       "<tr><td>rb_number</td><td>integer</td><td></td></tr> \n",
       "<tr><td>huc8</td><td>string</td><td></td></tr> \n",
       "<tr><td>huc8_number</td><td>string</td><td></td></tr> \n",
       "<tr><td>huc10</td><td>string</td><td></td></tr> \n",
       "<tr><td>huc10_number</td><td>string</td><td></td></tr> \n",
       "<tr><td>huc12</td><td>string</td><td></td></tr> \n",
       "<tr><td>huc12_number</td><td>string</td><td></td></tr> \n",
       "<tr><td>waterbody_type</td><td>string</td><td></td></tr> \n",
       "<tr><td>sampleid</td><td>string</td><td></td></tr> </table>"
      ],
      "text/plain": [
       "<Resource: metadata.csv 32:1 root.datafile data/beachwatch-sd.csv ['beachwatch-sd', 'Beachwatch program for San Diego county', '']>"
      ]
     },
     "execution_count": 3,
     "metadata": {},
     "output_type": "execute_result"
    }
   ],
   "source": [
    "# Displaying a resource gives you the schema. This one isn't complete, since we havent filled in the column descriptions. \n",
    "pkg.resource('beachwatch-sd')"
   ]
  },
  {
   "cell_type": "markdown",
   "metadata": {},
   "source": [
    "# Open the Resource\n",
    "\n",
    "Below is another really common pattern. Get the resource and extract a Pandas DataFrame, using read_csv(). (You can also use ``.dataframe()``, which has more accurate datatypes, but is slower. ) We'll do some column modifications immediately, then display the data. "
   ]
  },
  {
   "cell_type": "code",
   "execution_count": 4,
   "metadata": {},
   "outputs": [
    {
     "data": {
      "text/html": [
       "<div>\n",
       "<style scoped>\n",
       "    .dataframe tbody tr th:only-of-type {\n",
       "        vertical-align: middle;\n",
       "    }\n",
       "\n",
       "    .dataframe tbody tr th {\n",
       "        vertical-align: top;\n",
       "    }\n",
       "\n",
       "    .dataframe thead th {\n",
       "        text-align: right;\n",
       "    }\n",
       "</style>\n",
       "<table border=\"1\" class=\"dataframe\">\n",
       "  <thead>\n",
       "    <tr style=\"text-align: right;\">\n",
       "      <th></th>\n",
       "      <th>program</th>\n",
       "      <th>parentproject</th>\n",
       "      <th>project</th>\n",
       "      <th>stationname</th>\n",
       "      <th>stationcode</th>\n",
       "      <th>sampledate</th>\n",
       "      <th>collectiontime</th>\n",
       "      <th>locationcode</th>\n",
       "      <th>collectiondepth</th>\n",
       "      <th>unitcollectiondepth</th>\n",
       "      <th>...</th>\n",
       "      <th>huc8</th>\n",
       "      <th>huc8_number</th>\n",
       "      <th>huc10</th>\n",
       "      <th>huc10_number</th>\n",
       "      <th>huc12</th>\n",
       "      <th>huc12_number</th>\n",
       "      <th>waterbody_type</th>\n",
       "      <th>sampleid</th>\n",
       "      <th>stationgroup</th>\n",
       "      <th>log_result</th>\n",
       "    </tr>\n",
       "  </thead>\n",
       "  <tbody>\n",
       "    <tr>\n",
       "      <th>0</th>\n",
       "      <td>BeachWatch</td>\n",
       "      <td>BeachWatch_San Diego County</td>\n",
       "      <td>BeachWatch_San Diego County</td>\n",
       "      <td>EH-010-Imperial Beach municipal beach, other, ...</td>\n",
       "      <td>EH-010</td>\n",
       "      <td>1999-04-02</td>\n",
       "      <td>2018-08-03</td>\n",
       "      <td>SurfZone</td>\n",
       "      <td>-88</td>\n",
       "      <td>NR</td>\n",
       "      <td>...</td>\n",
       "      <td>NaN</td>\n",
       "      <td>NaN</td>\n",
       "      <td>NaN</td>\n",
       "      <td>NaN</td>\n",
       "      <td>NaN</td>\n",
       "      <td>NaN</td>\n",
       "      <td>NaN</td>\n",
       "      <td>Not Recorded</td>\n",
       "      <td>EH</td>\n",
       "      <td>2.477121</td>\n",
       "    </tr>\n",
       "    <tr>\n",
       "      <th>1</th>\n",
       "      <td>BeachWatch</td>\n",
       "      <td>BeachWatch_San Diego County</td>\n",
       "      <td>BeachWatch_San Diego County</td>\n",
       "      <td>EH-010-Imperial Beach municipal beach, other, ...</td>\n",
       "      <td>EH-010</td>\n",
       "      <td>1999-04-29</td>\n",
       "      <td>2018-08-03</td>\n",
       "      <td>SurfZone</td>\n",
       "      <td>-88</td>\n",
       "      <td>NR</td>\n",
       "      <td>...</td>\n",
       "      <td>NaN</td>\n",
       "      <td>NaN</td>\n",
       "      <td>NaN</td>\n",
       "      <td>NaN</td>\n",
       "      <td>NaN</td>\n",
       "      <td>NaN</td>\n",
       "      <td>NaN</td>\n",
       "      <td>Not Recorded</td>\n",
       "      <td>EH</td>\n",
       "      <td>1.301030</td>\n",
       "    </tr>\n",
       "    <tr>\n",
       "      <th>2</th>\n",
       "      <td>BeachWatch</td>\n",
       "      <td>BeachWatch_San Diego County</td>\n",
       "      <td>BeachWatch_San Diego County</td>\n",
       "      <td>EH-010-Imperial Beach municipal beach, other, ...</td>\n",
       "      <td>EH-010</td>\n",
       "      <td>1999-04-30</td>\n",
       "      <td>2018-08-03</td>\n",
       "      <td>SurfZone</td>\n",
       "      <td>-88</td>\n",
       "      <td>NR</td>\n",
       "      <td>...</td>\n",
       "      <td>NaN</td>\n",
       "      <td>NaN</td>\n",
       "      <td>NaN</td>\n",
       "      <td>NaN</td>\n",
       "      <td>NaN</td>\n",
       "      <td>NaN</td>\n",
       "      <td>NaN</td>\n",
       "      <td>Not Recorded</td>\n",
       "      <td>EH</td>\n",
       "      <td>1.301030</td>\n",
       "    </tr>\n",
       "    <tr>\n",
       "      <th>3</th>\n",
       "      <td>BeachWatch</td>\n",
       "      <td>BeachWatch_San Diego County</td>\n",
       "      <td>BeachWatch_San Diego County</td>\n",
       "      <td>EH-010-Imperial Beach municipal beach, other, ...</td>\n",
       "      <td>EH-010</td>\n",
       "      <td>1999-05-26</td>\n",
       "      <td>2018-08-03</td>\n",
       "      <td>SurfZone</td>\n",
       "      <td>-88</td>\n",
       "      <td>NR</td>\n",
       "      <td>...</td>\n",
       "      <td>NaN</td>\n",
       "      <td>NaN</td>\n",
       "      <td>NaN</td>\n",
       "      <td>NaN</td>\n",
       "      <td>NaN</td>\n",
       "      <td>NaN</td>\n",
       "      <td>NaN</td>\n",
       "      <td>Not Recorded</td>\n",
       "      <td>EH</td>\n",
       "      <td>1.000000</td>\n",
       "    </tr>\n",
       "    <tr>\n",
       "      <th>4</th>\n",
       "      <td>BeachWatch</td>\n",
       "      <td>BeachWatch_San Diego County</td>\n",
       "      <td>BeachWatch_San Diego County</td>\n",
       "      <td>EH-010-Imperial Beach municipal beach, other, ...</td>\n",
       "      <td>EH-010</td>\n",
       "      <td>1999-05-26</td>\n",
       "      <td>2018-08-03</td>\n",
       "      <td>SurfZone</td>\n",
       "      <td>-88</td>\n",
       "      <td>NR</td>\n",
       "      <td>...</td>\n",
       "      <td>NaN</td>\n",
       "      <td>NaN</td>\n",
       "      <td>NaN</td>\n",
       "      <td>NaN</td>\n",
       "      <td>NaN</td>\n",
       "      <td>NaN</td>\n",
       "      <td>NaN</td>\n",
       "      <td>Not Recorded</td>\n",
       "      <td>EH</td>\n",
       "      <td>1.301030</td>\n",
       "    </tr>\n",
       "  </tbody>\n",
       "</table>\n",
       "<p>5 rows × 81 columns</p>\n",
       "</div>"
      ],
      "text/plain": [
       "      program                parentproject                      project  \\\n",
       "0  BeachWatch  BeachWatch_San Diego County  BeachWatch_San Diego County   \n",
       "1  BeachWatch  BeachWatch_San Diego County  BeachWatch_San Diego County   \n",
       "2  BeachWatch  BeachWatch_San Diego County  BeachWatch_San Diego County   \n",
       "3  BeachWatch  BeachWatch_San Diego County  BeachWatch_San Diego County   \n",
       "4  BeachWatch  BeachWatch_San Diego County  BeachWatch_San Diego County   \n",
       "\n",
       "                                         stationname stationcode sampledate  \\\n",
       "0  EH-010-Imperial Beach municipal beach, other, ...      EH-010 1999-04-02   \n",
       "1  EH-010-Imperial Beach municipal beach, other, ...      EH-010 1999-04-29   \n",
       "2  EH-010-Imperial Beach municipal beach, other, ...      EH-010 1999-04-30   \n",
       "3  EH-010-Imperial Beach municipal beach, other, ...      EH-010 1999-05-26   \n",
       "4  EH-010-Imperial Beach municipal beach, other, ...      EH-010 1999-05-26   \n",
       "\n",
       "  collectiontime locationcode  collectiondepth unitcollectiondepth  \\\n",
       "0     2018-08-03     SurfZone              -88                  NR   \n",
       "1     2018-08-03     SurfZone              -88                  NR   \n",
       "2     2018-08-03     SurfZone              -88                  NR   \n",
       "3     2018-08-03     SurfZone              -88                  NR   \n",
       "4     2018-08-03     SurfZone              -88                  NR   \n",
       "\n",
       "      ...     huc8  huc8_number  huc10 huc10_number huc12 huc12_number  \\\n",
       "0     ...      NaN          NaN    NaN          NaN   NaN          NaN   \n",
       "1     ...      NaN          NaN    NaN          NaN   NaN          NaN   \n",
       "2     ...      NaN          NaN    NaN          NaN   NaN          NaN   \n",
       "3     ...      NaN          NaN    NaN          NaN   NaN          NaN   \n",
       "4     ...      NaN          NaN    NaN          NaN   NaN          NaN   \n",
       "\n",
       "  waterbody_type      sampleid stationgroup  log_result  \n",
       "0            NaN  Not Recorded           EH    2.477121  \n",
       "1            NaN  Not Recorded           EH    1.301030  \n",
       "2            NaN  Not Recorded           EH    1.301030  \n",
       "3            NaN  Not Recorded           EH    1.000000  \n",
       "4            NaN  Not Recorded           EH    1.301030  \n",
       "\n",
       "[5 rows x 81 columns]"
      ]
     },
     "execution_count": 4,
     "metadata": {},
     "output_type": "execute_result"
    }
   ],
   "source": [
    "df = pkg.resource('beachwatch-sd').read_csv(parse_dates=True)\n",
    "\n",
    "# It looks like the prefix of the station code groups stations, maybe into watersheds. \n",
    "df['stationgroup'] = df.stationcode.str[:2]\n",
    "\n",
    "# The results has a large range, so log transformation makes them easier to visualize.\n",
    "df['log_result'] = df.result.apply(np.log10)\n",
    "\n",
    "df.head()"
   ]
  },
  {
   "cell_type": "markdown",
   "metadata": {},
   "source": [
    "The different station group have differnt numbers of stations. "
   ]
  },
  {
   "cell_type": "code",
   "execution_count": 5,
   "metadata": {},
   "outputs": [
    {
     "data": {
      "text/html": [
       "<div>\n",
       "<style scoped>\n",
       "    .dataframe tbody tr th:only-of-type {\n",
       "        vertical-align: middle;\n",
       "    }\n",
       "\n",
       "    .dataframe tbody tr th {\n",
       "        vertical-align: top;\n",
       "    }\n",
       "\n",
       "    .dataframe thead th {\n",
       "        text-align: right;\n",
       "    }\n",
       "</style>\n",
       "<table border=\"1\" class=\"dataframe\">\n",
       "  <thead>\n",
       "    <tr style=\"text-align: right;\">\n",
       "      <th></th>\n",
       "      <th>stationcode</th>\n",
       "    </tr>\n",
       "    <tr>\n",
       "      <th>stationgroup</th>\n",
       "      <th></th>\n",
       "    </tr>\n",
       "  </thead>\n",
       "  <tbody>\n",
       "    <tr>\n",
       "      <th>EH</th>\n",
       "      <td>71</td>\n",
       "    </tr>\n",
       "    <tr>\n",
       "      <th>EN</th>\n",
       "      <td>5</td>\n",
       "    </tr>\n",
       "    <tr>\n",
       "      <th>FM</th>\n",
       "      <td>10</td>\n",
       "    </tr>\n",
       "    <tr>\n",
       "      <th>IB</th>\n",
       "      <td>8</td>\n",
       "    </tr>\n",
       "    <tr>\n",
       "      <th>MB</th>\n",
       "      <td>46</td>\n",
       "    </tr>\n",
       "    <tr>\n",
       "      <th>OC</th>\n",
       "      <td>11</td>\n",
       "    </tr>\n",
       "    <tr>\n",
       "      <th>PL</th>\n",
       "      <td>10</td>\n",
       "    </tr>\n",
       "    <tr>\n",
       "      <th>SC</th>\n",
       "      <td>2</td>\n",
       "    </tr>\n",
       "    <tr>\n",
       "      <th>SE</th>\n",
       "      <td>7</td>\n",
       "    </tr>\n",
       "    <tr>\n",
       "      <th>TJ</th>\n",
       "      <td>2</td>\n",
       "    </tr>\n",
       "  </tbody>\n",
       "</table>\n",
       "</div>"
      ],
      "text/plain": [
       "              stationcode\n",
       "stationgroup             \n",
       "EH                     71\n",
       "EN                      5\n",
       "FM                     10\n",
       "IB                      8\n",
       "MB                     46\n",
       "OC                     11\n",
       "PL                     10\n",
       "SC                      2\n",
       "SE                      7\n",
       "TJ                      2"
      ]
     },
     "execution_count": 5,
     "metadata": {},
     "output_type": "execute_result"
    }
   ],
   "source": [
    "df[['stationcode','stationgroup']].drop_duplicates().groupby('stationgroup').count()"
   ]
  },
  {
   "cell_type": "code",
   "execution_count": 6,
   "metadata": {},
   "outputs": [
    {
     "data": {
      "text/plain": [
       "IB-080    5065\n",
       "EH-420    4417\n",
       "FM-010    4150\n",
       "SE-060    3780\n",
       "OC-100    3614\n",
       "Name: stationcode, dtype: int64"
      ]
     },
     "execution_count": 6,
     "metadata": {},
     "output_type": "execute_result"
    }
   ],
   "source": [
    "df['stationcode'].value_counts().head()"
   ]
  },
  {
   "cell_type": "markdown",
   "metadata": {},
   "source": [
    "The dataset was extracted with only bacteria counts, but there are several different types. "
   ]
  },
  {
   "cell_type": "code",
   "execution_count": 7,
   "metadata": {},
   "outputs": [
    {
     "data": {
      "text/plain": [
       "Coliform, Total    66992\n",
       "Coliform, Fecal    65827\n",
       "Enterococcus       65010\n",
       "E. coli             4428\n",
       "Name: analyte, dtype: int64"
      ]
     },
     "execution_count": 7,
     "metadata": {},
     "output_type": "execute_result"
    }
   ],
   "source": [
    "df['analyte'].value_counts().head()"
   ]
  },
  {
   "cell_type": "markdown",
   "metadata": {},
   "source": [
    "There are also several difernt analysis methods, with different units. "
   ]
  },
  {
   "cell_type": "code",
   "execution_count": 8,
   "metadata": {},
   "outputs": [
    {
     "data": {
      "text/plain": [
       "MPN/100 mL    143346\n",
       "cfu/100mL      58911\n",
       "Name: unit, dtype: int64"
      ]
     },
     "execution_count": 8,
     "metadata": {},
     "output_type": "execute_result"
    }
   ],
   "source": [
    "df['unit'].value_counts().head()\n"
   ]
  },
  {
   "cell_type": "code",
   "execution_count": 9,
   "metadata": {},
   "outputs": [
    {
     "data": {
      "text/plain": [
       "SM 9222 B     49791\n",
       "MTF           43466\n",
       "Enterolert    42372\n",
       "SM 9221 E     28924\n",
       "SM 9221 B     25578\n",
       "Name: methodname, dtype: int64"
      ]
     },
     "execution_count": 9,
     "metadata": {},
     "output_type": "execute_result"
    }
   ],
   "source": [
    "df['methodname'].value_counts().head()"
   ]
  },
  {
   "cell_type": "markdown",
   "metadata": {},
   "source": [
    "To ensure that the following comparisions make sense, we'll want to focus on just one type of bacteria count"
   ]
  },
  {
   "cell_type": "code",
   "execution_count": null,
   "metadata": {},
   "outputs": [],
   "source": []
  },
  {
   "cell_type": "code",
   "execution_count": 10,
   "metadata": {},
   "outputs": [
    {
     "data": {
      "text/plain": [
       "47515"
      ]
     },
     "execution_count": 10,
     "metadata": {},
     "output_type": "execute_result"
    }
   ],
   "source": [
    "dfs = df[(df.analyte == 'Coliform, Total') & (df.unit == 'MPN/100 mL')]\n",
    "len(dfs)"
   ]
  }
 ],
 "metadata": {
  "kernelspec": {
   "display_name": "Python 3",
   "language": "python",
   "name": "python3"
  },
  "language_info": {
   "codemirror_mode": {
    "name": "ipython",
    "version": 3
   },
   "file_extension": ".py",
   "mimetype": "text/x-python",
   "name": "python",
   "nbconvert_exporter": "python",
   "pygments_lexer": "ipython3",
   "version": "3.6.6"
  }
 },
 "nbformat": 4,
 "nbformat_minor": 2
}
