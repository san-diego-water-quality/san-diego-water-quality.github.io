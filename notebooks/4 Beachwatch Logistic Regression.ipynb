{
 "cells": [
  {
   "cell_type": "markdown",
   "metadata": {},
   "source": [
    "# Beachwatch Logistic Regressions\n",
    "\n",
    "This analysis merges the Beachwatch and Environmental data packages, then does logistic regressions on bacteria counts versus  rainfal and riverflow. \n"
   ]
  },
  {
   "cell_type": "code",
   "execution_count": 1,
   "metadata": {},
   "outputs": [],
   "source": [
    "import matplotlib.pyplot as plt \n",
    "import metapack as mp\n",
    "import pandas as pd\n",
    "import numpy as np\n",
    "import seaborn as sns\n",
    "sns.set(color_codes=True)\n",
    "%matplotlib inline"
   ]
  },
  {
   "cell_type": "markdown",
   "metadata": {},
   "source": [
    "The beachwatch datasets we will be  using is derived from the original data, and includes an extra set of feature columns for measurement groups and the quantile of each measurement relative to its group. Refer to the [package README file for details about these aditional columns.](https://data.sandiegodata.org/dataset/sandiegodata-org-beachwatch)\n",
    "\n",
    "In the schema below, note the columns that have '_group_' in the name, which are the group means and quantiles, and the  columsn that have comparison names, such as '_gt_' ( greater than )  '_gte_' ( greater than or equal ) or '_lte_' ( less than or equal. "
   ]
  },
  {
   "cell_type": "code",
   "execution_count": 2,
   "metadata": {},
   "outputs": [
    {
     "data": {
      "text/html": [
       "<h3><a name=\"resource-beachwatch\"></a>beachwatch</h3><p><a target=\"_blank\" href=\"file:///home/jovyan/.local/share/metapack/library.metatab.org/sandiegodata.org-beachwatch-4.zip_d/sandiegodata.org-beachwatch-4/data/beachwatch.csv\">file:///home/jovyan/.local/share/metapack/library.metatab.org/sandiegodata.org-beachwatch-4.zip_d/sandiegodata.org-beachwatch-4/data/beachwatch.csv</a></p><table>\n",
       "<tr><th>Header</th><th>Type</th><th>Description</th></tr><tr><td>stationcode</td><td>string</td><td>Short name for the station</td></tr> \n",
       "<tr><td>stationgroup</td><td>string</td><td>First two characters of station code</td></tr> \n",
       "<tr><td>sampledate</td><td>datetime</td><td>Date sample was taken</td></tr> \n",
       "<tr><td>collectiontime</td><td>time</td><td>Time sample was taken</td></tr> \n",
       "<tr><td>measure_code</td><td>integer</td><td>Reference to the measure codes, the unique groups of analyte, mehodname and unit.</td></tr> \n",
       "<tr><td>analyte</td><td>string</td><td>The type of bacterial being measured, for coliform, total coliform, Enterococcus or E. coli.</td></tr> \n",
       "<tr><td>methodname</td><td>string</td><td>Method used to count bacteria, such as “MTF”, “SM 9222 B” or “Enterolert”</td></tr> \n",
       "<tr><td>unit</td><td>string</td><td>Measurement units, type of count per 100 ml.</td></tr> \n",
       "<tr><td>result</td><td>integer</td><td>Measured value</td></tr> \n",
       "<tr><td>result_group_count</td><td>integer</td><td>Number of records in this measurement group</td></tr> \n",
       "<tr><td>result_group_std</td><td>number</td><td>Standard deviation for this group</td></tr> \n",
       "<tr><td>result_group_mean</td><td>number</td><td>Mean for this group</td></tr> \n",
       "<tr><td>result_group_25pctl</td><td>number</td><td>25th percentile for this group</td></tr> \n",
       "<tr><td>result_group_median</td><td>number</td><td>Median for this group</td></tr> \n",
       "<tr><td>result_group_75pctl</td><td>number</td><td>75th percentile for  this group</td></tr> \n",
       "<tr><td>result_gt_median</td><td>number</td><td>1 if the result is greater than the median, 0 otherwise</td></tr> \n",
       "<tr><td>result_gt_mean</td><td>number</td><td>1 if the result is greater than the mean, 0 otherwise</td></tr> \n",
       "<tr><td>result_lte_25pctl</td><td>number</td><td>1 if the result is less than or equal to the 25th percentile, 0 otherwise</td></tr> \n",
       "<tr><td>result_gte_75pctl</td><td>number</td><td>1 if the result is greater than or equal to the 75th percentile, 0 otherwise</td></tr> \n",
       "<tr><td>lresult</td><td>number</td><td>Log  of measured value</td></tr> \n",
       "<tr><td>lresult_group_std</td><td>number</td><td>Standard deviation of log(result) for this group</td></tr> \n",
       "<tr><td>lresult_group_mean</td><td>number</td><td>Mean of log(result) for this group</td></tr> \n",
       "<tr><td>lresult_group_25pctl</td><td>number</td><td>25th percentile of log(result) for this group</td></tr> \n",
       "<tr><td>lresult_group_median</td><td>number</td><td>Median of log(result) for this group</td></tr> \n",
       "<tr><td>lresult_group_75pctl</td><td>number</td><td>75th percentile of log(result) for this group</td></tr> \n",
       "<tr><td>lresult_gt_lmedian</td><td>number</td><td>1 if the result is greater than the median of log(result) , 0 otherwise</td></tr> \n",
       "<tr><td>lresult_gt_lmean</td><td>number</td><td>1 if the result is greater than the mean of log(result) , 0 otherwise</td></tr> \n",
       "<tr><td>lresult_lte_25pctl</td><td>number</td><td>1 if the result is less than or equal to the 25th percentile of log(result) , 0 otherwise</td></tr> \n",
       "<tr><td>lresult_gte_75pctl</td><td>number</td><td>1 if the result is greater than or equal to the 75th percentile of log(result) , 0 otherwise</td></tr> \n",
       "<tr><td>labbatch</td><td>string</td><td>Identifier of the processing group in the lab</td></tr> \n",
       "<tr><td>resultqualcode</td><td>string</td><td>Result Qualifier code. See result_qual_cv documentation</td></tr> \n",
       "<tr><td>qacode</td><td>string</td><td>QA code. See qa_cv documentation</td></tr> \n",
       "<tr><td>sampleagency</td><td>string</td><td>Code for agency that took the sample</td></tr> \n",
       "<tr><td>labagency</td><td>string</td><td>Code for agency that analyzed sample</td></tr> \n",
       "<tr><td>submittingagency</td><td>string</td><td>Code for agency that submitted sample to lab</td></tr> </table>"
      ],
      "text/plain": [
       "<Resource: metadata.csv 39:1 root.datafile data/beachwatch.csv ['beachwatch', 'Beachwatch data, with features added', '', '']>"
      ]
     },
     "execution_count": 2,
     "metadata": {},
     "output_type": "execute_result"
    }
   ],
   "source": [
    "import metapack as mp\n",
    "pkg = mp.open_package('http://library.metatab.org/sandiegodata.org-beachwatch-4.zip')\n",
    "pkg.resource('beachwatch')"
   ]
  },
  {
   "cell_type": "code",
   "execution_count": 3,
   "metadata": {},
   "outputs": [],
   "source": [
    "beachwatch =    pkg.resource('beachwatch').read_csv(parse_dates=True)\n",
    "measure_codes = pkg.resource('measure_codes').read_csv(parse_dates=True)\n",
    "stations =      pkg.resource('stations').read_csv(parse_dates=True)"
   ]
  },
  {
   "cell_type": "code",
   "execution_count": 4,
   "metadata": {},
   "outputs": [
    {
     "data": {
      "text/html": [
       "<div>\n",
       "<style scoped>\n",
       "    .dataframe tbody tr th:only-of-type {\n",
       "        vertical-align: middle;\n",
       "    }\n",
       "\n",
       "    .dataframe tbody tr th {\n",
       "        vertical-align: top;\n",
       "    }\n",
       "\n",
       "    .dataframe thead th {\n",
       "        text-align: right;\n",
       "    }\n",
       "</style>\n",
       "<table border=\"1\" class=\"dataframe\">\n",
       "  <thead>\n",
       "    <tr style=\"text-align: right;\">\n",
       "      <th></th>\n",
       "      <th>stationcode</th>\n",
       "      <th>stationgroup</th>\n",
       "      <th>sampledate</th>\n",
       "      <th>collectiontime</th>\n",
       "      <th>measure_code</th>\n",
       "      <th>analyte</th>\n",
       "      <th>methodname</th>\n",
       "      <th>unit</th>\n",
       "      <th>result</th>\n",
       "      <th>result_group_count</th>\n",
       "      <th>...</th>\n",
       "      <th>lresult_gt_lmedian</th>\n",
       "      <th>lresult_gt_lmean</th>\n",
       "      <th>lresult_lte_25pctl</th>\n",
       "      <th>lresult_gte_75pctl</th>\n",
       "      <th>labbatch</th>\n",
       "      <th>resultqualcode</th>\n",
       "      <th>qacode</th>\n",
       "      <th>sampleagency</th>\n",
       "      <th>labagency</th>\n",
       "      <th>submittingagency</th>\n",
       "    </tr>\n",
       "  </thead>\n",
       "  <tbody>\n",
       "    <tr>\n",
       "      <th>0</th>\n",
       "      <td>EH-010</td>\n",
       "      <td>EH</td>\n",
       "      <td>1999-05-26</td>\n",
       "      <td>2018-08-17</td>\n",
       "      <td>0</td>\n",
       "      <td>Coliform, Fecal</td>\n",
       "      <td>MTF</td>\n",
       "      <td>MPN/100 mL</td>\n",
       "      <td>20.0</td>\n",
       "      <td>213</td>\n",
       "      <td>...</td>\n",
       "      <td>0.0</td>\n",
       "      <td>0.0</td>\n",
       "      <td>0.0</td>\n",
       "      <td>1.0</td>\n",
       "      <td>SH-5/26/1999</td>\n",
       "      <td>&lt;</td>\n",
       "      <td>NR</td>\n",
       "      <td>SDCDEH</td>\n",
       "      <td>SDCDEH</td>\n",
       "      <td>SDCDEH</td>\n",
       "    </tr>\n",
       "    <tr>\n",
       "      <th>1</th>\n",
       "      <td>EH-010</td>\n",
       "      <td>EH</td>\n",
       "      <td>1999-10-13</td>\n",
       "      <td>2018-08-17</td>\n",
       "      <td>0</td>\n",
       "      <td>Coliform, Fecal</td>\n",
       "      <td>MTF</td>\n",
       "      <td>MPN/100 mL</td>\n",
       "      <td>0.0</td>\n",
       "      <td>213</td>\n",
       "      <td>...</td>\n",
       "      <td>0.0</td>\n",
       "      <td>0.0</td>\n",
       "      <td>0.0</td>\n",
       "      <td>0.0</td>\n",
       "      <td>SH-10/13/1999</td>\n",
       "      <td>=</td>\n",
       "      <td>NR</td>\n",
       "      <td>SDCDEH</td>\n",
       "      <td>SDCDEH</td>\n",
       "      <td>SDCDEH</td>\n",
       "    </tr>\n",
       "    <tr>\n",
       "      <th>2</th>\n",
       "      <td>EH-010</td>\n",
       "      <td>EH</td>\n",
       "      <td>1999-10-26</td>\n",
       "      <td>2018-08-17</td>\n",
       "      <td>0</td>\n",
       "      <td>Coliform, Fecal</td>\n",
       "      <td>MTF</td>\n",
       "      <td>MPN/100 mL</td>\n",
       "      <td>20.0</td>\n",
       "      <td>213</td>\n",
       "      <td>...</td>\n",
       "      <td>0.0</td>\n",
       "      <td>0.0</td>\n",
       "      <td>0.0</td>\n",
       "      <td>1.0</td>\n",
       "      <td>SH-10/26/1999</td>\n",
       "      <td>&lt;</td>\n",
       "      <td>NR</td>\n",
       "      <td>SDCDEH</td>\n",
       "      <td>SDCDEH</td>\n",
       "      <td>SDCDEH</td>\n",
       "    </tr>\n",
       "    <tr>\n",
       "      <th>3</th>\n",
       "      <td>EH-010</td>\n",
       "      <td>EH</td>\n",
       "      <td>2000-03-21</td>\n",
       "      <td>2018-08-17</td>\n",
       "      <td>0</td>\n",
       "      <td>Coliform, Fecal</td>\n",
       "      <td>MTF</td>\n",
       "      <td>MPN/100 mL</td>\n",
       "      <td>20.0</td>\n",
       "      <td>213</td>\n",
       "      <td>...</td>\n",
       "      <td>0.0</td>\n",
       "      <td>0.0</td>\n",
       "      <td>0.0</td>\n",
       "      <td>1.0</td>\n",
       "      <td>SH-3/21/2000</td>\n",
       "      <td>&lt;</td>\n",
       "      <td>NR</td>\n",
       "      <td>SDCDEH</td>\n",
       "      <td>SDCDEH</td>\n",
       "      <td>SDCDEH</td>\n",
       "    </tr>\n",
       "    <tr>\n",
       "      <th>4</th>\n",
       "      <td>EH-010</td>\n",
       "      <td>EH</td>\n",
       "      <td>2000-05-24</td>\n",
       "      <td>2018-08-17</td>\n",
       "      <td>0</td>\n",
       "      <td>Coliform, Fecal</td>\n",
       "      <td>MTF</td>\n",
       "      <td>MPN/100 mL</td>\n",
       "      <td>230.0</td>\n",
       "      <td>213</td>\n",
       "      <td>...</td>\n",
       "      <td>1.0</td>\n",
       "      <td>1.0</td>\n",
       "      <td>0.0</td>\n",
       "      <td>1.0</td>\n",
       "      <td>SH-5/24/2000</td>\n",
       "      <td>=</td>\n",
       "      <td>NR</td>\n",
       "      <td>SDCDEH</td>\n",
       "      <td>SDCDEH</td>\n",
       "      <td>SDCDEH</td>\n",
       "    </tr>\n",
       "  </tbody>\n",
       "</table>\n",
       "<p>5 rows × 35 columns</p>\n",
       "</div>"
      ],
      "text/plain": [
       "  stationcode stationgroup sampledate collectiontime  measure_code  \\\n",
       "0      EH-010           EH 1999-05-26     2018-08-17             0   \n",
       "1      EH-010           EH 1999-10-13     2018-08-17             0   \n",
       "2      EH-010           EH 1999-10-26     2018-08-17             0   \n",
       "3      EH-010           EH 2000-03-21     2018-08-17             0   \n",
       "4      EH-010           EH 2000-05-24     2018-08-17             0   \n",
       "\n",
       "           analyte methodname        unit  result  result_group_count  \\\n",
       "0  Coliform, Fecal        MTF  MPN/100 mL    20.0                 213   \n",
       "1  Coliform, Fecal        MTF  MPN/100 mL     0.0                 213   \n",
       "2  Coliform, Fecal        MTF  MPN/100 mL    20.0                 213   \n",
       "3  Coliform, Fecal        MTF  MPN/100 mL    20.0                 213   \n",
       "4  Coliform, Fecal        MTF  MPN/100 mL   230.0                 213   \n",
       "\n",
       "         ...         lresult_gt_lmedian  lresult_gt_lmean  lresult_lte_25pctl  \\\n",
       "0        ...                        0.0               0.0                 0.0   \n",
       "1        ...                        0.0               0.0                 0.0   \n",
       "2        ...                        0.0               0.0                 0.0   \n",
       "3        ...                        0.0               0.0                 0.0   \n",
       "4        ...                        1.0               1.0                 0.0   \n",
       "\n",
       "   lresult_gte_75pctl       labbatch  resultqualcode  qacode  sampleagency  \\\n",
       "0                 1.0   SH-5/26/1999               <      NR        SDCDEH   \n",
       "1                 0.0  SH-10/13/1999               =      NR        SDCDEH   \n",
       "2                 1.0  SH-10/26/1999               <      NR        SDCDEH   \n",
       "3                 1.0   SH-3/21/2000               <      NR        SDCDEH   \n",
       "4                 1.0   SH-5/24/2000               =      NR        SDCDEH   \n",
       "\n",
       "   labagency  submittingagency  \n",
       "0     SDCDEH            SDCDEH  \n",
       "1     SDCDEH            SDCDEH  \n",
       "2     SDCDEH            SDCDEH  \n",
       "3     SDCDEH            SDCDEH  \n",
       "4     SDCDEH            SDCDEH  \n",
       "\n",
       "[5 rows x 35 columns]"
      ]
     },
     "execution_count": 4,
     "metadata": {},
     "output_type": "execute_result"
    }
   ],
   "source": [
    "beachwatch.head()"
   ]
  },
  {
   "cell_type": "code",
   "execution_count": 5,
   "metadata": {},
   "outputs": [
    {
     "data": {
      "text/plain": [
       "0.0    136183\n",
       "1.0     66074\n",
       "Name: lresult_gt_lmedian, dtype: int64"
      ]
     },
     "execution_count": 5,
     "metadata": {},
     "output_type": "execute_result"
    }
   ],
   "source": [
    "beachwatch.lresult_gt_lmedian.value_counts(dropna=False)"
   ]
  },
  {
   "cell_type": "markdown",
   "metadata": {},
   "source": [
    "Most of the time, when a result is creater than the mean, it is also greater than the median, and when it is less than the mean, it is also less than the median. "
   ]
  },
  {
   "cell_type": "code",
   "execution_count": 6,
   "metadata": {},
   "outputs": [
    {
     "data": {
      "text/plain": [
       "0.043489224105964196"
      ]
     },
     "execution_count": 6,
     "metadata": {},
     "output_type": "execute_result"
    }
   ],
   "source": [
    "# Proportion of gt_mean and gt_median that are different. \n",
    "_1 = beachwatch[['lresult_gt_lmedian','lresult_gt_lmedian']].dropna()\n",
    "\n",
    "len(_1[beachwatch.lresult_gt_lmedian != beachwatch.lresult_gt_lmean])/len(_1)\n"
   ]
  },
  {
   "cell_type": "markdown",
   "metadata": {},
   "source": [
    "# Merge in environmental data\n",
    "\n",
    "Now we can merge in the rain, river and tides dataset. \n"
   ]
  },
  {
   "cell_type": "code",
   "execution_count": 7,
   "metadata": {},
   "outputs": [],
   "source": [
    "env_pkg = mp.open_package('http://library.metatab.org/sandiegodata.org-tides_rain_river-6.zip')"
   ]
  },
  {
   "cell_type": "code",
   "execution_count": 8,
   "metadata": {},
   "outputs": [
    {
     "data": {
      "text/html": [
       "<h3><a name=\"resource-tides_river_rain\"></a>tides_river_rain</h3><p><a target=\"_blank\" href=\"file:///home/jovyan/.local/share/metapack/library.metatab.org/sandiegodata.org-tides_rain_river-6.zip_d/sandiegodata.org-tides_rain_river-6/data/tides_river_rain.csv\">file:///home/jovyan/.local/share/metapack/library.metatab.org/sandiegodata.org-tides_rain_river-6.zip_d/sandiegodata.org-tides_rain_river-6/data/tides_river_rain.csv</a></p><table>\n",
       "<tr><th>Header</th><th>Type</th><th>Description</th></tr><tr><td>date</td><td>date</td><td>date</td></tr> \n",
       "<tr><td>discharge_rate</td><td>number</td><td>Discharge rate, in cubic feet per second, for the San Diego River at Fashion Valley</td></tr> \n",
       "<tr><td>recent_total_discharge</td><td>number</td><td>Rolling three day sum of discharge_rate</td></tr> \n",
       "<tr><td>recent_max_discharge</td><td>number</td><td>Rolling three day max of discharge_rate</td></tr> \n",
       "<tr><td>dailyprecip</td><td>string</td><td>Daily precipitation, in inches, at Lindberg Field</td></tr> \n",
       "<tr><td>recent_precip</td><td>number</td><td>Rolling three day sum of dailyprecip</td></tr> \n",
       "<tr><td>wl_max</td><td>string</td><td>Max ocean water level, in feet, at La Jolla</td></tr> \n",
       "<tr><td>wl_min</td><td>string</td><td>Min water level, in feet, at La Jolla</td></tr> </table>"
      ],
      "text/plain": [
       "<Resource: metadata.csv 32:1 root.datafile data/tides_river_rain.csv ['tides_river_rain', 'Combined max, min tides, San Diego river flow and daily precipitation', '']>"
      ]
     },
     "execution_count": 8,
     "metadata": {},
     "output_type": "execute_result"
    }
   ],
   "source": [
    "env_pkg.resource('tides_river_rain')"
   ]
  },
  {
   "cell_type": "code",
   "execution_count": 9,
   "metadata": {},
   "outputs": [
    {
     "data": {
      "text/html": [
       "<div>\n",
       "<style scoped>\n",
       "    .dataframe tbody tr th:only-of-type {\n",
       "        vertical-align: middle;\n",
       "    }\n",
       "\n",
       "    .dataframe tbody tr th {\n",
       "        vertical-align: top;\n",
       "    }\n",
       "\n",
       "    .dataframe thead th {\n",
       "        text-align: right;\n",
       "    }\n",
       "</style>\n",
       "<table border=\"1\" class=\"dataframe\">\n",
       "  <thead>\n",
       "    <tr style=\"text-align: right;\">\n",
       "      <th></th>\n",
       "      <th>discharge_rate</th>\n",
       "      <th>recent_total_discharge</th>\n",
       "      <th>recent_max_discharge</th>\n",
       "      <th>dailyprecip</th>\n",
       "      <th>recent_precip</th>\n",
       "      <th>wl_max</th>\n",
       "      <th>wl_min</th>\n",
       "    </tr>\n",
       "    <tr>\n",
       "      <th>date</th>\n",
       "      <th></th>\n",
       "      <th></th>\n",
       "      <th></th>\n",
       "      <th></th>\n",
       "      <th></th>\n",
       "      <th></th>\n",
       "      <th></th>\n",
       "    </tr>\n",
       "  </thead>\n",
       "  <tbody>\n",
       "    <tr>\n",
       "      <th>1988-01-01</th>\n",
       "      <td>22.0</td>\n",
       "      <td>22.0</td>\n",
       "      <td>22.0</td>\n",
       "      <td>NaN</td>\n",
       "      <td>NaN</td>\n",
       "      <td>NaN</td>\n",
       "      <td>NaN</td>\n",
       "    </tr>\n",
       "    <tr>\n",
       "      <th>1988-01-02</th>\n",
       "      <td>20.0</td>\n",
       "      <td>42.0</td>\n",
       "      <td>42.0</td>\n",
       "      <td>NaN</td>\n",
       "      <td>NaN</td>\n",
       "      <td>NaN</td>\n",
       "      <td>NaN</td>\n",
       "    </tr>\n",
       "    <tr>\n",
       "      <th>1988-01-03</th>\n",
       "      <td>18.0</td>\n",
       "      <td>60.0</td>\n",
       "      <td>60.0</td>\n",
       "      <td>NaN</td>\n",
       "      <td>NaN</td>\n",
       "      <td>NaN</td>\n",
       "      <td>NaN</td>\n",
       "    </tr>\n",
       "    <tr>\n",
       "      <th>1988-01-04</th>\n",
       "      <td>18.0</td>\n",
       "      <td>56.0</td>\n",
       "      <td>60.0</td>\n",
       "      <td>NaN</td>\n",
       "      <td>NaN</td>\n",
       "      <td>NaN</td>\n",
       "      <td>NaN</td>\n",
       "    </tr>\n",
       "    <tr>\n",
       "      <th>1988-01-05</th>\n",
       "      <td>21.0</td>\n",
       "      <td>57.0</td>\n",
       "      <td>60.0</td>\n",
       "      <td>NaN</td>\n",
       "      <td>NaN</td>\n",
       "      <td>NaN</td>\n",
       "      <td>NaN</td>\n",
       "    </tr>\n",
       "  </tbody>\n",
       "</table>\n",
       "</div>"
      ],
      "text/plain": [
       "            discharge_rate  recent_total_discharge  recent_max_discharge  \\\n",
       "date                                                                       \n",
       "1988-01-01            22.0                    22.0                  22.0   \n",
       "1988-01-02            20.0                    42.0                  42.0   \n",
       "1988-01-03            18.0                    60.0                  60.0   \n",
       "1988-01-04            18.0                    56.0                  60.0   \n",
       "1988-01-05            21.0                    57.0                  60.0   \n",
       "\n",
       "            dailyprecip  recent_precip  wl_max  wl_min  \n",
       "date                                                    \n",
       "1988-01-01          NaN            NaN     NaN     NaN  \n",
       "1988-01-02          NaN            NaN     NaN     NaN  \n",
       "1988-01-03          NaN            NaN     NaN     NaN  \n",
       "1988-01-04          NaN            NaN     NaN     NaN  \n",
       "1988-01-05          NaN            NaN     NaN     NaN  "
      ]
     },
     "execution_count": 9,
     "metadata": {},
     "output_type": "execute_result"
    }
   ],
   "source": [
    "trr = env_pkg.resource('tides_river_rain').read_csv(parse_dates=True).set_index('date')\n",
    "trr.head()"
   ]
  },
  {
   "cell_type": "markdown",
   "metadata": {},
   "source": [
    "We're going to use ``recent_precipt``, a three day rolling average, rather than ``dailyprecip`` because the bacteria samples are sporadic, and we don't want to use only measurements that were taken on the same day as rainfall, especially if a recent rainfall will increase the bacteria counts. "
   ]
  },
  {
   "cell_type": "code",
   "execution_count": 42,
   "metadata": {},
   "outputs": [
    {
     "data": {
      "text/plain": [
       "<matplotlib.axes._subplots.AxesSubplot at 0x7fe2af7c9ef0>"
      ]
     },
     "execution_count": 42,
     "metadata": {},
     "output_type": "execute_result"
    },
    {
     "data": {
      "image/png": "[encoded data removed]",
      "text/plain": [
       "<Figure size 432x288 with 1 Axes>"
      ]
     },
     "metadata": {},
     "output_type": "display_data"
    }
   ],
   "source": [
    "trr.loc['2007':'2008'].recent_precip.plot()"
   ]
  },
  {
   "cell_type": "code",
   "execution_count": 43,
   "metadata": {},
   "outputs": [
    {
     "data": {
      "text/plain": [
       "<matplotlib.axes._subplots.AxesSubplot at 0x7fe2a445c320>"
      ]
     },
     "execution_count": 43,
     "metadata": {},
     "output_type": "execute_result"
    },
    {
     "data": {
      "image/png": "[encoded data removed]",
      "text/plain": [
       "<Figure size 432x288 with 1 Axes>"
      ]
     },
     "metadata": {},
     "output_type": "display_data"
    }
   ],
   "source": [
    "trr.groupby(by=[trr.index.month, trr.index.year]).sum().recent_precip.plot()"
   ]
  },
  {
   "cell_type": "code",
   "execution_count": 41,
   "metadata": {},
   "outputs": [
    {
     "data": {
      "text/plain": [
       "(42, 144)"
      ]
     },
     "execution_count": 41,
     "metadata": {},
     "output_type": "execute_result"
    }
   ],
   "source": [
    "bw_env = beachwatch.set_index('sampledate').join(trr)\n",
    "bw_env['high_flow'] =  (bw_env.recent_total_discharge > bw_env.recent_total_discharge.median()).astype(int)\n",
    "bw_env['ldischarge_rate'] = np.log(bw_env.discharge_rate)\n"
   ]
  },
  {
   "cell_type": "code",
   "execution_count": 13,
   "metadata": {},
   "outputs": [
    {
     "data": {
      "text/html": [
       "<div>\n",
       "<style scoped>\n",
       "    .dataframe tbody tr th:only-of-type {\n",
       "        vertical-align: middle;\n",
       "    }\n",
       "\n",
       "    .dataframe tbody tr th {\n",
       "        vertical-align: top;\n",
       "    }\n",
       "\n",
       "    .dataframe thead th {\n",
       "        text-align: right;\n",
       "    }\n",
       "</style>\n",
       "<table border=\"1\" class=\"dataframe\">\n",
       "  <thead>\n",
       "    <tr style=\"text-align: right;\">\n",
       "      <th></th>\n",
       "      <th>stationcode</th>\n",
       "      <th>stationgroup</th>\n",
       "      <th>collectiontime</th>\n",
       "      <th>measure_code</th>\n",
       "      <th>analyte</th>\n",
       "      <th>methodname</th>\n",
       "      <th>unit</th>\n",
       "      <th>result</th>\n",
       "      <th>result_group_count</th>\n",
       "      <th>result_group_std</th>\n",
       "      <th>...</th>\n",
       "      <th>submittingagency</th>\n",
       "      <th>discharge_rate</th>\n",
       "      <th>recent_total_discharge</th>\n",
       "      <th>recent_max_discharge</th>\n",
       "      <th>dailyprecip</th>\n",
       "      <th>recent_precip</th>\n",
       "      <th>wl_max</th>\n",
       "      <th>wl_min</th>\n",
       "      <th>high_flow</th>\n",
       "      <th>ldischarge_rate</th>\n",
       "    </tr>\n",
       "  </thead>\n",
       "  <tbody>\n",
       "    <tr>\n",
       "      <th>1998-07-21</th>\n",
       "      <td>SE-010</td>\n",
       "      <td>SE</td>\n",
       "      <td>2018-08-17</td>\n",
       "      <td>0</td>\n",
       "      <td>Coliform, Fecal</td>\n",
       "      <td>MTF</td>\n",
       "      <td>MPN/100 mL</td>\n",
       "      <td>4.0</td>\n",
       "      <td>527</td>\n",
       "      <td>225.561709</td>\n",
       "      <td>...</td>\n",
       "      <td>SEJPA</td>\n",
       "      <td>8.8</td>\n",
       "      <td>27.0</td>\n",
       "      <td>27.4</td>\n",
       "      <td>NaN</td>\n",
       "      <td>NaN</td>\n",
       "      <td>NaN</td>\n",
       "      <td>NaN</td>\n",
       "      <td>1</td>\n",
       "      <td>2.174752</td>\n",
       "    </tr>\n",
       "    <tr>\n",
       "      <th>1998-07-21</th>\n",
       "      <td>SE-010</td>\n",
       "      <td>SE</td>\n",
       "      <td>2018-08-17</td>\n",
       "      <td>9</td>\n",
       "      <td>Coliform, Total</td>\n",
       "      <td>MTF</td>\n",
       "      <td>MPN/100 mL</td>\n",
       "      <td>4.0</td>\n",
       "      <td>530</td>\n",
       "      <td>309.086717</td>\n",
       "      <td>...</td>\n",
       "      <td>SEJPA</td>\n",
       "      <td>8.8</td>\n",
       "      <td>27.0</td>\n",
       "      <td>27.4</td>\n",
       "      <td>NaN</td>\n",
       "      <td>NaN</td>\n",
       "      <td>NaN</td>\n",
       "      <td>NaN</td>\n",
       "      <td>1</td>\n",
       "      <td>2.174752</td>\n",
       "    </tr>\n",
       "    <tr>\n",
       "      <th>1998-07-21</th>\n",
       "      <td>SE-010</td>\n",
       "      <td>SE</td>\n",
       "      <td>2018-08-17</td>\n",
       "      <td>26</td>\n",
       "      <td>Enterococcus</td>\n",
       "      <td>MTF</td>\n",
       "      <td>MPN/100 mL</td>\n",
       "      <td>2.0</td>\n",
       "      <td>488</td>\n",
       "      <td>148.631518</td>\n",
       "      <td>...</td>\n",
       "      <td>SEJPA</td>\n",
       "      <td>8.8</td>\n",
       "      <td>27.0</td>\n",
       "      <td>27.4</td>\n",
       "      <td>NaN</td>\n",
       "      <td>NaN</td>\n",
       "      <td>NaN</td>\n",
       "      <td>NaN</td>\n",
       "      <td>1</td>\n",
       "      <td>2.174752</td>\n",
       "    </tr>\n",
       "    <tr>\n",
       "      <th>1998-07-21</th>\n",
       "      <td>SE-020</td>\n",
       "      <td>SE</td>\n",
       "      <td>2018-08-17</td>\n",
       "      <td>0</td>\n",
       "      <td>Coliform, Fecal</td>\n",
       "      <td>MTF</td>\n",
       "      <td>MPN/100 mL</td>\n",
       "      <td>23.0</td>\n",
       "      <td>477</td>\n",
       "      <td>128.262880</td>\n",
       "      <td>...</td>\n",
       "      <td>SEJPA</td>\n",
       "      <td>8.8</td>\n",
       "      <td>27.0</td>\n",
       "      <td>27.4</td>\n",
       "      <td>NaN</td>\n",
       "      <td>NaN</td>\n",
       "      <td>NaN</td>\n",
       "      <td>NaN</td>\n",
       "      <td>1</td>\n",
       "      <td>2.174752</td>\n",
       "    </tr>\n",
       "    <tr>\n",
       "      <th>1998-07-21</th>\n",
       "      <td>SE-020</td>\n",
       "      <td>SE</td>\n",
       "      <td>2018-08-17</td>\n",
       "      <td>9</td>\n",
       "      <td>Coliform, Total</td>\n",
       "      <td>MTF</td>\n",
       "      <td>MPN/100 mL</td>\n",
       "      <td>23.0</td>\n",
       "      <td>477</td>\n",
       "      <td>263.711243</td>\n",
       "      <td>...</td>\n",
       "      <td>SEJPA</td>\n",
       "      <td>8.8</td>\n",
       "      <td>27.0</td>\n",
       "      <td>27.4</td>\n",
       "      <td>NaN</td>\n",
       "      <td>NaN</td>\n",
       "      <td>NaN</td>\n",
       "      <td>NaN</td>\n",
       "      <td>1</td>\n",
       "      <td>2.174752</td>\n",
       "    </tr>\n",
       "  </tbody>\n",
       "</table>\n",
       "<p>5 rows × 43 columns</p>\n",
       "</div>"
      ],
      "text/plain": [
       "           stationcode stationgroup collectiontime  measure_code  \\\n",
       "1998-07-21      SE-010           SE     2018-08-17             0   \n",
       "1998-07-21      SE-010           SE     2018-08-17             9   \n",
       "1998-07-21      SE-010           SE     2018-08-17            26   \n",
       "1998-07-21      SE-020           SE     2018-08-17             0   \n",
       "1998-07-21      SE-020           SE     2018-08-17             9   \n",
       "\n",
       "                    analyte methodname        unit  result  \\\n",
       "1998-07-21  Coliform, Fecal        MTF  MPN/100 mL     4.0   \n",
       "1998-07-21  Coliform, Total        MTF  MPN/100 mL     4.0   \n",
       "1998-07-21     Enterococcus        MTF  MPN/100 mL     2.0   \n",
       "1998-07-21  Coliform, Fecal        MTF  MPN/100 mL    23.0   \n",
       "1998-07-21  Coliform, Total        MTF  MPN/100 mL    23.0   \n",
       "\n",
       "            result_group_count  result_group_std       ...         \\\n",
       "1998-07-21                 527        225.561709       ...          \n",
       "1998-07-21                 530        309.086717       ...          \n",
       "1998-07-21                 488        148.631518       ...          \n",
       "1998-07-21                 477        128.262880       ...          \n",
       "1998-07-21                 477        263.711243       ...          \n",
       "\n",
       "            submittingagency  discharge_rate  recent_total_discharge  \\\n",
       "1998-07-21             SEJPA             8.8                    27.0   \n",
       "1998-07-21             SEJPA             8.8                    27.0   \n",
       "1998-07-21             SEJPA             8.8                    27.0   \n",
       "1998-07-21             SEJPA             8.8                    27.0   \n",
       "1998-07-21             SEJPA             8.8                    27.0   \n",
       "\n",
       "            recent_max_discharge  dailyprecip  recent_precip  wl_max  wl_min  \\\n",
       "1998-07-21                  27.4          NaN            NaN     NaN     NaN   \n",
       "1998-07-21                  27.4          NaN            NaN     NaN     NaN   \n",
       "1998-07-21                  27.4          NaN            NaN     NaN     NaN   \n",
       "1998-07-21                  27.4          NaN            NaN     NaN     NaN   \n",
       "1998-07-21                  27.4          NaN            NaN     NaN     NaN   \n",
       "\n",
       "            high_flow  ldischarge_rate  \n",
       "1998-07-21          1         2.174752  \n",
       "1998-07-21          1         2.174752  \n",
       "1998-07-21          1         2.174752  \n",
       "1998-07-21          1         2.174752  \n",
       "1998-07-21          1         2.174752  \n",
       "\n",
       "[5 rows x 43 columns]"
      ]
     },
     "execution_count": 13,
     "metadata": {},
     "output_type": "execute_result"
    }
   ],
   "source": [
    "bw_env.head()"
   ]
  },
  {
   "cell_type": "markdown",
   "metadata": {},
   "source": [
    "## Sanity Checking and Exploration\n",
    "\n",
    "Let's look at a few of the variables to see if they are sensible. "
   ]
  },
  {
   "cell_type": "code",
   "execution_count": 14,
   "metadata": {},
   "outputs": [
    {
     "data": {
      "text/plain": [
       "(8440, 0.041729087250379465)"
      ]
     },
     "execution_count": 14,
     "metadata": {},
     "output_type": "execute_result"
    }
   ],
   "source": [
    "# The values are 1 or 0, so a sum is equivalent to a count. \n",
    "sum(bw_env.recent_precip > 0.0), sum(bw_env.recent_precip > 0.0)/len(bw_env)"
   ]
  },
  {
   "cell_type": "markdown",
   "metadata": {},
   "source": [
    "The mean discharge rate is a lot larger for the above mean results compared to the below mean results. "
   ]
  },
  {
   "cell_type": "code",
   "execution_count": 15,
   "metadata": {},
   "outputs": [
    {
     "data": {
      "text/html": [
       "<div>\n",
       "<style scoped>\n",
       "    .dataframe tbody tr th:only-of-type {\n",
       "        vertical-align: middle;\n",
       "    }\n",
       "\n",
       "    .dataframe tbody tr th {\n",
       "        vertical-align: top;\n",
       "    }\n",
       "\n",
       "    .dataframe thead th {\n",
       "        text-align: right;\n",
       "    }\n",
       "</style>\n",
       "<table border=\"1\" class=\"dataframe\">\n",
       "  <thead>\n",
       "    <tr style=\"text-align: right;\">\n",
       "      <th></th>\n",
       "      <th>lresult_gt_lmean</th>\n",
       "      <th>discharge_rate</th>\n",
       "    </tr>\n",
       "  </thead>\n",
       "  <tbody>\n",
       "    <tr>\n",
       "      <th>0</th>\n",
       "      <td>0.0</td>\n",
       "      <td>10.482232</td>\n",
       "    </tr>\n",
       "    <tr>\n",
       "      <th>1</th>\n",
       "      <td>1.0</td>\n",
       "      <td>47.200024</td>\n",
       "    </tr>\n",
       "  </tbody>\n",
       "</table>\n",
       "</div>"
      ],
      "text/plain": [
       "   lresult_gt_lmean  discharge_rate\n",
       "0               0.0       10.482232\n",
       "1               1.0       47.200024"
      ]
     },
     "execution_count": 15,
     "metadata": {},
     "output_type": "execute_result"
    }
   ],
   "source": [
    "bw_env.groupby('lresult_gt_lmean').mean().discharge_rate.reset_index()"
   ]
  },
  {
   "cell_type": "markdown",
   "metadata": {},
   "source": [
    "However, it looks like all of that difference is due to a small number of high-flow events. Both plots have very long tails. "
   ]
  },
  {
   "cell_type": "code",
   "execution_count": 16,
   "metadata": {},
   "outputs": [
    {
     "data": {
      "image/png": "[encoded data removed]",
      "text/plain": [
       "<Figure size 432x288 with 1 Axes>"
      ]
     },
     "metadata": {},
     "output_type": "display_data"
    }
   ],
   "source": [
    "ax = sns.violinplot(x=bw_env.lresult_gt_lmedian, y=bw_env.discharge_rate)"
   ]
  },
  {
   "cell_type": "markdown",
   "metadata": {},
   "source": [
    "Looking at the plot of the log discharge reveals the patterns better."
   ]
  },
  {
   "cell_type": "code",
   "execution_count": 17,
   "metadata": {},
   "outputs": [
    {
     "data": {
      "image/png": "[encoded data removed]",
      "text/plain": [
       "<Figure size 432x288 with 1 Axes>"
      ]
     },
     "metadata": {},
     "output_type": "display_data"
    }
   ],
   "source": [
    "ax = sns.violinplot(x=bw_env.lresult_gt_lmedian, y=bw_env.ldischarge_rate)"
   ]
  },
  {
   "cell_type": "code",
   "execution_count": 18,
   "metadata": {},
   "outputs": [
    {
     "data": {
      "text/html": [
       "<div>\n",
       "<style scoped>\n",
       "    .dataframe tbody tr th:only-of-type {\n",
       "        vertical-align: middle;\n",
       "    }\n",
       "\n",
       "    .dataframe tbody tr th {\n",
       "        vertical-align: top;\n",
       "    }\n",
       "\n",
       "    .dataframe thead th {\n",
       "        text-align: right;\n",
       "    }\n",
       "</style>\n",
       "<table border=\"1\" class=\"dataframe\">\n",
       "  <thead>\n",
       "    <tr style=\"text-align: right;\">\n",
       "      <th></th>\n",
       "      <th>mean</th>\n",
       "      <th>std</th>\n",
       "      <th>median</th>\n",
       "    </tr>\n",
       "    <tr>\n",
       "      <th>lresult_gt_lmean</th>\n",
       "      <th></th>\n",
       "      <th></th>\n",
       "      <th></th>\n",
       "    </tr>\n",
       "  </thead>\n",
       "  <tbody>\n",
       "    <tr>\n",
       "      <th>0.0</th>\n",
       "      <td>10.482232</td>\n",
       "      <td>36.187658</td>\n",
       "      <td>3.15</td>\n",
       "    </tr>\n",
       "    <tr>\n",
       "      <th>1.0</th>\n",
       "      <td>47.200024</td>\n",
       "      <td>195.216645</td>\n",
       "      <td>5.70</td>\n",
       "    </tr>\n",
       "  </tbody>\n",
       "</table>\n",
       "</div>"
      ],
      "text/plain": [
       "                       mean         std  median\n",
       "lresult_gt_lmean                               \n",
       "0.0               10.482232   36.187658    3.15\n",
       "1.0               47.200024  195.216645    5.70"
      ]
     },
     "execution_count": 18,
     "metadata": {},
     "output_type": "execute_result"
    }
   ],
   "source": [
    "bw_env.groupby('lresult_gt_lmean').discharge_rate.agg(['mean','std','median'])"
   ]
  },
  {
   "cell_type": "code",
   "execution_count": 19,
   "metadata": {},
   "outputs": [
    {
     "data": {
      "text/plain": [
       "lresult_gt_lmean\n",
       "0.0    0.024758\n",
       "1.0    0.129421\n",
       "Name: recent_precip, dtype: float64"
      ]
     },
     "execution_count": 19,
     "metadata": {},
     "output_type": "execute_result"
    }
   ],
   "source": [
    "bw_env.groupby('lresult_gt_lmean').mean().recent_precip"
   ]
  },
  {
   "cell_type": "code",
   "execution_count": 20,
   "metadata": {},
   "outputs": [
    {
     "data": {
      "text/plain": [
       "<matplotlib.axes._subplots.AxesSubplot at 0x7fe2af7e5898>"
      ]
     },
     "execution_count": 20,
     "metadata": {},
     "output_type": "execute_result"
    },
    {
     "data": {
      "image/png": "[encoded data removed]",
      "text/plain": [
       "<Figure size 432x288 with 1 Axes>"
      ]
     },
     "metadata": {},
     "output_type": "display_data"
    }
   ],
   "source": [
    "pd.crosstab(bw_env.lresult_gt_lmedian, bw_env.recent_precip > 0.01 ).plot(kind='bar')"
   ]
  },
  {
   "cell_type": "markdown",
   "metadata": {},
   "source": [
    "# Logistic Regressions\n",
    "\n",
    "Logistic regression produces a model for estimating the probablity of a binary dependent varaible. We will use this to determine the probability that the bacteria count result is above the group median given the recent ( 3 day rolling average) precipitation. \n",
    "\n",
    "We'll focus on measure code 24, which is the largest group of Enterroccous measurements using Enterlert. However, before running the regression, we'll set up a linear regression as an example to explain how the logistic regression works. \n",
    "\n",
    "The goal of the logistic regression is to create a curve of probabilities that the bacteria measurement will be greater than the median given the precipitation. So, if we know the preciptation, we can estimate the probability that the bacteria measurement will be high. First we'll motivate the process using the simipler method of linear regression. \n",
    "\n",
    "First, prepare a simple dataframe for the regression. Note that the y variable is binary, either 0, for not above the median, and 1 if the measurement is above the median. The X value, precipitation, is continuous. \n"
   ]
  },
  {
   "cell_type": "code",
   "execution_count": 21,
   "metadata": {},
   "outputs": [
    {
     "data": {
      "text/plain": [
       "<matplotlib.collections.PathCollection at 0x7fe2b5d1cda0>"
      ]
     },
     "execution_count": 21,
     "metadata": {},
     "output_type": "execute_result"
    },
    {
     "data": {
      "image/png": "[encoded data removed]",
      "text/plain": [
       "<Figure size 432x288 with 1 Axes>"
      ]
     },
     "metadata": {},
     "output_type": "display_data"
    }
   ],
   "source": [
    "_1 = bw_env[(bw_env.measure_code==24)]\n",
    "\n",
    "_2 = pd.DataFrame()\n",
    "\n",
    "_2['y'] = _1.lresult_gt_lmedian \n",
    "_2['X'] = _1.recent_precip.fillna(0)\n",
    "\n",
    "_2.sort_values('X', inplace=True)\n",
    "\n",
    "lr = _2\n",
    "\n",
    "plt.scatter(lr['X'],lr['y'])"
   ]
  },
  {
   "cell_type": "markdown",
   "metadata": {},
   "source": [
    "## Using Linear Regression\n",
    "\n",
    "To better explain how logistic regression works, we'll start by trying to solve the problem with linear regression. \n",
    "\n",
    "Scikit learn is just one of the many packages that provides linear regression. Here we will extract the regression coefficients ( they are stored in ``linreg`` ), and then, using ``linreg`` create a new prediction of the ``y`` variable from the ``X`` variable. \n",
    "\n",
    "Note that the ``X`` variable is referenced with an array; the fit and predict functions expect dataframes of 1 or more columns, not Series. \n"
   ]
  },
  {
   "cell_type": "code",
   "execution_count": 22,
   "metadata": {},
   "outputs": [],
   "source": [
    "# fit a linear regression model\n",
    "from sklearn.linear_model import LinearRegression\n",
    "linreg = LinearRegression()\n",
    "\n",
    "linreg.fit(lr[['X']], lr['y'])\n",
    "\n",
    "lr['predict_lin'] = linreg.predict(lr[['X']])"
   ]
  },
  {
   "cell_type": "markdown",
   "metadata": {},
   "source": [
    "Now that we have a prediction, we can plot the line and the points. The blue points are the values for precipitation,  divided into those with  rows for measurements above the median, and those with measurements below. The red line is the regression through those points, and the green is a decision curve that transitions from 0 to 1 at the point that the regression line has a y value of 0.5, the point where the expected probability of the measurement being above the median is more likely than not. \n",
    "\n",
    "Note that the red regression line extends above y=1. Since our prediction is supposed to be either 0 or 1, this is nonsense. Logistic regression instead tries to fit a logictic curve, which is 0 at x=0 and 1 when x is large, which is much more sensible. \n",
    "\n",
    "Also note that there are a lot of points for y=0 to the right of the decision line. These are points are errors,  for which the regression would predict that the result would be above the median, when in fact it was below.\n"
   ]
  },
  {
   "cell_type": "code",
   "execution_count": 23,
   "metadata": {},
   "outputs": [
    {
     "name": "stdout",
     "output_type": "stream",
     "text": [
      "[0.33075766] 0.24598895530104306\n"
     ]
    },
    {
     "data": {
      "text/plain": [
       "Text(0,0.5,'> median')"
      ]
     },
     "execution_count": 23,
     "metadata": {},
     "output_type": "execute_result"
    },
    {
     "data": {
      "image/png": "[encoded data removed]",
      "text/plain": [
       "<Figure size 432x288 with 1 Axes>"
      ]
     },
     "metadata": {},
     "output_type": "display_data"
    }
   ],
   "source": [
    "plt.scatter(lr['X'],lr['y'])\n",
    "plt.plot(lr['X'],lr['predict_lin'], color='red')  \n",
    "\n",
    "# Here is the decision line -- where the prediction linear line\n",
    "# crosses .5\n",
    "plt.plot(lr['X'], np.where(_2['predict_lin'] >= 0.5, 1, 0), color='green')\n",
    "print(linreg.coef_, linreg.intercept_)\n",
    "plt.xlabel('preciptation')\n",
    "plt.ylabel('> median')"
   ]
  },
  {
   "cell_type": "markdown",
   "metadata": {},
   "source": [
    "## Logistic Regression using Sklearn\n",
    "\n",
    "Much of the sklearn examples come from:\n",
    "\n",
    "http://nbviewer.jupyter.org/github/justmarkham/DAT8/blob/master/notebooks/12_logistic_regression.ipynb\n",
    "\n",
    "Here we tackle a similar problem to the linear regression process, but instead use logistic regression. First we will use scikit's LogisticRegression to plot the class predictions curve, then the predictied prbabilities curve.\n"
   ]
  },
  {
   "cell_type": "code",
   "execution_count": 24,
   "metadata": {},
   "outputs": [],
   "source": [
    "\n",
    "# fit a logistic regression model and store the class predictions\n",
    "from sklearn.linear_model import LogisticRegression\n",
    "logreg = LogisticRegression(C=1e9)\n",
    "\n",
    "logreg.fit(lr[['X']], lr['y'])\n",
    "lr['predict_log'] = logreg.predict(lr[['X']])"
   ]
  },
  {
   "cell_type": "markdown",
   "metadata": {},
   "source": [
    "Here are the class predictions, which transitions from 0 to 1, as in the linear regression example.\n"
   ]
  },
  {
   "cell_type": "code",
   "execution_count": 25,
   "metadata": {},
   "outputs": [
    {
     "data": {
      "image/png": "[encoded data removed]",
      "text/plain": [
       "<Figure size 432x288 with 1 Axes>"
      ]
     },
     "metadata": {},
     "output_type": "display_data"
    }
   ],
   "source": [
    "# plot the class predictions\n",
    "\n",
    "plt.scatter(lr['X'],lr['y']) # The blue dots\n",
    "\n",
    "plt.plot(lr['X'],lr['predict_log'], color='red') # The red line1\n",
    "plt.xlabel('preciptation')\n",
    "plt.ylabel('> median');"
   ]
  },
  {
   "cell_type": "markdown",
   "metadata": {},
   "source": [
    "While analysis can use the 0 or 1 class prediction curve, which always predicts either 0 or 1, it may be more realistic to generate probabilities that the value is greater than the median.  The predicted probabilities are usually an \"S curve\" -- also known as the logistic curve, from which the regression gets its name --  with a left tail that asymptotically approches 0, and 1 on the right. \n",
    "\n",
    "The curve for this dataset is a bit wacked, since it never predicts 0, regardless of how low the precipitation is. This suggests that there is some other factor that we should include in the model. However, the curve is 1 at higher precipitation values, suggesting that for higher precipitation, the other unknown factor is not so important. "
   ]
  },
  {
   "cell_type": "code",
   "execution_count": 26,
   "metadata": {},
   "outputs": [
    {
     "data": {
      "image/png": "[encoded data removed]",
      "text/plain": [
       "<Figure size 432x288 with 1 Axes>"
      ]
     },
     "metadata": {},
     "output_type": "display_data"
    }
   ],
   "source": [
    "\n",
    "# store the predicted probabilites of class 1\n",
    "lr['predict_prob'] = logreg.predict_proba(lr[['X']])[:, 1]\n",
    "\n",
    "# plot the predicted probabilities\n",
    "plt.scatter(lr['X'],lr['y'])\n",
    "\n",
    "plt.plot(lr['X'],lr['predict_prob'], color='red')\n",
    "plt.xlabel('preciptation')\n",
    "plt.ylabel('> median');"
   ]
  },
  {
   "cell_type": "code",
   "execution_count": 27,
   "metadata": {},
   "outputs": [
    {
     "data": {
      "image/png": "[encoded data removed]",
      "text/plain": [
       "<Figure size 432x288 with 1 Axes>"
      ]
     },
     "metadata": {},
     "output_type": "display_data"
    }
   ],
   "source": [
    "def sklearn_lr(y,X):\n",
    "    from sklearn.linear_model import LogisticRegression\n",
    "    logreg = LogisticRegression(C=1e9)\n",
    "\n",
    "    lr = pd.DataFrame()\n",
    "   \n",
    "    lr['X'] = X\n",
    "    lr['y'] = y\n",
    "    \n",
    "    lr.sort_values('X', inplace=True)\n",
    "    \n",
    "    logreg.fit(lr[['X']], lr['y'])\n",
    "    lr['predict_log'] = logreg.predict(lr[['X']])\n",
    "    \n",
    "    plt.scatter(lr['X'],lr['y'], color='blue') # The blue dots\n",
    "\n",
    "    plt.plot(lr['X'],lr['predict_log'], color='green') # The red line1\n",
    "    plt.xlabel('preciptation')\n",
    "    plt.ylabel('> median');\n",
    "    \n",
    "    # store the predicted probabilites of class 1\n",
    "    lr['predict_prob'] = logreg.predict_proba(lr[['X']])[:, 1]\n",
    "\n",
    "    # plot the predicted probabilities\n",
    "    plt.scatter(lr['X'],lr['y'])\n",
    "\n",
    "    plt.plot(lr['X'],lr['predict_prob'], color='red')\n",
    "    plt.xlabel('preciptation')\n",
    "    plt.ylabel('> median');\n",
    "    \n",
    "\n",
    "sklearn_lr(lr.y,lr.X)    "
   ]
  },
  {
   "cell_type": "markdown",
   "metadata": {},
   "source": [
    "\n",
    "\n",
    "Here are the coefficients, which we can compare to those of the statsmodel code in the next section.\n"
   ]
  },
  {
   "cell_type": "code",
   "execution_count": 28,
   "metadata": {},
   "outputs": [
    {
     "data": {
      "text/plain": [
       "'X coef=[1.84627449], intercept=[-1.12573655]'"
      ]
     },
     "execution_count": 28,
     "metadata": {},
     "output_type": "execute_result"
    }
   ],
   "source": [
    "\"X coef={}, intercept={}\".format(logreg.coef_[0], logreg.intercept_)\n"
   ]
  },
  {
   "cell_type": "markdown",
   "metadata": {},
   "source": [
    "# Logistic Regression Using Statsmodel\n",
    "\n",
    "Here is a function to do the same sort of logistic regression using statsmodel. \n"
   ]
  },
  {
   "cell_type": "code",
   "execution_count": 29,
   "metadata": {},
   "outputs": [],
   "source": [
    "def logit(y,X):\n",
    "    import statsmodels.api as sm\n",
    "\n",
    "    X_ = pd.DataFrame()\n",
    "   \n",
    "    X_['X'] = X\n",
    "    X_['const'] = 1\n",
    "\n",
    "    logit_model=sm.Logit(y,X_)\n",
    "    result=logit_model.fit()\n",
    "    print(result.summary())\n",
    "\n",
    "    # Odds ratio and conf interval\n",
    "    params = result.params\n",
    "    conf = result.conf_int()\n",
    "    conf['OR'] = params\n",
    "    conf.columns = ['2.5%', '97.5%', 'OR']\n",
    "    print(np.exp(conf))\n",
    "  "
   ]
  },
  {
   "cell_type": "markdown",
   "metadata": {},
   "source": [
    "Let's do the same regresion as we did in the previous section with sklear and compare the coefficients. They are the same. "
   ]
  },
  {
   "cell_type": "code",
   "execution_count": 30,
   "metadata": {},
   "outputs": [
    {
     "name": "stdout",
     "output_type": "stream",
     "text": [
      "Optimization terminated successfully.\n",
      "         Current function value: 0.558891\n",
      "         Iterations 6\n",
      "                           Logit Regression Results                           \n",
      "==============================================================================\n",
      "Dep. Variable:                      y   No. Observations:                40349\n",
      "Model:                          Logit   Df Residuals:                    40347\n",
      "Method:                           MLE   Df Model:                            1\n",
      "Date:                Fri, 17 Aug 2018   Pseudo R-squ.:                 0.01177\n",
      "Time:                        01:21:00   Log-Likelihood:                -22551.\n",
      "converged:                       True   LL-Null:                       -22819.\n",
      "                                        LLR p-value:                8.516e-119\n",
      "==============================================================================\n",
      "                 coef    std err          z      P>|z|      [0.025      0.975]\n",
      "------------------------------------------------------------------------------\n",
      "X              1.8463      0.093     19.876      0.000       1.664       2.028\n",
      "const         -1.1257      0.012    -96.229      0.000      -1.149      -1.103\n",
      "==============================================================================\n",
      "           2.5%     97.5%        OR\n",
      "X      5.281532  7.601471  6.336199\n",
      "const  0.317060  0.331938  0.324413\n"
     ]
    }
   ],
   "source": [
    "logit(lr['y'],lr['X'])"
   ]
  },
  {
   "cell_type": "markdown",
   "metadata": {},
   "source": [
    "# Logistic Regression Exploration"
   ]
  },
  {
   "cell_type": "code",
   "execution_count": 31,
   "metadata": {},
   "outputs": [
    {
     "data": {
      "image/png": "[encoded data removed]",
      "text/plain": [
       "<Figure size 432x288 with 1 Axes>"
      ]
     },
     "metadata": {},
     "output_type": "display_data"
    }
   ],
   "source": [
    "sklearn_lr(\n",
    "    y = bw_env.lresult_gt_lmedian.astype(int), \n",
    "    X = bw_env.recent_precip.fillna(0)\n",
    ")\n"
   ]
  },
  {
   "cell_type": "markdown",
   "metadata": {},
   "source": [
    "I think this means that a 1 unit ( 1 inch ) increase in the recent precipitation increases the odds of above median bacteria counts by a factor of 6. "
   ]
  },
  {
   "cell_type": "code",
   "execution_count": 32,
   "metadata": {},
   "outputs": [
    {
     "data": {
      "image/png": "[encoded data removed]",
      "text/plain": [
       "<Figure size 432x288 with 1 Axes>"
      ]
     },
     "metadata": {},
     "output_type": "display_data"
    }
   ],
   "source": [
    "sklearn_lr(\n",
    "    y = bw_env.lresult_gt_lmedian.astype(int), \n",
    "    X = bw_env.recent_precip.fillna(0)\n",
    ")"
   ]
  },
  {
   "cell_type": "markdown",
   "metadata": {},
   "source": [
    "# Rain Seasonality\n",
    "\n",
    "Maybe there is a stonger correlation to precipitation in the first rains of the season? The guess is that late in the season, pollutants and nutrients have already been washed out by the early rains, so there should be more pollution earlier in the season. \n"
   ]
  },
  {
   "cell_type": "code",
   "execution_count": 44,
   "metadata": {},
   "outputs": [
    {
     "data": {
      "text/plain": [
       "<matplotlib.axes._subplots.AxesSubplot at 0x7fe2a88ef6d8>"
      ]
     },
     "execution_count": 44,
     "metadata": {},
     "output_type": "execute_result"
    },
    {
     "data": {
      "image/png": "[encoded data removed]",
      "text/plain": [
       "<Figure size 432x288 with 1 Axes>"
      ]
     },
     "metadata": {},
     "output_type": "display_data"
    }
   ],
   "source": [
    "trr.groupby(trr.index.month).sum().recent_precip.plot()"
   ]
  },
  {
   "cell_type": "markdown",
   "metadata": {},
   "source": [
    "Here we calculate rainfall quartiles. A value of 1, the first quartile, includes all of the months of the year that have total rainfall less than the 25% percentile ( actually 30th, see comment ) while a value of 4 is months with rainfall greater than the 75% percentile. "
   ]
  },
  {
   "cell_type": "code",
   "execution_count": 45,
   "metadata": {},
   "outputs": [],
   "source": [
    "# Compute the quartile of rainfall for each month\n",
    "\n",
    "_1 = pd.qcut(trr.groupby(trr.index.month).sum().recent_precip, \n",
    "             q=[0, .3, .5, .75, 1.], # .3 not .25 to smooth out summer\n",
    "            labels=[1,2,3,4])\n",
    "\n",
    "dmap = {e['date']:e['recent_precip'] for _,e in _1.to_frame().reset_index().iterrows()}\n",
    "\n",
    "#trr.apply( lambda row: dmap[row.index.month])\n",
    "bw_env['month'] = bw_env.index.month\n",
    "bw_env['precip_month_q'] = bw_env.month.apply(lambda v: dmap[v])\n"
   ]
  },
  {
   "cell_type": "code",
   "execution_count": 46,
   "metadata": {},
   "outputs": [
    {
     "data": {
      "text/plain": [
       "<matplotlib.axes._subplots.AxesSubplot at 0x7fe2a88c65f8>"
      ]
     },
     "execution_count": 46,
     "metadata": {},
     "output_type": "execute_result"
    },
    {
     "data": {
      "image/png": "[encoded data removed]",
      "text/plain": [
       "<Figure size 432x288 with 1 Axes>"
      ]
     },
     "metadata": {},
     "output_type": "display_data"
    }
   ],
   "source": [
    "bw_env.groupby(bw_env.month).lresult_gt_lmedian.sum().plot()"
   ]
  },
  {
   "cell_type": "markdown",
   "metadata": {},
   "source": [
    "By grouping by the month quartile, we can see that days in the 75% percentile months get about 50x the rain of the 25% percentile months. "
   ]
  },
  {
   "cell_type": "code",
   "execution_count": 48,
   "metadata": {},
   "outputs": [
    {
     "data": {
      "text/plain": [
       "precip_month_q\n",
       "1    0.002756\n",
       "2    0.027152\n",
       "3    0.108754\n",
       "4    0.153864\n",
       "Name: recent_precip, dtype: float64"
      ]
     },
     "execution_count": 48,
     "metadata": {},
     "output_type": "execute_result"
    }
   ],
   "source": [
    "bw_env.groupby(bw_env['precip_month_q']).recent_precip.mean()"
   ]
  },
  {
   "cell_type": "markdown",
   "metadata": {},
   "source": [
    "However, there are more days of above median results in the 1st quartile months than in any of the others. "
   ]
  },
  {
   "cell_type": "code",
   "execution_count": 49,
   "metadata": {},
   "outputs": [
    {
     "data": {
      "text/plain": [
       "precip_month_q\n",
       "1    22320.0\n",
       "2    12355.0\n",
       "3    15814.0\n",
       "4    15585.0\n",
       "Name: lresult_gt_lmedian, dtype: float64"
      ]
     },
     "execution_count": 49,
     "metadata": {},
     "output_type": "execute_result"
    }
   ],
   "source": [
    "bw_env.groupby(bw_env['precip_month_q']).lresult_gt_lmedian.sum()"
   ]
  },
  {
   "cell_type": "code",
   "execution_count": 76,
   "metadata": {},
   "outputs": [
    {
     "data": {
      "image/png": "[encoded data removed]",
      "text/plain": [
       "<Figure size 864x576 with 1 Axes>"
      ]
     },
     "metadata": {},
     "output_type": "display_data"
    }
   ],
   "source": [
    "_1 = bw_env[(bw_env.measure_code==24)]\n",
    "\n",
    "fig, ax = plt.subplots(figsize=(12,8))\n",
    "\n",
    "ax = sns.scatterplot(ax=ax, x=\"recent_precip\", y=\"lresult\", hue=\"precip_month_q\", palette=\"Set2\", data=_1)\n"
   ]
  },
  {
   "cell_type": "markdown",
   "metadata": {},
   "source": [
    "The quantization in the chart above -- the vertical strips of points -- is very suspicious. Lets look at the records for the largest value.  It appears that there were many measreuemnts taken at many different stations, so they all share the same value for ``recent_precip``"
   ]
  },
  {
   "cell_type": "code",
   "execution_count": 77,
   "metadata": {},
   "outputs": [
    {
     "data": {
      "text/html": [
       "<div>\n",
       "<style scoped>\n",
       "    .dataframe tbody tr th:only-of-type {\n",
       "        vertical-align: middle;\n",
       "    }\n",
       "\n",
       "    .dataframe tbody tr th {\n",
       "        vertical-align: top;\n",
       "    }\n",
       "\n",
       "    .dataframe thead th {\n",
       "        text-align: right;\n",
       "    }\n",
       "</style>\n",
       "<table border=\"1\" class=\"dataframe\">\n",
       "  <thead>\n",
       "    <tr style=\"text-align: right;\">\n",
       "      <th></th>\n",
       "      <th>stationcode</th>\n",
       "      <th>measure_code</th>\n",
       "      <th>collectiontime</th>\n",
       "    </tr>\n",
       "  </thead>\n",
       "  <tbody>\n",
       "    <tr>\n",
       "      <th>2010-12-23</th>\n",
       "      <td>IB-030</td>\n",
       "      <td>2</td>\n",
       "      <td>2018-08-17 11:00:00</td>\n",
       "    </tr>\n",
       "    <tr>\n",
       "      <th>2010-12-23</th>\n",
       "      <td>IB-030</td>\n",
       "      <td>11</td>\n",
       "      <td>2018-08-17 11:00:00</td>\n",
       "    </tr>\n",
       "    <tr>\n",
       "      <th>2010-12-23</th>\n",
       "      <td>IB-030</td>\n",
       "      <td>24</td>\n",
       "      <td>2018-08-17 11:00:00</td>\n",
       "    </tr>\n",
       "    <tr>\n",
       "      <th>2010-12-23</th>\n",
       "      <td>IB-040</td>\n",
       "      <td>2</td>\n",
       "      <td>2018-08-17 11:11:00</td>\n",
       "    </tr>\n",
       "    <tr>\n",
       "      <th>2010-12-23</th>\n",
       "      <td>IB-040</td>\n",
       "      <td>11</td>\n",
       "      <td>2018-08-17 11:11:00</td>\n",
       "    </tr>\n",
       "  </tbody>\n",
       "</table>\n",
       "</div>"
      ],
      "text/plain": [
       "           stationcode  measure_code      collectiontime\n",
       "2010-12-23      IB-030             2 2018-08-17 11:00:00\n",
       "2010-12-23      IB-030            11 2018-08-17 11:00:00\n",
       "2010-12-23      IB-030            24 2018-08-17 11:00:00\n",
       "2010-12-23      IB-040             2 2018-08-17 11:11:00\n",
       "2010-12-23      IB-040            11 2018-08-17 11:11:00"
      ]
     },
     "execution_count": 77,
     "metadata": {},
     "output_type": "execute_result"
    }
   ],
   "source": [
    "bw_env[bw_env.recent_precip == bw_env.recent_precip.max()][['stationcode', 'measure_code','collectiontime']].head()"
   ]
  },
  {
   "cell_type": "markdown",
   "metadata": {},
   "source": []
  }
 ],
 "metadata": {
  "kernelspec": {
   "display_name": "Python 3",
   "language": "python",
   "name": "python3"
  },
  "language_info": {
   "codemirror_mode": {
    "name": "ipython",
    "version": 3
   },
   "file_extension": ".py",
   "mimetype": "text/x-python",
   "name": "python",
   "nbconvert_exporter": "python",
   "pygments_lexer": "ipython3",
   "version": "3.6.4"
  }
 },
 "nbformat": 4,
 "nbformat_minor": 2
}
