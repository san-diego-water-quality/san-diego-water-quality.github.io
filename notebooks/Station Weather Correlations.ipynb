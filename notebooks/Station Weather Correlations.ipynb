{
 "cells": [
  {
   "cell_type": "markdown",
   "metadata": {},
   "source": [
    "Correlations of  Beachwatch stations with Weather and River Flow"
   ]
  },
  {
   "cell_type": "code",
   "execution_count": 1,
   "metadata": {},
   "outputs": [],
   "source": [
    "import matplotlib.pyplot as plt \n",
    "import seaborn as sns\n",
    "import metapack as mp\n",
    "import pandas as pd\n",
    "import numpy as np\n",
    "from IPython.display import display \n",
    "\n",
    "%matplotlib inline\n",
    "sns.set_context('notebook')"
   ]
  },
  {
   "cell_type": "code",
   "execution_count": 2,
   "metadata": {},
   "outputs": [],
   "source": [
    "bw_pkg =  mp.open_package('http://library.metatab.org/ceden.waterboards.ca.gov-beachwatch-sandiego-2.zip')\n",
    "env_pkg =  mp.open_package('http://library.metatab.org/sandiegodata.org-water_quality-3.zip')"
   ]
  },
  {
   "cell_type": "code",
   "execution_count": 3,
   "metadata": {},
   "outputs": [
    {
     "data": {
      "text/html": [
       "<h2>Water Project Datasets</h2>\n",
       "<p><p><em>Combined datasets for the Data Library’s Water Quality Project</em></p>\n",
       "<p><small>sandiegodata.org-water_quality-3 from metapack+http://library.metatab.org/sandiegodata.org-water_quality-3.zip#metadata.csv</small></p></p>\n",
       "<p>This package combines three other datasets for use in the water quality data\n",
       "ptoject:</p>\n",
       "<pre><code>* waterservices.usgs.gov-stream_discharge-fashion_valley_sd\n",
       "* tidesandcurrents.noaa.gov-water_levels-la_jolla#water_levels\n",
       "* noaa.gov-localclimate-200808_201807-san#lcd-san\n",
       "</code></pre>\n",
       "<p>The resulting dataset has daily values for rainfall, flow rate for the San\n",
       "Diego river, and the max and min tide level at La Jolla.</p>\n",
       "<p>See the <a href=\"https://github.com/san-diego-water-quality/water-datasets/blob/master/\n",
       "sandiegodata.org-water_quality/notebooks/eda-tides_river_rain.ipynb\">EDA\n",
       "Notebook</a> for\n",
       "details of the structure of the data, in particular, the time coverage in the\n",
       "Nulls section.</p>\n",
       "<h3>Documentation</h3>\n",
       "<ul>\n",
       "<li><strong><a href=\"http://tinyurl.com/ydysjhfm\">EDA Notebook</a></strong> Exploratory Data Analysis and characterization</li>\n",
       "</ul>\n",
       "<h3>Contacts</h3>\n",
       "<p><strong>Wrangler:</strong> <a href=\"mailto:eric@civicknowledge.com\">Eric Busboom</a> <a href=\"http://civicknowledge.com\">Civic Knowledge</a></p>\n",
       "<h3>Resources</h3>\n",
       "<p><ol>\n",
       "<li><p><a target=\"_blank\" href=\"file:///home/jovyan/.local/share/metapack/library.metatab.org/sandiegodata.org-water_quality-3.zip_d/sandiegodata.org-water_quality-3/data/tides_river_rain.csv\"><strong>tides_river_rain</strong></a> Combined max, min tides, San Diego river flow and daily precipitation</p></li></p>\n",
       "</ol>\n",
       "\n",
       "<h3>References</h3>\n",
       "<p><ol>\n",
       "<li><p><a target=\"_blank\" href=\"index:waterservices.usgs.gov-stream_discharge-fashion_valley_sd#fashion_valley\"><strong>sd_river_discharge</strong></a> Stream discharge rates for the San Diego River, Fashion Valley Station.</p></li>\n",
       "<li><p><a target=\"_blank\" href=\"index:tidesandcurrents.noaa.gov-water_levels-la_jolla#water_levels\"><strong>la_jolla_tide</strong></a> High and Low Ocean water levels for the La Jolla station.</p></li>\n",
       "<li><p><a target=\"_blank\" href=\"index:noaa.gov-localclimate-200808_201807-san#lcd-san\"><strong>local_climate</strong></a> Local climate data for San Diego</p></li></p>\n",
       "</ol>"
      ],
      "text/plain": [
       "<metapack.doc.MetapackDoc at 0x7f1ed3266828>"
      ]
     },
     "execution_count": 3,
     "metadata": {},
     "output_type": "execute_result"
    }
   ],
   "source": [
    "env_pkg"
   ]
  },
  {
   "cell_type": "code",
   "execution_count": 4,
   "metadata": {},
   "outputs": [
    {
     "data": {
      "text/html": [
       "<h2>San Diego Beachwatch Data</h2>\n",
       "<p><p><em>Water quality data for San Diego county beaches.</em></p>\n",
       "<p><small>ceden.waterboards.ca.gov-beachwatch-sandiego-2 from metapack+http://library.metatab.org/ceden.waterboards.ca.gov-beachwatch-sandiego-2.zip#metadata.csv</small></p></p>\n",
       "<p>The Beachwatch data set has four bacteria measurements from 172 stations on the\n",
       "coast of San Diego county, from July 1998 to Decenber 2013. The four\n",
       "measurements are:</p>\n",
       "<ul>\n",
       "<li>Coliform, Total      66992</li>\n",
       "<li>Coliform, Fecal      65827</li>\n",
       "<li>Enterococcus         65010</li>\n",
       "<li>E. coli               4428</li>\n",
       "</ul>\n",
       "<p>There are two units for the measurements: </p>\n",
       "<ul>\n",
       "<li>MPN/100 mL: \"Most Probable Number\"</li>\n",
       "<li>cfu/100mL: \"Colony forming units\". Number of viable bacteria, excluding the dead ones. </li>\n",
       "</ul>\n",
       "<p>From <a href=\"http://www.cascadeanalytical.com/resources-downloads/faqs\">Cascade Analytical</a>:</p>\n",
       "<pre><code>What does CFU and MPN mean? A: CFU stands for 'Colony Forming Units' and\n",
       "refers to the number of viable bacterial cells in a sample per unit of\n",
       "volume. For example: 50 CFU/100 mL means 50 Colony Forming Units per 100 mL\n",
       "of sample. It is different from the direct microscopic counts that include\n",
       "both dead and living cells.\n",
       "\n",
       "MPN stands for 'Most Probable Number' and refers to a method that uses\n",
       "dilution cultures and a probability calculation to determine the\n",
       "approximate number of viable cells in a given volume of sample. It is\n",
       "useful when samples contain too few organisms for agar plates to be used or\n",
       "when organisms will not grow on agar. For example: 50 MPN/100 mL means that\n",
       "the Most Probable Number of viable cells in 100 mL of sample is 50.\n",
       "</code></pre>\n",
       "<p>I haven't found traditional data dictionary documentation, <a href=\"http://ceden.org/CEDEN_checker/Checker/LookUpLists.php\">but there are\n",
       "controlled vocabulary lists</a> online for data submitters, which explain a lot of\n",
       "the columns.</p>\n",
       "<h3>Documentation</h3>\n",
       "<ul>\n",
       "<li><strong><a href=\"https://www.waterboards.ca.gov/water_issues/programs/beaches/beach_water_quality/beaches_program.html\">overview</a></strong> Project Overview Page</li>\n",
       "<li><strong><a href=\"https://ceden.waterboards.ca.gov/AdvancedQueryTool\">source_page</a></strong> CEDEN advanced query tool page</li>\n",
       "<li><strong><a href=\"https://ceden.waterboards.ca.gov/Metadata/ControlledVocab.php\">controlled_vocab</a></strong> Controlled vocabulary search page</li>\n",
       "<li><strong><a href=\"https://ceden.waterboards.ca.gov/Metadata/get_lu_data.php?format=html&amp;table=AnalyteLU&amp;include_all=yes\">analyte_cv</a></strong> Analyte controlled vocabulary</li>\n",
       "<li><strong><a href=\"https://ceden.waterboards.ca.gov/Metadata/get_lu_data.php?format=html&amp;table=MethodLU&amp;include_all=yes\">method_cv</a></strong> Method controlled  vocabulary</li>\n",
       "<li><strong><a href=\"https://ceden.waterboards.ca.gov/Metadata/get_lu_data.php?format=html&amp;table=ResultQualityLU&amp;include_all=yes\">result_qual_cv</a></strong> Result Qualifier controlled vocabulary</li>\n",
       "<li><strong><a href=\"https://ceden.waterboards.ca.gov/Metadata/get_lu_data.php?format=html&amp;table=QA_LU&amp;include_all=yes\">qa_cv</a></strong> QA controlled vocabulary</li>\n",
       "</ul>\n",
       "<h3>Contacts</h3>\n",
       "<p><strong>Wrangler:</strong> <a href=\"mailto:eric@civicknowledge.com\">Eric Busboom</a> <a href=\"http://civicknowledge.com\">Civic Knowledge</a></p>\n",
       "<h3>Resources</h3>\n",
       "<p><ol>\n",
       "<li><p><a target=\"_blank\" href=\"file:///home/jovyan/.local/share/metapack/library.metatab.org/ceden.waterboards.ca.gov-beachwatch-sandiego-2.zip_d/ceden.waterboards.ca.gov-beachwatch-sandiego-2/data/beachwatch-sd.csv\"><strong>beachwatch-sd</strong></a> Beachwatch program for San Diego county</p></li></p>\n",
       "</ol>\n",
       "\n",
       "</ol>"
      ],
      "text/plain": [
       "<metapack.doc.MetapackDoc at 0x7f1ed33db3c8>"
      ]
     },
     "execution_count": 4,
     "metadata": {},
     "output_type": "execute_result"
    }
   ],
   "source": [
    "bw_pkg"
   ]
  },
  {
   "cell_type": "code",
   "execution_count": 5,
   "metadata": {},
   "outputs": [],
   "source": [
    "env = env_pkg.resource('tides_river_rain').read_csv(parse_dates=True)\n",
    "bw = bw_pkg.resource('beachwatch-sd').read_csv(parse_dates=True)"
   ]
  },
  {
   "cell_type": "code",
   "execution_count": 6,
   "metadata": {},
   "outputs": [],
   "source": [
    "bw['log_result'] = bw.result.apply(np.log10)\n",
    "# It looks like the prefix of the station code groups stations, maybe into watersheds. \n",
    "bw['stationgroup'] = bw.stationcode.str[:2]\n",
    "\n",
    "bw = bw[(bw.analyte == 'Coliform, Total') & (bw.unit=='MPN/100 mL')]"
   ]
  },
  {
   "cell_type": "code",
   "execution_count": 7,
   "metadata": {},
   "outputs": [
    {
     "data": {
      "text/plain": [
       "SM 9221 B      23592\n",
       "MTF            19352\n",
       "Colilert-18     4474\n",
       "SM 9222 B         93\n",
       "SM 9221 E          4\n",
       "Name: methodname, dtype: int64"
      ]
     },
     "execution_count": 7,
     "metadata": {},
     "output_type": "execute_result"
    }
   ],
   "source": [
    "\n",
    "bw.methodname.value_counts() # Does selecting on this matter?"
   ]
  },
  {
   "cell_type": "code",
   "execution_count": 8,
   "metadata": {},
   "outputs": [
    {
     "data": {
      "text/plain": [
       "stationcode\n",
       "EH-420    1259\n",
       "SE-060    1212\n",
       "OC-100    1150\n",
       "FM-010    1013\n",
       "IB-080    1008\n",
       "Name: result, dtype: int64"
      ]
     },
     "execution_count": 8,
     "metadata": {},
     "output_type": "execute_result"
    }
   ],
   "source": [
    "bw.groupby('stationcode').result.count().sort_values(ascending=False).head()"
   ]
  },
  {
   "cell_type": "code",
   "execution_count": 9,
   "metadata": {},
   "outputs": [],
   "source": [
    "sg = bw[bw.stationgroup=='PL'][['stationcode','sampledate','result']]"
   ]
  },
  {
   "cell_type": "code",
   "execution_count": 10,
   "metadata": {},
   "outputs": [
    {
     "data": {
      "text/plain": [
       "        stationcode\n",
       "result  OC-100         1055\n",
       "        IB-080         1002\n",
       "        SE-060          956\n",
       "        FM-010          940\n",
       "        EH-060          931\n",
       "dtype: int64"
      ]
     },
     "execution_count": 10,
     "metadata": {},
     "output_type": "execute_result"
    }
   ],
   "source": [
    "_ = bw[['stationcode','sampledate','result']].groupby(['stationcode', 'sampledate']).mean().unstack(0)\n",
    "#_.columns  = _.columns.get_level_values(1)\n",
    "_.notnull().sum().sort_values(ascending=False).head()\n",
    "#_.head()"
   ]
  },
  {
   "cell_type": "code",
   "execution_count": 11,
   "metadata": {},
   "outputs": [
    {
     "data": {
      "text/html": [
       "<div>\n",
       "<style scoped>\n",
       "    .dataframe tbody tr th:only-of-type {\n",
       "        vertical-align: middle;\n",
       "    }\n",
       "\n",
       "    .dataframe tbody tr th {\n",
       "        vertical-align: top;\n",
       "    }\n",
       "\n",
       "    .dataframe thead th {\n",
       "        text-align: right;\n",
       "    }\n",
       "</style>\n",
       "<table border=\"1\" class=\"dataframe\">\n",
       "  <thead>\n",
       "    <tr style=\"text-align: right;\">\n",
       "      <th>stationcode</th>\n",
       "      <th>PL-010</th>\n",
       "      <th>PL-040</th>\n",
       "      <th>PL-050</th>\n",
       "      <th>PL-070</th>\n",
       "      <th>PL-080</th>\n",
       "      <th>PL-090</th>\n",
       "      <th>PL-100</th>\n",
       "      <th>PL-110</th>\n",
       "      <th>PL-120</th>\n",
       "    </tr>\n",
       "    <tr>\n",
       "      <th>sampledate</th>\n",
       "      <th></th>\n",
       "      <th></th>\n",
       "      <th></th>\n",
       "      <th></th>\n",
       "      <th></th>\n",
       "      <th></th>\n",
       "      <th></th>\n",
       "      <th></th>\n",
       "      <th></th>\n",
       "    </tr>\n",
       "  </thead>\n",
       "  <tbody>\n",
       "    <tr>\n",
       "      <th>2013-11-16</th>\n",
       "      <td>NaN</td>\n",
       "      <td>NaN</td>\n",
       "      <td>NaN</td>\n",
       "      <td>NaN</td>\n",
       "      <td>NaN</td>\n",
       "      <td>NaN</td>\n",
       "      <td>NaN</td>\n",
       "      <td>NaN</td>\n",
       "      <td>NaN</td>\n",
       "    </tr>\n",
       "    <tr>\n",
       "      <th>2013-11-17</th>\n",
       "      <td>NaN</td>\n",
       "      <td>NaN</td>\n",
       "      <td>NaN</td>\n",
       "      <td>NaN</td>\n",
       "      <td>NaN</td>\n",
       "      <td>NaN</td>\n",
       "      <td>NaN</td>\n",
       "      <td>NaN</td>\n",
       "      <td>NaN</td>\n",
       "    </tr>\n",
       "    <tr>\n",
       "      <th>2013-11-18</th>\n",
       "      <td>NaN</td>\n",
       "      <td>NaN</td>\n",
       "      <td>NaN</td>\n",
       "      <td>NaN</td>\n",
       "      <td>NaN</td>\n",
       "      <td>NaN</td>\n",
       "      <td>NaN</td>\n",
       "      <td>NaN</td>\n",
       "      <td>NaN</td>\n",
       "    </tr>\n",
       "    <tr>\n",
       "      <th>2013-11-19</th>\n",
       "      <td>NaN</td>\n",
       "      <td>NaN</td>\n",
       "      <td>NaN</td>\n",
       "      <td>NaN</td>\n",
       "      <td>NaN</td>\n",
       "      <td>NaN</td>\n",
       "      <td>NaN</td>\n",
       "      <td>NaN</td>\n",
       "      <td>NaN</td>\n",
       "    </tr>\n",
       "    <tr>\n",
       "      <th>2013-11-20</th>\n",
       "      <td>NaN</td>\n",
       "      <td>NaN</td>\n",
       "      <td>NaN</td>\n",
       "      <td>NaN</td>\n",
       "      <td>NaN</td>\n",
       "      <td>NaN</td>\n",
       "      <td>NaN</td>\n",
       "      <td>NaN</td>\n",
       "      <td>NaN</td>\n",
       "    </tr>\n",
       "    <tr>\n",
       "      <th>2013-11-21</th>\n",
       "      <td>NaN</td>\n",
       "      <td>NaN</td>\n",
       "      <td>NaN</td>\n",
       "      <td>NaN</td>\n",
       "      <td>NaN</td>\n",
       "      <td>NaN</td>\n",
       "      <td>NaN</td>\n",
       "      <td>NaN</td>\n",
       "      <td>NaN</td>\n",
       "    </tr>\n",
       "    <tr>\n",
       "      <th>2013-11-22</th>\n",
       "      <td>NaN</td>\n",
       "      <td>NaN</td>\n",
       "      <td>NaN</td>\n",
       "      <td>NaN</td>\n",
       "      <td>NaN</td>\n",
       "      <td>NaN</td>\n",
       "      <td>NaN</td>\n",
       "      <td>NaN</td>\n",
       "      <td>NaN</td>\n",
       "    </tr>\n",
       "    <tr>\n",
       "      <th>2013-11-23</th>\n",
       "      <td>NaN</td>\n",
       "      <td>NaN</td>\n",
       "      <td>NaN</td>\n",
       "      <td>NaN</td>\n",
       "      <td>NaN</td>\n",
       "      <td>NaN</td>\n",
       "      <td>NaN</td>\n",
       "      <td>NaN</td>\n",
       "      <td>NaN</td>\n",
       "    </tr>\n",
       "    <tr>\n",
       "      <th>2013-11-24</th>\n",
       "      <td>NaN</td>\n",
       "      <td>NaN</td>\n",
       "      <td>NaN</td>\n",
       "      <td>NaN</td>\n",
       "      <td>NaN</td>\n",
       "      <td>NaN</td>\n",
       "      <td>NaN</td>\n",
       "      <td>NaN</td>\n",
       "      <td>NaN</td>\n",
       "    </tr>\n",
       "    <tr>\n",
       "      <th>2013-11-25</th>\n",
       "      <td>NaN</td>\n",
       "      <td>NaN</td>\n",
       "      <td>NaN</td>\n",
       "      <td>NaN</td>\n",
       "      <td>NaN</td>\n",
       "      <td>NaN</td>\n",
       "      <td>NaN</td>\n",
       "      <td>NaN</td>\n",
       "      <td>NaN</td>\n",
       "    </tr>\n",
       "    <tr>\n",
       "      <th>2013-11-26</th>\n",
       "      <td>NaN</td>\n",
       "      <td>NaN</td>\n",
       "      <td>NaN</td>\n",
       "      <td>NaN</td>\n",
       "      <td>NaN</td>\n",
       "      <td>NaN</td>\n",
       "      <td>NaN</td>\n",
       "      <td>NaN</td>\n",
       "      <td>NaN</td>\n",
       "    </tr>\n",
       "    <tr>\n",
       "      <th>2013-11-27</th>\n",
       "      <td>NaN</td>\n",
       "      <td>NaN</td>\n",
       "      <td>NaN</td>\n",
       "      <td>NaN</td>\n",
       "      <td>NaN</td>\n",
       "      <td>NaN</td>\n",
       "      <td>NaN</td>\n",
       "      <td>NaN</td>\n",
       "      <td>NaN</td>\n",
       "    </tr>\n",
       "    <tr>\n",
       "      <th>2013-11-28</th>\n",
       "      <td>NaN</td>\n",
       "      <td>NaN</td>\n",
       "      <td>NaN</td>\n",
       "      <td>NaN</td>\n",
       "      <td>NaN</td>\n",
       "      <td>NaN</td>\n",
       "      <td>NaN</td>\n",
       "      <td>NaN</td>\n",
       "      <td>NaN</td>\n",
       "    </tr>\n",
       "    <tr>\n",
       "      <th>2013-11-29</th>\n",
       "      <td>NaN</td>\n",
       "      <td>NaN</td>\n",
       "      <td>NaN</td>\n",
       "      <td>NaN</td>\n",
       "      <td>NaN</td>\n",
       "      <td>NaN</td>\n",
       "      <td>NaN</td>\n",
       "      <td>NaN</td>\n",
       "      <td>NaN</td>\n",
       "    </tr>\n",
       "    <tr>\n",
       "      <th>2013-11-30</th>\n",
       "      <td>NaN</td>\n",
       "      <td>NaN</td>\n",
       "      <td>NaN</td>\n",
       "      <td>NaN</td>\n",
       "      <td>NaN</td>\n",
       "      <td>NaN</td>\n",
       "      <td>NaN</td>\n",
       "      <td>NaN</td>\n",
       "      <td>NaN</td>\n",
       "    </tr>\n",
       "    <tr>\n",
       "      <th>2013-12-01</th>\n",
       "      <td>NaN</td>\n",
       "      <td>NaN</td>\n",
       "      <td>NaN</td>\n",
       "      <td>NaN</td>\n",
       "      <td>NaN</td>\n",
       "      <td>NaN</td>\n",
       "      <td>NaN</td>\n",
       "      <td>NaN</td>\n",
       "      <td>NaN</td>\n",
       "    </tr>\n",
       "    <tr>\n",
       "      <th>2013-12-02</th>\n",
       "      <td>NaN</td>\n",
       "      <td>NaN</td>\n",
       "      <td>NaN</td>\n",
       "      <td>NaN</td>\n",
       "      <td>NaN</td>\n",
       "      <td>NaN</td>\n",
       "      <td>20.0</td>\n",
       "      <td>20.0</td>\n",
       "      <td>NaN</td>\n",
       "    </tr>\n",
       "    <tr>\n",
       "      <th>2013-12-03</th>\n",
       "      <td>NaN</td>\n",
       "      <td>NaN</td>\n",
       "      <td>NaN</td>\n",
       "      <td>NaN</td>\n",
       "      <td>20.0</td>\n",
       "      <td>NaN</td>\n",
       "      <td>145.0</td>\n",
       "      <td>110.0</td>\n",
       "      <td>40.0</td>\n",
       "    </tr>\n",
       "    <tr>\n",
       "      <th>2013-12-04</th>\n",
       "      <td>NaN</td>\n",
       "      <td>NaN</td>\n",
       "      <td>NaN</td>\n",
       "      <td>NaN</td>\n",
       "      <td>800.0</td>\n",
       "      <td>NaN</td>\n",
       "      <td>60.0</td>\n",
       "      <td>20.0</td>\n",
       "      <td>40.0</td>\n",
       "    </tr>\n",
       "    <tr>\n",
       "      <th>2013-12-05</th>\n",
       "      <td>NaN</td>\n",
       "      <td>NaN</td>\n",
       "      <td>NaN</td>\n",
       "      <td>NaN</td>\n",
       "      <td>400.0</td>\n",
       "      <td>NaN</td>\n",
       "      <td>600.0</td>\n",
       "      <td>200.0</td>\n",
       "      <td>20.0</td>\n",
       "    </tr>\n",
       "  </tbody>\n",
       "</table>\n",
       "</div>"
      ],
      "text/plain": [
       "stationcode  PL-010  PL-040  PL-050  PL-070  PL-080  PL-090  PL-100  PL-110  \\\n",
       "sampledate                                                                    \n",
       "2013-11-16      NaN     NaN     NaN     NaN     NaN     NaN     NaN     NaN   \n",
       "2013-11-17      NaN     NaN     NaN     NaN     NaN     NaN     NaN     NaN   \n",
       "2013-11-18      NaN     NaN     NaN     NaN     NaN     NaN     NaN     NaN   \n",
       "2013-11-19      NaN     NaN     NaN     NaN     NaN     NaN     NaN     NaN   \n",
       "2013-11-20      NaN     NaN     NaN     NaN     NaN     NaN     NaN     NaN   \n",
       "2013-11-21      NaN     NaN     NaN     NaN     NaN     NaN     NaN     NaN   \n",
       "2013-11-22      NaN     NaN     NaN     NaN     NaN     NaN     NaN     NaN   \n",
       "2013-11-23      NaN     NaN     NaN     NaN     NaN     NaN     NaN     NaN   \n",
       "2013-11-24      NaN     NaN     NaN     NaN     NaN     NaN     NaN     NaN   \n",
       "2013-11-25      NaN     NaN     NaN     NaN     NaN     NaN     NaN     NaN   \n",
       "2013-11-26      NaN     NaN     NaN     NaN     NaN     NaN     NaN     NaN   \n",
       "2013-11-27      NaN     NaN     NaN     NaN     NaN     NaN     NaN     NaN   \n",
       "2013-11-28      NaN     NaN     NaN     NaN     NaN     NaN     NaN     NaN   \n",
       "2013-11-29      NaN     NaN     NaN     NaN     NaN     NaN     NaN     NaN   \n",
       "2013-11-30      NaN     NaN     NaN     NaN     NaN     NaN     NaN     NaN   \n",
       "2013-12-01      NaN     NaN     NaN     NaN     NaN     NaN     NaN     NaN   \n",
       "2013-12-02      NaN     NaN     NaN     NaN     NaN     NaN    20.0    20.0   \n",
       "2013-12-03      NaN     NaN     NaN     NaN    20.0     NaN   145.0   110.0   \n",
       "2013-12-04      NaN     NaN     NaN     NaN   800.0     NaN    60.0    20.0   \n",
       "2013-12-05      NaN     NaN     NaN     NaN   400.0     NaN   600.0   200.0   \n",
       "\n",
       "stationcode  PL-120  \n",
       "sampledate           \n",
       "2013-11-16      NaN  \n",
       "2013-11-17      NaN  \n",
       "2013-11-18      NaN  \n",
       "2013-11-19      NaN  \n",
       "2013-11-20      NaN  \n",
       "2013-11-21      NaN  \n",
       "2013-11-22      NaN  \n",
       "2013-11-23      NaN  \n",
       "2013-11-24      NaN  \n",
       "2013-11-25      NaN  \n",
       "2013-11-26      NaN  \n",
       "2013-11-27      NaN  \n",
       "2013-11-28      NaN  \n",
       "2013-11-29      NaN  \n",
       "2013-11-30      NaN  \n",
       "2013-12-01      NaN  \n",
       "2013-12-02      NaN  \n",
       "2013-12-03     40.0  \n",
       "2013-12-04     40.0  \n",
       "2013-12-05     20.0  "
      ]
     },
     "execution_count": 11,
     "metadata": {},
     "output_type": "execute_result"
    },
    {
     "data": {
      "image/png": "[encoded data removed]",
      "text/plain": [
       "<Figure size 432x288 with 1 Axes>"
      ]
     },
     "metadata": {},
     "output_type": "display_data"
    }
   ],
   "source": [
    "_ = sg.groupby(['stationcode', 'sampledate']).mean().unstack(0)\n",
    "_.columns  = _.columns.get_level_values(1)\n",
    "#_ = np.log(_)\n",
    "#_ = _.resample('1d').first()\n",
    "\n",
    "_ = _.resample('1d').mean() #.interpolate()\n",
    "#_ = np.log(_)\n",
    "\n",
    "sns.heatmap(_.isnull().T,cbar=False,xticklabels=False,cmap = 'viridis')\n",
    "_.tail(20)"
   ]
  },
  {
   "cell_type": "code",
   "execution_count": 12,
   "metadata": {},
   "outputs": [
    {
     "data": {
      "text/plain": [
       "1"
      ]
     },
     "execution_count": 12,
     "metadata": {},
     "output_type": "execute_result"
    }
   ],
   "source": [
    "bw[bw.stationcode=='SE-060'].result.isnull().sum()"
   ]
  },
  {
   "cell_type": "code",
   "execution_count": 13,
   "metadata": {},
   "outputs": [
    {
     "data": {
      "text/plain": [
       "stationcode\n",
       "PL-010    105\n",
       "PL-040    180\n",
       "PL-050    183\n",
       "PL-070    188\n",
       "PL-080    205\n",
       "PL-090    192\n",
       "PL-100    199\n",
       "PL-110    202\n",
       "PL-120    189\n",
       "dtype: int64"
      ]
     },
     "execution_count": 13,
     "metadata": {},
     "output_type": "execute_result"
    }
   ],
   "source": [
    "_.notnull().sum()"
   ]
  },
  {
   "cell_type": "code",
   "execution_count": 14,
   "metadata": {},
   "outputs": [],
   "source": [
    "bw_uns = _\n",
    "bw_uns_m = bw_uns.resample('1d').first()"
   ]
  },
  {
   "cell_type": "code",
   "execution_count": 16,
   "metadata": {},
   "outputs": [
    {
     "name": "stderr",
     "output_type": "stream",
     "text": [
      "/opt/conda/lib/python3.6/site-packages/ipykernel_launcher.py:2: RuntimeWarning: divide by zero encountered in log\n",
      "  \n"
     ]
    },
    {
     "data": {
      "text/plain": [
       "<matplotlib.axes._subplots.AxesSubplot at 0x7f1ed20e3d68>"
      ]
     },
     "execution_count": 16,
     "metadata": {},
     "output_type": "execute_result"
    },
    {
     "data": {
      "image/png": "[encoded data removed]",
      "text/plain": [
       "<Figure size 1296x432 with 1 Axes>"
      ]
     },
     "metadata": {},
     "output_type": "display_data"
    }
   ],
   "source": [
    "a = env.set_index('date')\n",
    "b = np.log(bw_uns_m.reset_index().set_index('sampledate'))\n",
    "\n",
    "cor = b.join(a)\n",
    "\n",
    "fig, ax = plt.subplots(1,figsize=(18,6))\n",
    "b.plot(ax=ax)"
   ]
  },
  {
   "cell_type": "code",
   "execution_count": 17,
   "metadata": {},
   "outputs": [
    {
     "data": {
      "text/plain": [
       "dailyprecip       1.000000\n",
       "discharge_rate    0.664821\n",
       "PL-050            0.311317\n",
       "PL-100            0.293362\n",
       "PL-040            0.290327\n",
       "PL-110            0.288501\n",
       "PL-080            0.240943\n",
       "PL-070            0.179817\n",
       "PL-010            0.156685\n",
       "wl_max            0.054829\n",
       "wl_min            0.014121\n",
       "PL-090                 NaN\n",
       "PL-120                 NaN\n",
       "dtype: float64"
      ]
     },
     "execution_count": 17,
     "metadata": {},
     "output_type": "execute_result"
    }
   ],
   "source": [
    "cor.corrwith(cor.dailyprecip).sort_values(ascending=False).head(20)"
   ]
  },
  {
   "cell_type": "code",
   "execution_count": 18,
   "metadata": {},
   "outputs": [
    {
     "data": {
      "text/plain": [
       "log_result    0.320235\n",
       "dtype: float64"
      ]
     },
     "execution_count": 18,
     "metadata": {},
     "output_type": "execute_result"
    }
   ],
   "source": [
    "bw[bw.stationcode == 'PL-040'].set_index('sampledate').resample('1d').mean().log_result.to_frame().corrwith(a.discharge_rate)"
   ]
  },
  {
   "cell_type": "code",
   "execution_count": 19,
   "metadata": {},
   "outputs": [
    {
     "data": {
      "text/plain": [
       "log_result    0.350296\n",
       "dtype: float64"
      ]
     },
     "execution_count": 19,
     "metadata": {},
     "output_type": "execute_result"
    }
   ],
   "source": [
    "bw[bw.stationcode == 'PL-040'].set_index('sampledate').resample('1d').mean().log_result.to_frame().corrwith(a.wl_max)"
   ]
  },
  {
   "cell_type": "code",
   "execution_count": 20,
   "metadata": {},
   "outputs": [
    {
     "data": {
      "text/plain": [
       "log_result    0.290327\n",
       "dtype: float64"
      ]
     },
     "execution_count": 20,
     "metadata": {},
     "output_type": "execute_result"
    }
   ],
   "source": [
    "bw[bw.stationcode == 'PL-040'].set_index('sampledate').resample('1d').mean().log_result.to_frame().corrwith(a.dailyprecip)"
   ]
  },
  {
   "cell_type": "code",
   "execution_count": null,
   "metadata": {},
   "outputs": [],
   "source": []
  },
  {
   "cell_type": "code",
   "execution_count": null,
   "metadata": {},
   "outputs": [],
   "source": []
  }
 ],
 "metadata": {
  "kernelspec": {
   "display_name": "Python 3",
   "language": "python",
   "name": "python3"
  },
  "language_info": {
   "codemirror_mode": {
    "name": "ipython",
    "version": 3
   },
   "file_extension": ".py",
   "mimetype": "text/x-python",
   "name": "python",
   "nbconvert_exporter": "python",
   "pygments_lexer": "ipython3",
   "version": "3.6.6"
  }
 },
 "nbformat": 4,
 "nbformat_minor": 2
}
