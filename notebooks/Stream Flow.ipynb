{
 "cells": [
  {
   "cell_type": "markdown",
   "metadata": {},
   "source": [
    "# San Diego River Flow Rates at Fashion Valley\n",
    "\n",
    "One problem with connecting the stream flow of the San Diego river to beach pollution is that the river flows through Dog beach, which is littered with dog feces. It's quite possible the station closest to the moth of the river, `PL-0100` is more correlated with the tides than with the river flow. \n"
   ]
  },
  {
   "cell_type": "code",
   "execution_count": null,
   "metadata": {},
   "outputs": [],
   "source": []
  },
  {
   "cell_type": "code",
   "execution_count": 1,
   "metadata": {},
   "outputs": [],
   "source": [
    "import matplotlib.pyplot as plt \n",
    "import metapack as mp\n",
    "import pandas as pd\n",
    "import numpy as np\n",
    "from shapely.geometry import Point\n",
    "import geopandas as gpd\n",
    "import folium"
   ]
  },
  {
   "cell_type": "code",
   "execution_count": 2,
   "metadata": {},
   "outputs": [],
   "source": [
    "pkg = mp.open_package('http://library.metatab.org/waterservices.usgs.gov-stream_discharge-fashion_valley_sd-1.csv')"
   ]
  },
  {
   "cell_type": "code",
   "execution_count": 3,
   "metadata": {},
   "outputs": [
    {
     "data": {
      "text/html": [
       "<h2>Fashion Valley Stream Discharge Rates</h2>\n",
       "<p><p><em>Stream discharge rates for the Fashion Valley station on the San Diego river, from 1988 on</em></p>\n",
       "<p><small>waterservices.usgs.gov-stream_discharge-fashion_valley_sd-1 from metapack+http://library.metatab.org/waterservices.usgs.gov-stream_discharge-fashion_valley_sd-1.csv</small></p></p>\n",
       "<h2>Original Notice</h2>\n",
       "<p>The data file includes this comment header:</p>\n",
       "<pre>\n",
       "    # ---------------------------------- WARNING ----------------------------------------\n",
       "    # Some of the data that you have obtained from this U.S. Geological Survey database may not \n",
       "    # have received Director's approval.  Any such data values are qualified as provisional and \n",
       "    # are subject to revision.  Provisional data are released on the condition that neither the \n",
       "    # USGS nor the United States Government may be held liable for any damages resulting from its use.\n",
       "    #  Go to http://help.waterdata.usgs.gov/policies/provisional-data-statement for more information.\n",
       "    #\n",
       "    # File-format description:  http://help.waterdata.usgs.gov/faq/about-tab-delimited-output\n",
       "    # Automated-retrieval info: http://help.waterdata.usgs.gov/faq/automated-retrievals\n",
       "    #\n",
       "    # Contact:   gs-w_support_nwisweb@usgs.gov\n",
       "    # retrieved: 2018-07-24 15:45:47 -04:00 (natwebcaas01)\n",
       "    #\n",
       "    # Data for the following 1 site(s) are contained in this file\n",
       "    #    USGS 11023000 SAN DIEGO R A FASHION VALLEY AT SAN DIEGO CA\n",
       "    # -----------------------------------------------------------------------------------\n",
       "    #\n",
       "    # TS_ID - An internal number representing a time series.\n",
       "    # IV_TS_ID - An internal number representing the Instantaneous Value time series from which the daily statistic is calculated.\n",
       "    #\n",
       "    # Data provided for site 11023000\n",
       "    #    TS_ID       Parameter    Statistic  IV_TS_ID       Description\n",
       "    #    7745        00060        00003      14023          Discharge, cubic feet per second (Mean)\n",
       "    #\n",
       "    # Data-value qualification codes included in this output:\n",
       "    #     A  Approved for publication -- Processing and review completed.\n",
       "    #     e  Value has been estimated.\n",
       "    #     P  Provisional data subject to revision.\n",
       "    #\n",
       "</pre>\n",
       "\n",
       "<h3>Documentation</h3>\n",
       "<ul>\n",
       "<li><strong><a href=\"https://waterservices.usgs.gov/rest/DV-Test-Tool.html\">URL Generation</a></strong> USGS Daily Values Web Service URL Generation Tool</li>\n",
       "</ul>\n",
       "<h3>Contacts</h3>\n",
       "<p><strong>Wrangler:</strong> <a href=\"mailto:eric@civicknowledge.com\">Eric Busboom</a> <a href=\"http://civicknowledge.com\">Civic Knowledge</a></p>\n",
       "<h3>Resources</h3>\n",
       "<p><ol>\n",
       "<li><p><a target=\"_blank\" href=\"http://library.metatab.org/waterservices.usgs.gov-stream_discharge-fashion_valley_sd-1/data/fashion_valley.csv\"><strong>fashion_valley</strong></a> Stream discharge rates for the San Diego River, Fashion Valley Station.</p></li></p>\n",
       "</ol>\n",
       "\n",
       "</ol>"
      ],
      "text/plain": [
       "<metapack.doc.MetapackDoc at 0x7f2b83947518>"
      ]
     },
     "execution_count": 3,
     "metadata": {},
     "output_type": "execute_result"
    }
   ],
   "source": [
    "pkg"
   ]
  },
  {
   "cell_type": "code",
   "execution_count": 4,
   "metadata": {},
   "outputs": [
    {
     "data": {
      "text/html": [
       "<h3><a name=\"resource-fashion_valley\"></a>fashion_valley</h3><p><a target=\"_blank\" href=\"http://library.metatab.org/waterservices.usgs.gov-stream_discharge-fashion_valley_sd-1/data/fashion_valley.csv\">http://library.metatab.org/waterservices.usgs.gov-stream_discharge-fashion_valley_sd-1/data/fashion_valley.csv</a></p><table>\n",
       "<tr><th>Header</th><th>Type</th><th>Description</th></tr><tr><td>agency_cd</td><td>string</td><td>Source agency. Always “USGS”</td></tr> \n",
       "<tr><td>site_no</td><td>integer</td><td>Site number, always “11023000”</td></tr> \n",
       "<tr><td>datetime</td><td>date</td><td>Reading date, in ISO format.</td></tr> \n",
       "<tr><td>discharge_rate</td><td>number</td><td>Mean discharge, in cubic feet per second ( USGS Parameter  7745_00060_00003 )</td></tr> \n",
       "<tr><td>qualification_code</td><td>string</td><td>A=Approved, e= Estimated, P=Provisional</td></tr> </table>"
      ],
      "text/plain": [
       "<Resource: waterservices.usgs.gov-stream_discharge-fashion_valley_sd-1.csv 27:1 root.datafile http://library.metatab.org/waterservices.usgs.gov-stream_discharge-fashion_valley_sd-1/data/fashion_valley.csv ['fashion_valley', 'Stream discharge rates for the San Diego River, Fashion Valley Station.', 'tsv']>"
      ]
     },
     "execution_count": 4,
     "metadata": {},
     "output_type": "execute_result"
    }
   ],
   "source": [
    "pkg.resource('fashion_valley')"
   ]
  },
  {
   "cell_type": "code",
   "execution_count": 5,
   "metadata": {},
   "outputs": [],
   "source": [
    "df = pkg.resource('fashion_valley').read_csv(parse_dates=True)"
   ]
  },
  {
   "cell_type": "code",
   "execution_count": 6,
   "metadata": {},
   "outputs": [
    {
     "data": {
      "text/html": [
       "<div>\n",
       "<style scoped>\n",
       "    .dataframe tbody tr th:only-of-type {\n",
       "        vertical-align: middle;\n",
       "    }\n",
       "\n",
       "    .dataframe tbody tr th {\n",
       "        vertical-align: top;\n",
       "    }\n",
       "\n",
       "    .dataframe thead th {\n",
       "        text-align: right;\n",
       "    }\n",
       "</style>\n",
       "<table border=\"1\" class=\"dataframe\">\n",
       "  <thead>\n",
       "    <tr style=\"text-align: right;\">\n",
       "      <th></th>\n",
       "      <th>agency_cd</th>\n",
       "      <th>site_no</th>\n",
       "      <th>datetime</th>\n",
       "      <th>discharge_rate</th>\n",
       "      <th>qualification_code</th>\n",
       "    </tr>\n",
       "  </thead>\n",
       "  <tbody>\n",
       "    <tr>\n",
       "      <th>0</th>\n",
       "      <td>USGS</td>\n",
       "      <td>11023000</td>\n",
       "      <td>1988-01-01</td>\n",
       "      <td>22.0</td>\n",
       "      <td>A</td>\n",
       "    </tr>\n",
       "    <tr>\n",
       "      <th>1</th>\n",
       "      <td>USGS</td>\n",
       "      <td>11023000</td>\n",
       "      <td>1988-01-02</td>\n",
       "      <td>20.0</td>\n",
       "      <td>A</td>\n",
       "    </tr>\n",
       "    <tr>\n",
       "      <th>2</th>\n",
       "      <td>USGS</td>\n",
       "      <td>11023000</td>\n",
       "      <td>1988-01-03</td>\n",
       "      <td>18.0</td>\n",
       "      <td>A</td>\n",
       "    </tr>\n",
       "    <tr>\n",
       "      <th>3</th>\n",
       "      <td>USGS</td>\n",
       "      <td>11023000</td>\n",
       "      <td>1988-01-04</td>\n",
       "      <td>18.0</td>\n",
       "      <td>A</td>\n",
       "    </tr>\n",
       "    <tr>\n",
       "      <th>4</th>\n",
       "      <td>USGS</td>\n",
       "      <td>11023000</td>\n",
       "      <td>1988-01-05</td>\n",
       "      <td>21.0</td>\n",
       "      <td>A</td>\n",
       "    </tr>\n",
       "  </tbody>\n",
       "</table>\n",
       "</div>"
      ],
      "text/plain": [
       "  agency_cd   site_no   datetime  discharge_rate qualification_code\n",
       "0      USGS  11023000 1988-01-01            22.0                  A\n",
       "1      USGS  11023000 1988-01-02            20.0                  A\n",
       "2      USGS  11023000 1988-01-03            18.0                  A\n",
       "3      USGS  11023000 1988-01-04            18.0                  A\n",
       "4      USGS  11023000 1988-01-05            21.0                  A"
      ]
     },
     "execution_count": 6,
     "metadata": {},
     "output_type": "execute_result"
    }
   ],
   "source": [
    "df.head()"
   ]
  },
  {
   "cell_type": "code",
   "execution_count": 7,
   "metadata": {},
   "outputs": [
    {
     "data": {
      "text/html": [
       "<div>\n",
       "<style scoped>\n",
       "    .dataframe tbody tr th:only-of-type {\n",
       "        vertical-align: middle;\n",
       "    }\n",
       "\n",
       "    .dataframe tbody tr th {\n",
       "        vertical-align: top;\n",
       "    }\n",
       "\n",
       "    .dataframe thead th {\n",
       "        text-align: right;\n",
       "    }\n",
       "</style>\n",
       "<table border=\"1\" class=\"dataframe\">\n",
       "  <thead>\n",
       "    <tr style=\"text-align: right;\">\n",
       "      <th></th>\n",
       "      <th>discharge_rate</th>\n",
       "    </tr>\n",
       "    <tr>\n",
       "      <th>datetime</th>\n",
       "      <th></th>\n",
       "    </tr>\n",
       "  </thead>\n",
       "  <tbody>\n",
       "    <tr>\n",
       "      <th>1988-01-01</th>\n",
       "      <td>22.0</td>\n",
       "    </tr>\n",
       "    <tr>\n",
       "      <th>1988-01-02</th>\n",
       "      <td>20.0</td>\n",
       "    </tr>\n",
       "    <tr>\n",
       "      <th>1988-01-03</th>\n",
       "      <td>18.0</td>\n",
       "    </tr>\n",
       "    <tr>\n",
       "      <th>1988-01-04</th>\n",
       "      <td>18.0</td>\n",
       "    </tr>\n",
       "    <tr>\n",
       "      <th>1988-01-05</th>\n",
       "      <td>21.0</td>\n",
       "    </tr>\n",
       "  </tbody>\n",
       "</table>\n",
       "</div>"
      ],
      "text/plain": [
       "            discharge_rate\n",
       "datetime                  \n",
       "1988-01-01            22.0\n",
       "1988-01-02            20.0\n",
       "1988-01-03            18.0\n",
       "1988-01-04            18.0\n",
       "1988-01-05            21.0"
      ]
     },
     "execution_count": 7,
     "metadata": {},
     "output_type": "execute_result"
    }
   ],
   "source": [
    "df = df[['datetime', 'discharge_rate']].copy().set_index('datetime')\n",
    "df.head()"
   ]
  },
  {
   "cell_type": "code",
   "execution_count": 8,
   "metadata": {},
   "outputs": [
    {
     "data": {
      "text/plain": [
       "<matplotlib.axes._subplots.AxesSubplot at 0x7f2b83796828>"
      ]
     },
     "execution_count": 8,
     "metadata": {},
     "output_type": "execute_result"
    },
    {
     "data": {
      "image/png": "[encoded data removed]",
      "text/plain": [
       "<Figure size 1296x432 with 1 Axes>"
      ]
     },
     "metadata": {},
     "output_type": "display_data"
    }
   ],
   "source": [
    "fig, ax = plt.subplots(1,figsize=(18,6))\n",
    "df.plot(ax=ax)"
   ]
  },
  {
   "cell_type": "code",
   "execution_count": 9,
   "metadata": {},
   "outputs": [
    {
     "data": {
      "text/plain": [
       "array([[<matplotlib.axes._subplots.AxesSubplot object at 0x7f2b83414d68>]],\n",
       "      dtype=object)"
      ]
     },
     "execution_count": 9,
     "metadata": {},
     "output_type": "execute_result"
    },
    {
     "data": {
      "image/png": "[encoded data removed]",
      "text/plain": [
       "<Figure size 432x288 with 1 Axes>"
      ]
     },
     "metadata": {},
     "output_type": "display_data"
    }
   ],
   "source": [
    "df[df.discharge_rate > 2000 ].hist()"
   ]
  },
  {
   "cell_type": "code",
   "execution_count": 10,
   "metadata": {},
   "outputs": [
    {
     "data": {
      "text/html": [
       "<h2>San Diego Beachwatch Data</h2>\n",
       "<p><p><em>Water quality data for San Diego county beaches.</em></p>\n",
       "<p><small>ceden.waterboards.ca.gov-beachwatch-sandiego-2 from metapack+http://library.metatab.org/ceden.waterboards.ca.gov-beachwatch-sandiego-2.zip#metadata.csv</small></p></p>\n",
       "<p>The Beachwatch data set has four bacteria measurements from 172 stations on the\n",
       "coast of San Diego county, from July 1998 to Decenber 2013. The four\n",
       "measurements are:</p>\n",
       "<ul>\n",
       "<li>Coliform, Total      66992</li>\n",
       "<li>Coliform, Fecal      65827</li>\n",
       "<li>Enterococcus         65010</li>\n",
       "<li>E. coli               4428</li>\n",
       "</ul>\n",
       "<p>There are two units for the measurements: </p>\n",
       "<ul>\n",
       "<li>MPN/100 mL: \"Most Probable Number\"</li>\n",
       "<li>cfu/100mL: \"Colony forming units\". Number of viable bacteria, excluding the dead ones. </li>\n",
       "</ul>\n",
       "<p>From <a href=\"http://www.cascadeanalytical.com/resources-downloads/faqs\">Cascade Analytical</a>:</p>\n",
       "<pre><code>What does CFU and MPN mean? A: CFU stands for 'Colony Forming Units' and\n",
       "refers to the number of viable bacterial cells in a sample per unit of\n",
       "volume. For example: 50 CFU/100 mL means 50 Colony Forming Units per 100 mL\n",
       "of sample. It is different from the direct microscopic counts that include\n",
       "both dead and living cells.\n",
       "\n",
       "MPN stands for 'Most Probable Number' and refers to a method that uses\n",
       "dilution cultures and a probability calculation to determine the\n",
       "approximate number of viable cells in a given volume of sample. It is\n",
       "useful when samples contain too few organisms for agar plates to be used or\n",
       "when organisms will not grow on agar. For example: 50 MPN/100 mL means that\n",
       "the Most Probable Number of viable cells in 100 mL of sample is 50.\n",
       "</code></pre>\n",
       "<p>I haven't found traditional data dictionary documentation, <a href=\"http://ceden.org/CEDEN_checker/Checker/LookUpLists.php\">but there are\n",
       "controlled vocabulary lists</a> online for data submitters, which explain a lot of\n",
       "the columns.</p>\n",
       "<h3>Documentation</h3>\n",
       "<ul>\n",
       "<li><strong><a href=\"https://www.waterboards.ca.gov/water_issues/programs/beaches/beach_water_quality/beaches_program.html\">overview</a></strong> Project Overview Page</li>\n",
       "<li><strong><a href=\"https://ceden.waterboards.ca.gov/AdvancedQueryTool\">source_page</a></strong> CEDEN advanced query tool page</li>\n",
       "<li><strong><a href=\"https://ceden.waterboards.ca.gov/Metadata/ControlledVocab.php\">controlled_vocab</a></strong> Controlled vocabulary search page</li>\n",
       "<li><strong><a href=\"https://ceden.waterboards.ca.gov/Metadata/get_lu_data.php?format=html&amp;table=AnalyteLU&amp;include_all=yes\">analyte_cv</a></strong> Analyte controlled vocabulary</li>\n",
       "<li><strong><a href=\"https://ceden.waterboards.ca.gov/Metadata/get_lu_data.php?format=html&amp;table=MethodLU&amp;include_all=yes\">method_cv</a></strong> Method controlled  vocabulary</li>\n",
       "<li><strong><a href=\"https://ceden.waterboards.ca.gov/Metadata/get_lu_data.php?format=html&amp;table=ResultQualityLU&amp;include_all=yes\">result_qual_cv</a></strong> Result Qualifier controlled vocabulary</li>\n",
       "<li><strong><a href=\"https://ceden.waterboards.ca.gov/Metadata/get_lu_data.php?format=html&amp;table=QA_LU&amp;include_all=yes\">qa_cv</a></strong> QA controlled vocabulary</li>\n",
       "</ul>\n",
       "<h3>Contacts</h3>\n",
       "<p><strong>Wrangler:</strong> <a href=\"mailto:eric@civicknowledge.com\">Eric Busboom</a> <a href=\"http://civicknowledge.com\">Civic Knowledge</a></p>\n",
       "<h3>Resources</h3>\n",
       "<p><ol>\n",
       "<li><p><a target=\"_blank\" href=\"file:///home/jovyan/.local/share/metapack/library.metatab.org/ceden.waterboards.ca.gov-beachwatch-sandiego-2.zip_d/ceden.waterboards.ca.gov-beachwatch-sandiego-2/data/beachwatch-sd.csv\"><strong>beachwatch-sd</strong></a> Beachwatch program for San Diego county</p></li></p>\n",
       "</ol>\n",
       "\n",
       "</ol>"
      ],
      "text/plain": [
       "<metapack.doc.MetapackDoc at 0x7f2b8352de48>"
      ]
     },
     "execution_count": 10,
     "metadata": {},
     "output_type": "execute_result"
    }
   ],
   "source": [
    "bw_pkg = mp.open_package('http://library.metatab.org/ceden.waterboards.ca.gov-beachwatch-sandiego-2.zip')\n",
    "bw_pkg"
   ]
  },
  {
   "cell_type": "code",
   "execution_count": 11,
   "metadata": {},
   "outputs": [],
   "source": [
    "bw_df = bw_pkg.resource('beachwatch-sd').read_csv()\n",
    "# It looks like the prefix of the station code groups stations, maybe into watersheds. \n",
    "bw_df['stationgroup'] = bw_df.stationcode.str[:2]"
   ]
  },
  {
   "cell_type": "code",
   "execution_count": 12,
   "metadata": {},
   "outputs": [],
   "source": [
    "bw_stations = bw_df[['stationname','stationcode','stationgroup','targetlongitude','targetlatitude']].drop_duplicates()\n"
   ]
  },
  {
   "cell_type": "code",
   "execution_count": 13,
   "metadata": {},
   "outputs": [],
   "source": [
    "## Load a Metapack data package of the US Counties, then extract San Diego county by it's FIPS code, state=6\n",
    "## county=73 \n",
    "counties_pkg = mp.open_package('http://library.metatab.org/census.gov-counties-2017-2.csv')\n",
    "\n",
    "# Use the Metapack feature for turning the Pandas dataframe into a GeoPandas dataframe\n",
    "counties = counties_pkg.resource('counties').geoframe()\n",
    "\n",
    "sd_county = counties[(counties.statefp==6) & (counties.countyfp==73) ]"
   ]
  },
  {
   "cell_type": "code",
   "execution_count": 14,
   "metadata": {},
   "outputs": [
    {
     "data": {
      "text/plain": [
       "<matplotlib.axes._subplots.AxesSubplot at 0x7f2b805d3f60>"
      ]
     },
     "execution_count": 14,
     "metadata": {},
     "output_type": "execute_result"
    },
    {
     "data": {
      "image/png": "[encoded data removed]",
      "text/plain": [
       "<Figure size 432x288 with 1 Axes>"
      ]
     },
     "metadata": {},
     "output_type": "display_data"
    }
   ],
   "source": [
    "\n",
    "## Create a new GeoPandas frame, converting the targetlongitude and targetlatitude\n",
    "## colums to a Shapely Point and assigning it to the frame's geometry\n",
    "\n",
    "gdf = gpd.GeoDataFrame(bw_stations, geometry=\n",
    "                        [Point(x,y) for x,y in zip(bw_stations.targetlongitude, bw_stations.targetlatitude)])\n",
    "\n",
    "# Here is a quick plot\n",
    "gdf.plot(column='stationgroup')"
   ]
  },
  {
   "cell_type": "code",
   "execution_count": 15,
   "metadata": {},
   "outputs": [
    {
     "data": {
      "text/html": [
       "<div style=\"width:100%;\"><div style=\"position:relative;width:100%;height:0;padding-bottom:60%;\"><iframe src=\"data:text/html;charset=utf-8;base64,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\" style=\"position:absolute;width:100%;height:100%;left:0;top:0;border:none !important;\" allowfullscreen webkitallowfullscreen mozallowfullscreen></iframe></div></div>"
      ],
      "text/plain": [
       "<folium.folium.Map at 0x7f2b6cd3d208>"
      ]
     },
     "execution_count": 15,
     "metadata": {},
     "output_type": "execute_result"
    }
   ],
   "source": [
    "\n",
    "\n",
    "\n",
    "center = [32.755, -117.253] # Approx Dog Beach\n",
    "\n",
    "\n",
    "m = folium.Map(location=center, zoom_start=13, control_scale=True)\n",
    "\n",
    "for idx, row in bw_stations.iterrows():\n",
    "    if row.stationcode.startswith(\"PL\"):\n",
    "        \n",
    "        folium.Marker(location=[row.targetlatitude, row.targetlongitude],\n",
    "                          icon=folium.DivIcon(\n",
    "                            icon_size=(250,36),\n",
    "                            icon_anchor=(0,0),\n",
    "                            html='<div style=\"font-size: 10pt\">{}</div>'.format(row.stationname),\n",
    "                            )\n",
    "                     ).add_to(m)\n",
    "        folium.Marker(location=[row.targetlatitude, row.targetlongitude], popup=row.stationname).add_to(m)\n",
    "    \n",
    "m.save('pl_stations.html')\n",
    "m"
   ]
  },
  {
   "cell_type": "code",
   "execution_count": 16,
   "metadata": {},
   "outputs": [
    {
     "ename": "ModuleNotFoundError",
     "evalue": "No module named 'pandas_profiling'",
     "output_type": "error",
     "traceback": [
      "\u001b[0;31m---------------------------------------------------------------------------\u001b[0m",
      "\u001b[0;31mModuleNotFoundError\u001b[0m                       Traceback (most recent call last)",
      "\u001b[0;32m<ipython-input-16-168621f72489>\u001b[0m in \u001b[0;36m<module>\u001b[0;34m()\u001b[0m\n\u001b[1;32m      1\u001b[0m \u001b[0;34m\u001b[0m\u001b[0m\n\u001b[1;32m      2\u001b[0m \u001b[0;34m\u001b[0m\u001b[0m\n\u001b[0;32m----> 3\u001b[0;31m \u001b[0;32mimport\u001b[0m \u001b[0mpandas_profiling\u001b[0m  \u001b[0;32mas\u001b[0m \u001b[0mpp\u001b[0m\u001b[0;34m\u001b[0m\u001b[0m\n\u001b[0m",
      "\u001b[0;31mModuleNotFoundError\u001b[0m: No module named 'pandas_profiling'"
     ]
    }
   ],
   "source": [
    "\n",
    "\n",
    "import pandas_profiling  as pp"
   ]
  },
  {
   "cell_type": "code",
   "execution_count": null,
   "metadata": {},
   "outputs": [],
   "source": []
  }
 ],
 "metadata": {
  "kernelspec": {
   "display_name": "Python 3",
   "language": "python",
   "name": "python3"
  },
  "language_info": {
   "codemirror_mode": {
    "name": "ipython",
    "version": 3
   },
   "file_extension": ".py",
   "mimetype": "text/x-python",
   "name": "python",
   "nbconvert_exporter": "python",
   "pygments_lexer": "ipython3",
   "version": "3.6.6"
  }
 },
 "nbformat": 4,
 "nbformat_minor": 2
}
