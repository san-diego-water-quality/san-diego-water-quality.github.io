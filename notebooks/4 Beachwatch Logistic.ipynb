{
 "cells": [
  {
   "cell_type": "code",
   "execution_count": 1,
   "metadata": {},
   "outputs": [],
   "source": [
    "# Beachwatch Logistic Regressions"
   ]
  },
  {
   "cell_type": "code",
   "execution_count": 2,
   "metadata": {},
   "outputs": [],
   "source": [
    "import matplotlib.pyplot as plt \n",
    "import metapack as mp\n",
    "import pandas as pd\n",
    "import numpy as np\n",
    "import seaborn as sns\n",
    "sns.set(color_codes=True)\n",
    "%matplotlib inline"
   ]
  },
  {
   "cell_type": "code",
   "execution_count": 3,
   "metadata": {},
   "outputs": [
    {
     "data": {
      "text/html": [
       "<div>\n",
       "<style scoped>\n",
       "    .dataframe tbody tr th:only-of-type {\n",
       "        vertical-align: middle;\n",
       "    }\n",
       "\n",
       "    .dataframe tbody tr th {\n",
       "        vertical-align: top;\n",
       "    }\n",
       "\n",
       "    .dataframe thead th {\n",
       "        text-align: right;\n",
       "    }\n",
       "</style>\n",
       "<table border=\"1\" class=\"dataframe\">\n",
       "  <thead>\n",
       "    <tr style=\"text-align: right;\">\n",
       "      <th></th>\n",
       "      <th>stationcode</th>\n",
       "      <th>stationgroup</th>\n",
       "      <th>sampledate</th>\n",
       "      <th>collectiontime</th>\n",
       "      <th>measure_code</th>\n",
       "      <th>analyte</th>\n",
       "      <th>methodname</th>\n",
       "      <th>unit</th>\n",
       "      <th>result</th>\n",
       "      <th>result_group_count</th>\n",
       "      <th>...</th>\n",
       "      <th>lresult_gt_lmedian</th>\n",
       "      <th>lresult_gt_lmean</th>\n",
       "      <th>lresult_lte_25pctl</th>\n",
       "      <th>lresult_gte_75pctl</th>\n",
       "      <th>labbatch</th>\n",
       "      <th>resultqualcode</th>\n",
       "      <th>qacode</th>\n",
       "      <th>sampleagency</th>\n",
       "      <th>labagency</th>\n",
       "      <th>submittingagency</th>\n",
       "    </tr>\n",
       "  </thead>\n",
       "  <tbody>\n",
       "    <tr>\n",
       "      <th>0</th>\n",
       "      <td>EH-010</td>\n",
       "      <td>EH</td>\n",
       "      <td>1999-05-26</td>\n",
       "      <td>2018-08-11</td>\n",
       "      <td>0</td>\n",
       "      <td>Coliform, Fecal</td>\n",
       "      <td>MTF</td>\n",
       "      <td>MPN/100 mL</td>\n",
       "      <td>20.0</td>\n",
       "      <td>213</td>\n",
       "      <td>...</td>\n",
       "      <td>0.0</td>\n",
       "      <td>0.0</td>\n",
       "      <td>0.0</td>\n",
       "      <td>1.0</td>\n",
       "      <td>SH-5/26/1999</td>\n",
       "      <td>&lt;</td>\n",
       "      <td>NR</td>\n",
       "      <td>SDCDEH</td>\n",
       "      <td>SDCDEH</td>\n",
       "      <td>SDCDEH</td>\n",
       "    </tr>\n",
       "    <tr>\n",
       "      <th>1</th>\n",
       "      <td>EH-010</td>\n",
       "      <td>EH</td>\n",
       "      <td>1999-10-13</td>\n",
       "      <td>2018-08-11</td>\n",
       "      <td>0</td>\n",
       "      <td>Coliform, Fecal</td>\n",
       "      <td>MTF</td>\n",
       "      <td>MPN/100 mL</td>\n",
       "      <td>0.0</td>\n",
       "      <td>213</td>\n",
       "      <td>...</td>\n",
       "      <td>0.0</td>\n",
       "      <td>0.0</td>\n",
       "      <td>0.0</td>\n",
       "      <td>0.0</td>\n",
       "      <td>SH-10/13/1999</td>\n",
       "      <td>=</td>\n",
       "      <td>NR</td>\n",
       "      <td>SDCDEH</td>\n",
       "      <td>SDCDEH</td>\n",
       "      <td>SDCDEH</td>\n",
       "    </tr>\n",
       "    <tr>\n",
       "      <th>2</th>\n",
       "      <td>EH-010</td>\n",
       "      <td>EH</td>\n",
       "      <td>1999-10-26</td>\n",
       "      <td>2018-08-11</td>\n",
       "      <td>0</td>\n",
       "      <td>Coliform, Fecal</td>\n",
       "      <td>MTF</td>\n",
       "      <td>MPN/100 mL</td>\n",
       "      <td>20.0</td>\n",
       "      <td>213</td>\n",
       "      <td>...</td>\n",
       "      <td>0.0</td>\n",
       "      <td>0.0</td>\n",
       "      <td>0.0</td>\n",
       "      <td>1.0</td>\n",
       "      <td>SH-10/26/1999</td>\n",
       "      <td>&lt;</td>\n",
       "      <td>NR</td>\n",
       "      <td>SDCDEH</td>\n",
       "      <td>SDCDEH</td>\n",
       "      <td>SDCDEH</td>\n",
       "    </tr>\n",
       "    <tr>\n",
       "      <th>3</th>\n",
       "      <td>EH-010</td>\n",
       "      <td>EH</td>\n",
       "      <td>2000-03-21</td>\n",
       "      <td>2018-08-11</td>\n",
       "      <td>0</td>\n",
       "      <td>Coliform, Fecal</td>\n",
       "      <td>MTF</td>\n",
       "      <td>MPN/100 mL</td>\n",
       "      <td>20.0</td>\n",
       "      <td>213</td>\n",
       "      <td>...</td>\n",
       "      <td>0.0</td>\n",
       "      <td>0.0</td>\n",
       "      <td>0.0</td>\n",
       "      <td>1.0</td>\n",
       "      <td>SH-3/21/2000</td>\n",
       "      <td>&lt;</td>\n",
       "      <td>NR</td>\n",
       "      <td>SDCDEH</td>\n",
       "      <td>SDCDEH</td>\n",
       "      <td>SDCDEH</td>\n",
       "    </tr>\n",
       "    <tr>\n",
       "      <th>4</th>\n",
       "      <td>EH-010</td>\n",
       "      <td>EH</td>\n",
       "      <td>2000-05-24</td>\n",
       "      <td>2018-08-11</td>\n",
       "      <td>0</td>\n",
       "      <td>Coliform, Fecal</td>\n",
       "      <td>MTF</td>\n",
       "      <td>MPN/100 mL</td>\n",
       "      <td>230.0</td>\n",
       "      <td>213</td>\n",
       "      <td>...</td>\n",
       "      <td>1.0</td>\n",
       "      <td>1.0</td>\n",
       "      <td>0.0</td>\n",
       "      <td>1.0</td>\n",
       "      <td>SH-5/24/2000</td>\n",
       "      <td>=</td>\n",
       "      <td>NR</td>\n",
       "      <td>SDCDEH</td>\n",
       "      <td>SDCDEH</td>\n",
       "      <td>SDCDEH</td>\n",
       "    </tr>\n",
       "  </tbody>\n",
       "</table>\n",
       "<p>5 rows × 35 columns</p>\n",
       "</div>"
      ],
      "text/plain": [
       "  stationcode stationgroup sampledate collectiontime  measure_code  \\\n",
       "0      EH-010           EH 1999-05-26     2018-08-11             0   \n",
       "1      EH-010           EH 1999-10-13     2018-08-11             0   \n",
       "2      EH-010           EH 1999-10-26     2018-08-11             0   \n",
       "3      EH-010           EH 2000-03-21     2018-08-11             0   \n",
       "4      EH-010           EH 2000-05-24     2018-08-11             0   \n",
       "\n",
       "           analyte methodname        unit  result  result_group_count  \\\n",
       "0  Coliform, Fecal        MTF  MPN/100 mL    20.0                 213   \n",
       "1  Coliform, Fecal        MTF  MPN/100 mL     0.0                 213   \n",
       "2  Coliform, Fecal        MTF  MPN/100 mL    20.0                 213   \n",
       "3  Coliform, Fecal        MTF  MPN/100 mL    20.0                 213   \n",
       "4  Coliform, Fecal        MTF  MPN/100 mL   230.0                 213   \n",
       "\n",
       "         ...         lresult_gt_lmedian  lresult_gt_lmean  lresult_lte_25pctl  \\\n",
       "0        ...                        0.0               0.0                 0.0   \n",
       "1        ...                        0.0               0.0                 0.0   \n",
       "2        ...                        0.0               0.0                 0.0   \n",
       "3        ...                        0.0               0.0                 0.0   \n",
       "4        ...                        1.0               1.0                 0.0   \n",
       "\n",
       "   lresult_gte_75pctl       labbatch  resultqualcode  qacode  sampleagency  \\\n",
       "0                 1.0   SH-5/26/1999               <      NR        SDCDEH   \n",
       "1                 0.0  SH-10/13/1999               =      NR        SDCDEH   \n",
       "2                 1.0  SH-10/26/1999               <      NR        SDCDEH   \n",
       "3                 1.0   SH-3/21/2000               <      NR        SDCDEH   \n",
       "4                 1.0   SH-5/24/2000               =      NR        SDCDEH   \n",
       "\n",
       "   labagency  submittingagency  \n",
       "0     SDCDEH            SDCDEH  \n",
       "1     SDCDEH            SDCDEH  \n",
       "2     SDCDEH            SDCDEH  \n",
       "3     SDCDEH            SDCDEH  \n",
       "4     SDCDEH            SDCDEH  \n",
       "\n",
       "[5 rows x 35 columns]"
      ]
     },
     "execution_count": 3,
     "metadata": {},
     "output_type": "execute_result"
    }
   ],
   "source": [
    "import metapack as mp\n",
    "pkg = mp.open_package('http://library.metatab.org/sandiegodata.org-beachwatch-4.zip')\n",
    "beachwatch =    pkg.resource('beachwatch').read_csv(parse_dates=True)\n",
    "measure_codes = pkg.resource('measure_codes').read_csv(parse_dates=True)\n",
    "stations =      pkg.resource('stations').read_csv(parse_dates=True)\n",
    "\n",
    "beachwatch.head()"
   ]
  },
  {
   "cell_type": "code",
   "execution_count": 4,
   "metadata": {},
   "outputs": [
    {
     "data": {
      "text/plain": [
       "0.0    136183\n",
       "1.0     66074\n",
       "Name: lresult_gt_lmedian, dtype: int64"
      ]
     },
     "execution_count": 4,
     "metadata": {},
     "output_type": "execute_result"
    }
   ],
   "source": [
    "\n",
    "beachwatch.lresult_gt_lmedian.value_counts(dropna=False)"
   ]
  },
  {
   "cell_type": "code",
   "execution_count": 5,
   "metadata": {},
   "outputs": [
    {
     "data": {
      "text/plain": [
       "0.043489224105964196"
      ]
     },
     "execution_count": 5,
     "metadata": {},
     "output_type": "execute_result"
    }
   ],
   "source": [
    "# Proportion of gt_mean and mt_median that are different. \n",
    "len(beachwatch[ beachwatch.lresult_gt_lmedian.notnull() & beachwatch.lresult_gt_lmedian.notnull() &  \n",
    "        (beachwatch.lresult_gt_lmedian != beachwatch.lresult_gt_lmean)])  / len(beachwatch)"
   ]
  },
  {
   "cell_type": "markdown",
   "metadata": {},
   "source": [
    "# Merge in environmental data"
   ]
  },
  {
   "cell_type": "code",
   "execution_count": 6,
   "metadata": {},
   "outputs": [],
   "source": [
    "env_pkg =  mp.open_package('http://library.metatab.org/sandiegodata.org-water_quality-4.zip')"
   ]
  },
  {
   "cell_type": "code",
   "execution_count": 7,
   "metadata": {},
   "outputs": [
    {
     "data": {
      "text/html": [
       "<div>\n",
       "<style scoped>\n",
       "    .dataframe tbody tr th:only-of-type {\n",
       "        vertical-align: middle;\n",
       "    }\n",
       "\n",
       "    .dataframe tbody tr th {\n",
       "        vertical-align: top;\n",
       "    }\n",
       "\n",
       "    .dataframe thead th {\n",
       "        text-align: right;\n",
       "    }\n",
       "</style>\n",
       "<table border=\"1\" class=\"dataframe\">\n",
       "  <thead>\n",
       "    <tr style=\"text-align: right;\">\n",
       "      <th></th>\n",
       "      <th>discharge_rate</th>\n",
       "      <th>recent_total_discharge</th>\n",
       "      <th>recent_max_discharge</th>\n",
       "      <th>dailyprecip</th>\n",
       "      <th>recent_precip</th>\n",
       "      <th>wl_max</th>\n",
       "      <th>wl_min</th>\n",
       "    </tr>\n",
       "    <tr>\n",
       "      <th>date</th>\n",
       "      <th></th>\n",
       "      <th></th>\n",
       "      <th></th>\n",
       "      <th></th>\n",
       "      <th></th>\n",
       "      <th></th>\n",
       "      <th></th>\n",
       "    </tr>\n",
       "  </thead>\n",
       "  <tbody>\n",
       "    <tr>\n",
       "      <th>1988-01-01</th>\n",
       "      <td>22.0</td>\n",
       "      <td>22.0</td>\n",
       "      <td>22.0</td>\n",
       "      <td>NaN</td>\n",
       "      <td>NaN</td>\n",
       "      <td>NaN</td>\n",
       "      <td>NaN</td>\n",
       "    </tr>\n",
       "    <tr>\n",
       "      <th>1988-01-02</th>\n",
       "      <td>20.0</td>\n",
       "      <td>42.0</td>\n",
       "      <td>42.0</td>\n",
       "      <td>NaN</td>\n",
       "      <td>NaN</td>\n",
       "      <td>NaN</td>\n",
       "      <td>NaN</td>\n",
       "    </tr>\n",
       "    <tr>\n",
       "      <th>1988-01-03</th>\n",
       "      <td>18.0</td>\n",
       "      <td>60.0</td>\n",
       "      <td>60.0</td>\n",
       "      <td>NaN</td>\n",
       "      <td>NaN</td>\n",
       "      <td>NaN</td>\n",
       "      <td>NaN</td>\n",
       "    </tr>\n",
       "    <tr>\n",
       "      <th>1988-01-04</th>\n",
       "      <td>18.0</td>\n",
       "      <td>56.0</td>\n",
       "      <td>60.0</td>\n",
       "      <td>NaN</td>\n",
       "      <td>NaN</td>\n",
       "      <td>NaN</td>\n",
       "      <td>NaN</td>\n",
       "    </tr>\n",
       "    <tr>\n",
       "      <th>1988-01-05</th>\n",
       "      <td>21.0</td>\n",
       "      <td>57.0</td>\n",
       "      <td>60.0</td>\n",
       "      <td>NaN</td>\n",
       "      <td>NaN</td>\n",
       "      <td>NaN</td>\n",
       "      <td>NaN</td>\n",
       "    </tr>\n",
       "  </tbody>\n",
       "</table>\n",
       "</div>"
      ],
      "text/plain": [
       "            discharge_rate  recent_total_discharge  recent_max_discharge  \\\n",
       "date                                                                       \n",
       "1988-01-01            22.0                    22.0                  22.0   \n",
       "1988-01-02            20.0                    42.0                  42.0   \n",
       "1988-01-03            18.0                    60.0                  60.0   \n",
       "1988-01-04            18.0                    56.0                  60.0   \n",
       "1988-01-05            21.0                    57.0                  60.0   \n",
       "\n",
       "            dailyprecip  recent_precip  wl_max  wl_min  \n",
       "date                                                    \n",
       "1988-01-01          NaN            NaN     NaN     NaN  \n",
       "1988-01-02          NaN            NaN     NaN     NaN  \n",
       "1988-01-03          NaN            NaN     NaN     NaN  \n",
       "1988-01-04          NaN            NaN     NaN     NaN  \n",
       "1988-01-05          NaN            NaN     NaN     NaN  "
      ]
     },
     "execution_count": 7,
     "metadata": {},
     "output_type": "execute_result"
    }
   ],
   "source": [
    "trr = env_pkg.resource('tides_river_rain').read_csv(parse_dates=True).set_index('date')\n",
    "trr.head()"
   ]
  },
  {
   "cell_type": "code",
   "execution_count": 8,
   "metadata": {},
   "outputs": [
    {
     "data": {
      "text/plain": [
       "<matplotlib.axes._subplots.AxesSubplot at 0x7fe979718828>"
      ]
     },
     "execution_count": 8,
     "metadata": {},
     "output_type": "execute_result"
    },
    {
     "data": {
      "image/png": "[encoded data removed]",
      "text/plain": [
       "<Figure size 432x288 with 1 Axes>"
      ]
     },
     "metadata": {},
     "output_type": "display_data"
    }
   ],
   "source": [
    "trr.loc['2007':'2008'].recent_precip.plot()"
   ]
  },
  {
   "cell_type": "code",
   "execution_count": 55,
   "metadata": {},
   "outputs": [
    {
     "data": {
      "text/plain": [
       "<matplotlib.axes._subplots.AxesSubplot at 0x7fe96dc38b00>"
      ]
     },
     "execution_count": 55,
     "metadata": {},
     "output_type": "execute_result"
    },
    {
     "data": {
      "image/png": "[encoded data removed]",
      "text/plain": [
       "<Figure size 432x288 with 1 Axes>"
      ]
     },
     "metadata": {},
     "output_type": "display_data"
    }
   ],
   "source": [
    "trr.groupby(by=[trr.index.month, trr.index.year]).sum().dailyprecip.plot()"
   ]
  },
  {
   "cell_type": "code",
   "execution_count": 31,
   "metadata": {},
   "outputs": [
    {
     "data": {
      "text/html": [
       "<div>\n",
       "<style scoped>\n",
       "    .dataframe tbody tr th:only-of-type {\n",
       "        vertical-align: middle;\n",
       "    }\n",
       "\n",
       "    .dataframe tbody tr th {\n",
       "        vertical-align: top;\n",
       "    }\n",
       "\n",
       "    .dataframe thead th {\n",
       "        text-align: right;\n",
       "    }\n",
       "</style>\n",
       "<table border=\"1\" class=\"dataframe\">\n",
       "  <thead>\n",
       "    <tr style=\"text-align: right;\">\n",
       "      <th></th>\n",
       "      <th>stationcode</th>\n",
       "      <th>stationgroup</th>\n",
       "      <th>collectiontime</th>\n",
       "      <th>measure_code</th>\n",
       "      <th>analyte</th>\n",
       "      <th>methodname</th>\n",
       "      <th>unit</th>\n",
       "      <th>result</th>\n",
       "      <th>result_group_count</th>\n",
       "      <th>result_group_std</th>\n",
       "      <th>...</th>\n",
       "      <th>submittingagency</th>\n",
       "      <th>discharge_rate</th>\n",
       "      <th>recent_total_discharge</th>\n",
       "      <th>recent_max_discharge</th>\n",
       "      <th>dailyprecip</th>\n",
       "      <th>recent_precip</th>\n",
       "      <th>wl_max</th>\n",
       "      <th>wl_min</th>\n",
       "      <th>high_flow</th>\n",
       "      <th>ldischarge_rate</th>\n",
       "    </tr>\n",
       "  </thead>\n",
       "  <tbody>\n",
       "    <tr>\n",
       "      <th>1998-07-21</th>\n",
       "      <td>SE-010</td>\n",
       "      <td>SE</td>\n",
       "      <td>2018-08-11</td>\n",
       "      <td>0</td>\n",
       "      <td>Coliform, Fecal</td>\n",
       "      <td>MTF</td>\n",
       "      <td>MPN/100 mL</td>\n",
       "      <td>4.0</td>\n",
       "      <td>527</td>\n",
       "      <td>225.561709</td>\n",
       "      <td>...</td>\n",
       "      <td>SEJPA</td>\n",
       "      <td>8.8</td>\n",
       "      <td>27.0</td>\n",
       "      <td>27.4</td>\n",
       "      <td>NaN</td>\n",
       "      <td>NaN</td>\n",
       "      <td>NaN</td>\n",
       "      <td>NaN</td>\n",
       "      <td>1</td>\n",
       "      <td>2.174752</td>\n",
       "    </tr>\n",
       "    <tr>\n",
       "      <th>1998-07-21</th>\n",
       "      <td>SE-010</td>\n",
       "      <td>SE</td>\n",
       "      <td>2018-08-11</td>\n",
       "      <td>9</td>\n",
       "      <td>Coliform, Total</td>\n",
       "      <td>MTF</td>\n",
       "      <td>MPN/100 mL</td>\n",
       "      <td>4.0</td>\n",
       "      <td>530</td>\n",
       "      <td>309.086717</td>\n",
       "      <td>...</td>\n",
       "      <td>SEJPA</td>\n",
       "      <td>8.8</td>\n",
       "      <td>27.0</td>\n",
       "      <td>27.4</td>\n",
       "      <td>NaN</td>\n",
       "      <td>NaN</td>\n",
       "      <td>NaN</td>\n",
       "      <td>NaN</td>\n",
       "      <td>1</td>\n",
       "      <td>2.174752</td>\n",
       "    </tr>\n",
       "    <tr>\n",
       "      <th>1998-07-21</th>\n",
       "      <td>SE-010</td>\n",
       "      <td>SE</td>\n",
       "      <td>2018-08-11</td>\n",
       "      <td>26</td>\n",
       "      <td>Enterococcus</td>\n",
       "      <td>MTF</td>\n",
       "      <td>MPN/100 mL</td>\n",
       "      <td>2.0</td>\n",
       "      <td>488</td>\n",
       "      <td>148.631518</td>\n",
       "      <td>...</td>\n",
       "      <td>SEJPA</td>\n",
       "      <td>8.8</td>\n",
       "      <td>27.0</td>\n",
       "      <td>27.4</td>\n",
       "      <td>NaN</td>\n",
       "      <td>NaN</td>\n",
       "      <td>NaN</td>\n",
       "      <td>NaN</td>\n",
       "      <td>1</td>\n",
       "      <td>2.174752</td>\n",
       "    </tr>\n",
       "    <tr>\n",
       "      <th>1998-07-21</th>\n",
       "      <td>SE-020</td>\n",
       "      <td>SE</td>\n",
       "      <td>2018-08-11</td>\n",
       "      <td>0</td>\n",
       "      <td>Coliform, Fecal</td>\n",
       "      <td>MTF</td>\n",
       "      <td>MPN/100 mL</td>\n",
       "      <td>23.0</td>\n",
       "      <td>477</td>\n",
       "      <td>128.262880</td>\n",
       "      <td>...</td>\n",
       "      <td>SEJPA</td>\n",
       "      <td>8.8</td>\n",
       "      <td>27.0</td>\n",
       "      <td>27.4</td>\n",
       "      <td>NaN</td>\n",
       "      <td>NaN</td>\n",
       "      <td>NaN</td>\n",
       "      <td>NaN</td>\n",
       "      <td>1</td>\n",
       "      <td>2.174752</td>\n",
       "    </tr>\n",
       "    <tr>\n",
       "      <th>1998-07-21</th>\n",
       "      <td>SE-020</td>\n",
       "      <td>SE</td>\n",
       "      <td>2018-08-11</td>\n",
       "      <td>9</td>\n",
       "      <td>Coliform, Total</td>\n",
       "      <td>MTF</td>\n",
       "      <td>MPN/100 mL</td>\n",
       "      <td>23.0</td>\n",
       "      <td>477</td>\n",
       "      <td>263.711243</td>\n",
       "      <td>...</td>\n",
       "      <td>SEJPA</td>\n",
       "      <td>8.8</td>\n",
       "      <td>27.0</td>\n",
       "      <td>27.4</td>\n",
       "      <td>NaN</td>\n",
       "      <td>NaN</td>\n",
       "      <td>NaN</td>\n",
       "      <td>NaN</td>\n",
       "      <td>1</td>\n",
       "      <td>2.174752</td>\n",
       "    </tr>\n",
       "  </tbody>\n",
       "</table>\n",
       "<p>5 rows × 43 columns</p>\n",
       "</div>"
      ],
      "text/plain": [
       "           stationcode stationgroup collectiontime  measure_code  \\\n",
       "1998-07-21      SE-010           SE     2018-08-11             0   \n",
       "1998-07-21      SE-010           SE     2018-08-11             9   \n",
       "1998-07-21      SE-010           SE     2018-08-11            26   \n",
       "1998-07-21      SE-020           SE     2018-08-11             0   \n",
       "1998-07-21      SE-020           SE     2018-08-11             9   \n",
       "\n",
       "                    analyte methodname        unit  result  \\\n",
       "1998-07-21  Coliform, Fecal        MTF  MPN/100 mL     4.0   \n",
       "1998-07-21  Coliform, Total        MTF  MPN/100 mL     4.0   \n",
       "1998-07-21     Enterococcus        MTF  MPN/100 mL     2.0   \n",
       "1998-07-21  Coliform, Fecal        MTF  MPN/100 mL    23.0   \n",
       "1998-07-21  Coliform, Total        MTF  MPN/100 mL    23.0   \n",
       "\n",
       "            result_group_count  result_group_std       ...         \\\n",
       "1998-07-21                 527        225.561709       ...          \n",
       "1998-07-21                 530        309.086717       ...          \n",
       "1998-07-21                 488        148.631518       ...          \n",
       "1998-07-21                 477        128.262880       ...          \n",
       "1998-07-21                 477        263.711243       ...          \n",
       "\n",
       "            submittingagency  discharge_rate  recent_total_discharge  \\\n",
       "1998-07-21             SEJPA             8.8                    27.0   \n",
       "1998-07-21             SEJPA             8.8                    27.0   \n",
       "1998-07-21             SEJPA             8.8                    27.0   \n",
       "1998-07-21             SEJPA             8.8                    27.0   \n",
       "1998-07-21             SEJPA             8.8                    27.0   \n",
       "\n",
       "            recent_max_discharge  dailyprecip  recent_precip  wl_max  wl_min  \\\n",
       "1998-07-21                  27.4          NaN            NaN     NaN     NaN   \n",
       "1998-07-21                  27.4          NaN            NaN     NaN     NaN   \n",
       "1998-07-21                  27.4          NaN            NaN     NaN     NaN   \n",
       "1998-07-21                  27.4          NaN            NaN     NaN     NaN   \n",
       "1998-07-21                  27.4          NaN            NaN     NaN     NaN   \n",
       "\n",
       "            high_flow  ldischarge_rate  \n",
       "1998-07-21          1         2.174752  \n",
       "1998-07-21          1         2.174752  \n",
       "1998-07-21          1         2.174752  \n",
       "1998-07-21          1         2.174752  \n",
       "1998-07-21          1         2.174752  \n",
       "\n",
       "[5 rows x 43 columns]"
      ]
     },
     "execution_count": 31,
     "metadata": {},
     "output_type": "execute_result"
    }
   ],
   "source": [
    "bw_env = beachwatch.set_index('sampledate').join(trr)\n",
    "bw_env['high_flow'] =  (bw_env.recent_total_discharge > bw_env.recent_total_discharge.median()).astype(int)\n",
    "bw_env['ldischarge_rate'] = np.log(bw_env.discharge_rate)\n",
    "bw_env.head()"
   ]
  },
  {
   "cell_type": "code",
   "execution_count": 10,
   "metadata": {},
   "outputs": [
    {
     "data": {
      "image/png": "[encoded data removed]",
      "text/plain": [
       "<Figure size 1080x1512 with 1 Axes>"
      ]
     },
     "metadata": {},
     "output_type": "display_data"
    }
   ],
   "source": [
    "fig, ax = plt.subplots(figsize=(15,.5*len(bw_env.columns)))\n",
    "sns.heatmap(bw_env.sample(10000).isnull().T,cbar=False,xticklabels=False,cmap = 'viridis', ax=ax );"
   ]
  },
  {
   "cell_type": "code",
   "execution_count": 11,
   "metadata": {},
   "outputs": [
    {
     "data": {
      "text/plain": [
       "8440"
      ]
     },
     "execution_count": 11,
     "metadata": {},
     "output_type": "execute_result"
    }
   ],
   "source": [
    "sum(bw_env.recent_precip > 0.0)"
   ]
  },
  {
   "cell_type": "code",
   "execution_count": 26,
   "metadata": {},
   "outputs": [
    {
     "data": {
      "text/html": [
       "<div>\n",
       "<style scoped>\n",
       "    .dataframe tbody tr th:only-of-type {\n",
       "        vertical-align: middle;\n",
       "    }\n",
       "\n",
       "    .dataframe tbody tr th {\n",
       "        vertical-align: top;\n",
       "    }\n",
       "\n",
       "    .dataframe thead th {\n",
       "        text-align: right;\n",
       "    }\n",
       "</style>\n",
       "<table border=\"1\" class=\"dataframe\">\n",
       "  <thead>\n",
       "    <tr style=\"text-align: right;\">\n",
       "      <th></th>\n",
       "      <th>lresult_gt_lmean</th>\n",
       "      <th>discharge_rate</th>\n",
       "    </tr>\n",
       "  </thead>\n",
       "  <tbody>\n",
       "    <tr>\n",
       "      <th>0</th>\n",
       "      <td>0.0</td>\n",
       "      <td>10.482232</td>\n",
       "    </tr>\n",
       "    <tr>\n",
       "      <th>1</th>\n",
       "      <td>1.0</td>\n",
       "      <td>47.200024</td>\n",
       "    </tr>\n",
       "  </tbody>\n",
       "</table>\n",
       "</div>"
      ],
      "text/plain": [
       "   lresult_gt_lmean  discharge_rate\n",
       "0               0.0       10.482232\n",
       "1               1.0       47.200024"
      ]
     },
     "execution_count": 26,
     "metadata": {},
     "output_type": "execute_result"
    }
   ],
   "source": [
    "bw_env.groupby('lresult_gt_lmean').mean().discharge_rate.reset_index()"
   ]
  },
  {
   "cell_type": "code",
   "execution_count": 33,
   "metadata": {},
   "outputs": [
    {
     "data": {
      "image/png": "[encoded data removed]",
      "text/plain": [
       "<Figure size 432x288 with 1 Axes>"
      ]
     },
     "metadata": {},
     "output_type": "display_data"
    }
   ],
   "source": [
    "ax = sns.violinplot(x=bw_env.lresult_gt_lmedian, y=bw_env.ldischarge_rate)"
   ]
  },
  {
   "cell_type": "code",
   "execution_count": 20,
   "metadata": {},
   "outputs": [
    {
     "data": {
      "text/html": [
       "<div>\n",
       "<style scoped>\n",
       "    .dataframe tbody tr th:only-of-type {\n",
       "        vertical-align: middle;\n",
       "    }\n",
       "\n",
       "    .dataframe tbody tr th {\n",
       "        vertical-align: top;\n",
       "    }\n",
       "\n",
       "    .dataframe thead th {\n",
       "        text-align: right;\n",
       "    }\n",
       "</style>\n",
       "<table border=\"1\" class=\"dataframe\">\n",
       "  <thead>\n",
       "    <tr style=\"text-align: right;\">\n",
       "      <th></th>\n",
       "      <th>mean</th>\n",
       "      <th>std</th>\n",
       "      <th>median</th>\n",
       "    </tr>\n",
       "    <tr>\n",
       "      <th>lresult_gt_lmean</th>\n",
       "      <th></th>\n",
       "      <th></th>\n",
       "      <th></th>\n",
       "    </tr>\n",
       "  </thead>\n",
       "  <tbody>\n",
       "    <tr>\n",
       "      <th>0.0</th>\n",
       "      <td>10.482232</td>\n",
       "      <td>36.187658</td>\n",
       "      <td>3.15</td>\n",
       "    </tr>\n",
       "    <tr>\n",
       "      <th>1.0</th>\n",
       "      <td>47.200024</td>\n",
       "      <td>195.216645</td>\n",
       "      <td>5.70</td>\n",
       "    </tr>\n",
       "  </tbody>\n",
       "</table>\n",
       "</div>"
      ],
      "text/plain": [
       "                       mean         std  median\n",
       "lresult_gt_lmean                               \n",
       "0.0               10.482232   36.187658    3.15\n",
       "1.0               47.200024  195.216645    5.70"
      ]
     },
     "execution_count": 20,
     "metadata": {},
     "output_type": "execute_result"
    }
   ],
   "source": [
    "bw_env.groupby('lresult_gt_lmean').discharge_rate.agg(['mean','std','median'])"
   ]
  },
  {
   "cell_type": "code",
   "execution_count": 34,
   "metadata": {},
   "outputs": [
    {
     "data": {
      "text/plain": [
       "lresult_gt_lmean\n",
       "0.0    0.024758\n",
       "1.0    0.129421\n",
       "Name: recent_precip, dtype: float64"
      ]
     },
     "execution_count": 34,
     "metadata": {},
     "output_type": "execute_result"
    }
   ],
   "source": [
    "bw_env.groupby('lresult_gt_lmean').mean().recent_precip"
   ]
  },
  {
   "cell_type": "code",
   "execution_count": 36,
   "metadata": {},
   "outputs": [
    {
     "data": {
      "text/plain": [
       "<matplotlib.axes._subplots.AxesSubplot at 0x7fe9784980f0>"
      ]
     },
     "execution_count": 36,
     "metadata": {},
     "output_type": "execute_result"
    },
    {
     "data": {
      "image/png": "[encoded data removed]",
      "text/plain": [
       "<Figure size 432x288 with 1 Axes>"
      ]
     },
     "metadata": {},
     "output_type": "display_data"
    }
   ],
   "source": [
    "pd.crosstab(bw_env.lresult_gt_lmedian, bw_env.recent_precip > 0.01 ).plot(kind='bar')"
   ]
  },
  {
   "cell_type": "code",
   "execution_count": 38,
   "metadata": {},
   "outputs": [
    {
     "name": "stdout",
     "output_type": "stream",
     "text": [
      "Optimization terminated successfully.\n",
      "         Current function value: 0.629777\n",
      "         Iterations 4\n",
      "                           Logit Regression Results                           \n",
      "==============================================================================\n",
      "Dep. Variable:     lresult_gt_lmedian   No. Observations:               202257\n",
      "Model:                          Logit   Df Residuals:                   202255\n",
      "Method:                           MLE   Df Model:                            1\n",
      "Date:                Sat, 11 Aug 2018   Pseudo R-squ.:                0.003209\n",
      "Time:                        19:37:02   Log-Likelihood:            -1.2738e+05\n",
      "converged:                       True   LL-Null:                   -1.2779e+05\n",
      "                                        LLR p-value:                2.207e-180\n",
      "==============================================================================\n",
      "                 coef    std err          z      P>|z|      [0.025      0.975]\n",
      "------------------------------------------------------------------------------\n",
      "X              0.6477      0.022     28.995      0.000       0.604       0.691\n",
      "const         -0.7525      0.005   -154.573      0.000      -0.762      -0.743\n",
      "==============================================================================\n",
      "           2.5%     97.5%        OR\n",
      "X      1.829216  1.996601  1.911077\n",
      "const  0.466712  0.475704  0.471186\n"
     ]
    }
   ],
   "source": [
    "def logit(y,X):\n",
    "    import statsmodels.api as sm\n",
    "\n",
    "    X_ = pd.DataFrame()\n",
    "   \n",
    "    X_['X'] = X\n",
    "    X_['const'] = 1\n",
    "\n",
    "    logit_model=sm.Logit(y,X_)\n",
    "    result=logit_model.fit()\n",
    "    print(result.summary())\n",
    "\n",
    "    # Odds ratio and conf interval\n",
    "    params = result.params\n",
    "    conf = result.conf_int()\n",
    "    conf['OR'] = params\n",
    "    conf.columns = ['2.5%', '97.5%', 'OR']\n",
    "    print(np.exp(conf))\n",
    "    \n",
    "logit(\n",
    "    y = bw_env.lresult_gt_lmedian.astype(int), \n",
    "    X = (bw_env.recent_precip.fillna(0) > 0).astype(int)\n",
    ")"
   ]
  },
  {
   "cell_type": "markdown",
   "metadata": {},
   "source": [
    "That's an odds ratio of nearly 1:2, so days with non-zero recent precipitation are about twice as likely to have a bacteria county above the median"
   ]
  },
  {
   "cell_type": "code",
   "execution_count": 39,
   "metadata": {},
   "outputs": [
    {
     "name": "stdout",
     "output_type": "stream",
     "text": [
      "Optimization terminated successfully.\n",
      "         Current function value: 0.628095\n",
      "         Iterations 6\n",
      "                           Logit Regression Results                           \n",
      "==============================================================================\n",
      "Dep. Variable:     lresult_gt_lmedian   No. Observations:               202257\n",
      "Model:                          Logit   Df Residuals:                   202255\n",
      "Method:                           MLE   Df Model:                            1\n",
      "Date:                Sat, 11 Aug 2018   Pseudo R-squ.:                0.005872\n",
      "Time:                        19:37:30   Log-Likelihood:            -1.2704e+05\n",
      "converged:                       True   LL-Null:                   -1.2779e+05\n",
      "                                        LLR p-value:                     0.000\n",
      "==============================================================================\n",
      "                 coef    std err          z      P>|z|      [0.025      0.975]\n",
      "------------------------------------------------------------------------------\n",
      "X              1.7654      0.054     32.978      0.000       1.660       1.870\n",
      "const         -0.7477      0.005   -155.751      0.000      -0.757      -0.738\n",
      "==============================================================================\n",
      "           2.5%     97.5%        OR\n",
      "X      5.261859  6.490440  5.843953\n",
      "const  0.469015  0.477925  0.473449\n"
     ]
    }
   ],
   "source": [
    "logit(\n",
    "    y = bw_env.lresult_gt_lmedian.astype(int), \n",
    "    X = bw_env.recent_precip.fillna(0)\n",
    ")\n"
   ]
  },
  {
   "cell_type": "markdown",
   "metadata": {},
   "source": [
    "I think this means that a 1 unit ( 1 inch ) increase in the recent precipitation increases the odds of above median bacteria counts by a factor of 6. "
   ]
  },
  {
   "cell_type": "code",
   "execution_count": 40,
   "metadata": {},
   "outputs": [
    {
     "name": "stdout",
     "output_type": "stream",
     "text": [
      "Optimization terminated successfully.\n",
      "         Current function value: 0.628095\n",
      "         Iterations 6\n",
      "                           Logit Regression Results                           \n",
      "==============================================================================\n",
      "Dep. Variable:     lresult_gt_lmedian   No. Observations:               202257\n",
      "Model:                          Logit   Df Residuals:                   202255\n",
      "Method:                           MLE   Df Model:                            1\n",
      "Date:                Sat, 11 Aug 2018   Pseudo R-squ.:                0.005872\n",
      "Time:                        19:37:45   Log-Likelihood:            -1.2704e+05\n",
      "converged:                       True   LL-Null:                   -1.2779e+05\n",
      "                                        LLR p-value:                     0.000\n",
      "==============================================================================\n",
      "                 coef    std err          z      P>|z|      [0.025      0.975]\n",
      "------------------------------------------------------------------------------\n",
      "X              1.7654      0.054     32.978      0.000       1.660       1.870\n",
      "const         -0.7477      0.005   -155.751      0.000      -0.757      -0.738\n",
      "==============================================================================\n",
      "           2.5%     97.5%        OR\n",
      "X      5.261859  6.490440  5.843953\n",
      "const  0.469015  0.477925  0.473449\n"
     ]
    }
   ],
   "source": [
    "logit(\n",
    "    y = bw_env.lresult_gt_lmedian.astype(int), \n",
    "    X = bw_env.recent_precip.fillna(0)\n",
    ")"
   ]
  },
  {
   "cell_type": "code",
   "execution_count": 43,
   "metadata": {},
   "outputs": [
    {
     "name": "stdout",
     "output_type": "stream",
     "text": [
      "Optimization terminated successfully.\n",
      "         Current function value: 0.578986\n",
      "         Iterations 7\n",
      "                           Logit Regression Results                           \n",
      "==============================================================================\n",
      "Dep. Variable:                      y   No. Observations:                52202\n",
      "Model:                          Logit   Df Residuals:                    52200\n",
      "Method:                           MLE   Df Model:                            1\n",
      "Date:                Sat, 11 Aug 2018   Pseudo R-squ.:                0.009148\n",
      "Time:                        19:39:02   Log-Likelihood:                -30224.\n",
      "converged:                       True   LL-Null:                       -30503.\n",
      "                                        LLR p-value:                2.171e-123\n",
      "==============================================================================\n",
      "                 coef    std err          z      P>|z|      [0.025      0.975]\n",
      "------------------------------------------------------------------------------\n",
      "X              3.5838      0.232     15.436      0.000       3.129       4.039\n",
      "const         -1.0074      0.010   -101.606      0.000      -1.027      -0.988\n",
      "==============================================================================\n",
      "            2.5%      97.5%         OR\n",
      "X      22.845707  56.760078  36.010055\n",
      "const   0.358148   0.372341   0.365176\n"
     ]
    }
   ],
   "source": [
    "_1 = pd.DataFrame()\n",
    "_1['y'] = bw_env.lresult_gt_lmedian.astype(int)\n",
    "_1['X'] = bw_env.recent_precip.apply(lambda x: 1 if x > 1.5 else 0 if x < .5 else np.nan)\n",
    "_2 = _1.dropna()\n",
    "\n",
    "logit(\n",
    "    y = _2['y'],\n",
    "    X = _2['X']\n",
    ")\n",
    "\n"
   ]
  },
  {
   "cell_type": "markdown",
   "metadata": {},
   "source": [
    "I think this means that a greater than median reading is 36 times more likely with a recent rainfall of 1.5 inches or greater than with .5 inch or less. "
   ]
  },
  {
   "cell_type": "markdown",
   "metadata": {},
   "source": [
    "# Rain Seasonality\n",
    "\n",
    "Maybe there is a stonger correlation to precipitation in the first rains of the season? The guess is that late in the season, pollutants and nutrients have already been washed out by the early rains, so there should be more pollution earlier in the season. \n"
   ]
  },
  {
   "cell_type": "code",
   "execution_count": 106,
   "metadata": {},
   "outputs": [],
   "source": [
    "# Compute the quartile of rainfall for each month\n",
    "\n",
    "_1 = pd.qcut(trr.groupby(trr.index.month).sum().dailyprecip, \n",
    "             q=[0, .3, .5, .75, 1.], # .3 not .25 to smooth out summer\n",
    "            labels=[1,2,3,4])\n",
    "\n",
    "dmap = {e['date']:e['dailyprecip'] for _,e in _1.to_frame().reset_index().iterrows()}\n",
    "\n",
    "#trr.apply( lambda row: dmap[row.index.month])\n",
    "bw_env['month'] = bw_env.index.month\n",
    "bw_env['precip_month_q'] = bw_env.month.apply(lambda v: dmap[v])\n"
   ]
  },
  {
   "cell_type": "code",
   "execution_count": 111,
   "metadata": {},
   "outputs": [
    {
     "data": {
      "text/plain": [
       "<matplotlib.axes._subplots.AxesSubplot at 0x7fe96cc26cf8>"
      ]
     },
     "execution_count": 111,
     "metadata": {},
     "output_type": "execute_result"
    },
    {
     "data": {
      "image/png": "[encoded data removed]",
      "text/plain": [
       "<Figure size 432x288 with 1 Axes>"
      ]
     },
     "metadata": {},
     "output_type": "display_data"
    }
   ],
   "source": [
    "trr.groupby(trr.index.month).sum().dailyprecip.plot()"
   ]
  },
  {
   "cell_type": "code",
   "execution_count": 110,
   "metadata": {},
   "outputs": [
    {
     "data": {
      "text/plain": [
       "<matplotlib.axes._subplots.AxesSubplot at 0x7fe96da23828>"
      ]
     },
     "execution_count": 110,
     "metadata": {},
     "output_type": "execute_result"
    },
    {
     "data": {
      "image/png": "[encoded data removed]",
      "text/plain": [
       "<Figure size 432x288 with 1 Axes>"
      ]
     },
     "metadata": {},
     "output_type": "display_data"
    }
   ],
   "source": [
    "bw_env.groupby(bw_env.month).lresult_gt_lmedian.sum().plot()"
   ]
  },
  {
   "cell_type": "code",
   "execution_count": 107,
   "metadata": {},
   "outputs": [
    {
     "data": {
      "text/plain": [
       "precip_month_q\n",
       "1    22320.0\n",
       "2    12355.0\n",
       "3    15986.0\n",
       "4    15413.0\n",
       "Name: lresult_gt_lmedian, dtype: float64"
      ]
     },
     "execution_count": 107,
     "metadata": {},
     "output_type": "execute_result"
    }
   ],
   "source": [
    "bw_env.groupby(bw_env['precip_month_q']).lresult_gt_lmedian.sum()"
   ]
  },
  {
   "cell_type": "code",
   "execution_count": 104,
   "metadata": {},
   "outputs": [
    {
     "data": {
      "text/plain": [
       "<bound method Index._add_logical_methods.<locals>._make_logical_function.<locals>.logical_func of Int64Index([ 7,  7,  7,  7,  7,  7,  7,  7,  7,  7,\n",
       "            ...\n",
       "            12, 12, 12, 12, 12, 12, 12, 12, 12, 12],\n",
       "           dtype='int64', length=202257)>"
      ]
     },
     "execution_count": 104,
     "metadata": {},
     "output_type": "execute_result"
    }
   ],
   "source": [
    "bw_env.index.month.all"
   ]
  },
  {
   "cell_type": "code",
   "execution_count": null,
   "metadata": {},
   "outputs": [],
   "source": []
  }
 ],
 "metadata": {
  "kernelspec": {
   "display_name": "Python 3",
   "language": "python",
   "name": "python3"
  },
  "language_info": {
   "codemirror_mode": {
    "name": "ipython",
    "version": 3
   },
   "file_extension": ".py",
   "mimetype": "text/x-python",
   "name": "python",
   "nbconvert_exporter": "python",
   "pygments_lexer": "ipython3",
   "version": "3.6.6"
  }
 },
 "nbformat": 4,
 "nbformat_minor": 2
}
