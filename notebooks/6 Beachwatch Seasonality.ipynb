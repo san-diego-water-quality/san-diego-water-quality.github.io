{
 "cells": [
  {
   "cell_type": "code",
   "execution_count": 1,
   "metadata": {},
   "outputs": [],
   "source": [
    "# Beachwatch Logistic Regressions"
   ]
  },
  {
   "cell_type": "code",
   "execution_count": 2,
   "metadata": {},
   "outputs": [],
   "source": [
    "import matplotlib.pyplot as plt \n",
    "import metapack as mp\n",
    "import pandas as pd\n",
    "import numpy as np\n",
    "import seaborn as sns\n",
    "sns.set(color_codes=True)\n",
    "%matplotlib inline"
   ]
  },
  {
   "cell_type": "code",
   "execution_count": 3,
   "metadata": {},
   "outputs": [
    {
     "data": {
      "text/html": [
       "<div>\n",
       "<style scoped>\n",
       "    .dataframe tbody tr th:only-of-type {\n",
       "        vertical-align: middle;\n",
       "    }\n",
       "\n",
       "    .dataframe tbody tr th {\n",
       "        vertical-align: top;\n",
       "    }\n",
       "\n",
       "    .dataframe thead th {\n",
       "        text-align: right;\n",
       "    }\n",
       "</style>\n",
       "<table border=\"1\" class=\"dataframe\">\n",
       "  <thead>\n",
       "    <tr style=\"text-align: right;\">\n",
       "      <th></th>\n",
       "      <th>stationcode</th>\n",
       "      <th>stationgroup</th>\n",
       "      <th>sampledate</th>\n",
       "      <th>collectiontime</th>\n",
       "      <th>measure_code</th>\n",
       "      <th>analyte</th>\n",
       "      <th>methodname</th>\n",
       "      <th>unit</th>\n",
       "      <th>result</th>\n",
       "      <th>result_group_count</th>\n",
       "      <th>...</th>\n",
       "      <th>lresult_gt_lmedian</th>\n",
       "      <th>lresult_gt_lmean</th>\n",
       "      <th>lresult_lte_25pctl</th>\n",
       "      <th>lresult_gte_75pctl</th>\n",
       "      <th>labbatch</th>\n",
       "      <th>resultqualcode</th>\n",
       "      <th>qacode</th>\n",
       "      <th>sampleagency</th>\n",
       "      <th>labagency</th>\n",
       "      <th>submittingagency</th>\n",
       "    </tr>\n",
       "  </thead>\n",
       "  <tbody>\n",
       "    <tr>\n",
       "      <th>0</th>\n",
       "      <td>EH-010</td>\n",
       "      <td>EH</td>\n",
       "      <td>1999-05-26</td>\n",
       "      <td>2018-11-15</td>\n",
       "      <td>0</td>\n",
       "      <td>Coliform, Fecal</td>\n",
       "      <td>MTF</td>\n",
       "      <td>MPN/100 mL</td>\n",
       "      <td>20.0</td>\n",
       "      <td>213</td>\n",
       "      <td>...</td>\n",
       "      <td>0.0</td>\n",
       "      <td>0.0</td>\n",
       "      <td>0.0</td>\n",
       "      <td>1.0</td>\n",
       "      <td>SH-5/26/1999</td>\n",
       "      <td>&lt;</td>\n",
       "      <td>NR</td>\n",
       "      <td>SDCDEH</td>\n",
       "      <td>SDCDEH</td>\n",
       "      <td>SDCDEH</td>\n",
       "    </tr>\n",
       "    <tr>\n",
       "      <th>1</th>\n",
       "      <td>EH-010</td>\n",
       "      <td>EH</td>\n",
       "      <td>1999-10-13</td>\n",
       "      <td>2018-11-15</td>\n",
       "      <td>0</td>\n",
       "      <td>Coliform, Fecal</td>\n",
       "      <td>MTF</td>\n",
       "      <td>MPN/100 mL</td>\n",
       "      <td>0.0</td>\n",
       "      <td>213</td>\n",
       "      <td>...</td>\n",
       "      <td>0.0</td>\n",
       "      <td>0.0</td>\n",
       "      <td>0.0</td>\n",
       "      <td>0.0</td>\n",
       "      <td>SH-10/13/1999</td>\n",
       "      <td>=</td>\n",
       "      <td>NR</td>\n",
       "      <td>SDCDEH</td>\n",
       "      <td>SDCDEH</td>\n",
       "      <td>SDCDEH</td>\n",
       "    </tr>\n",
       "    <tr>\n",
       "      <th>2</th>\n",
       "      <td>EH-010</td>\n",
       "      <td>EH</td>\n",
       "      <td>1999-10-26</td>\n",
       "      <td>2018-11-15</td>\n",
       "      <td>0</td>\n",
       "      <td>Coliform, Fecal</td>\n",
       "      <td>MTF</td>\n",
       "      <td>MPN/100 mL</td>\n",
       "      <td>20.0</td>\n",
       "      <td>213</td>\n",
       "      <td>...</td>\n",
       "      <td>0.0</td>\n",
       "      <td>0.0</td>\n",
       "      <td>0.0</td>\n",
       "      <td>1.0</td>\n",
       "      <td>SH-10/26/1999</td>\n",
       "      <td>&lt;</td>\n",
       "      <td>NR</td>\n",
       "      <td>SDCDEH</td>\n",
       "      <td>SDCDEH</td>\n",
       "      <td>SDCDEH</td>\n",
       "    </tr>\n",
       "    <tr>\n",
       "      <th>3</th>\n",
       "      <td>EH-010</td>\n",
       "      <td>EH</td>\n",
       "      <td>2000-03-21</td>\n",
       "      <td>2018-11-15</td>\n",
       "      <td>0</td>\n",
       "      <td>Coliform, Fecal</td>\n",
       "      <td>MTF</td>\n",
       "      <td>MPN/100 mL</td>\n",
       "      <td>20.0</td>\n",
       "      <td>213</td>\n",
       "      <td>...</td>\n",
       "      <td>0.0</td>\n",
       "      <td>0.0</td>\n",
       "      <td>0.0</td>\n",
       "      <td>1.0</td>\n",
       "      <td>SH-3/21/2000</td>\n",
       "      <td>&lt;</td>\n",
       "      <td>NR</td>\n",
       "      <td>SDCDEH</td>\n",
       "      <td>SDCDEH</td>\n",
       "      <td>SDCDEH</td>\n",
       "    </tr>\n",
       "    <tr>\n",
       "      <th>4</th>\n",
       "      <td>EH-010</td>\n",
       "      <td>EH</td>\n",
       "      <td>2000-05-24</td>\n",
       "      <td>2018-11-15</td>\n",
       "      <td>0</td>\n",
       "      <td>Coliform, Fecal</td>\n",
       "      <td>MTF</td>\n",
       "      <td>MPN/100 mL</td>\n",
       "      <td>230.0</td>\n",
       "      <td>213</td>\n",
       "      <td>...</td>\n",
       "      <td>1.0</td>\n",
       "      <td>1.0</td>\n",
       "      <td>0.0</td>\n",
       "      <td>1.0</td>\n",
       "      <td>SH-5/24/2000</td>\n",
       "      <td>=</td>\n",
       "      <td>NR</td>\n",
       "      <td>SDCDEH</td>\n",
       "      <td>SDCDEH</td>\n",
       "      <td>SDCDEH</td>\n",
       "    </tr>\n",
       "  </tbody>\n",
       "</table>\n",
       "<p>5 rows × 35 columns</p>\n",
       "</div>"
      ],
      "text/plain": [
       "  stationcode stationgroup sampledate collectiontime  measure_code  \\\n",
       "0      EH-010           EH 1999-05-26     2018-11-15             0   \n",
       "1      EH-010           EH 1999-10-13     2018-11-15             0   \n",
       "2      EH-010           EH 1999-10-26     2018-11-15             0   \n",
       "3      EH-010           EH 2000-03-21     2018-11-15             0   \n",
       "4      EH-010           EH 2000-05-24     2018-11-15             0   \n",
       "\n",
       "           analyte methodname        unit  result  result_group_count  \\\n",
       "0  Coliform, Fecal        MTF  MPN/100 mL    20.0                 213   \n",
       "1  Coliform, Fecal        MTF  MPN/100 mL     0.0                 213   \n",
       "2  Coliform, Fecal        MTF  MPN/100 mL    20.0                 213   \n",
       "3  Coliform, Fecal        MTF  MPN/100 mL    20.0                 213   \n",
       "4  Coliform, Fecal        MTF  MPN/100 mL   230.0                 213   \n",
       "\n",
       "         ...         lresult_gt_lmedian  lresult_gt_lmean  lresult_lte_25pctl  \\\n",
       "0        ...                        0.0               0.0                 0.0   \n",
       "1        ...                        0.0               0.0                 0.0   \n",
       "2        ...                        0.0               0.0                 0.0   \n",
       "3        ...                        0.0               0.0                 0.0   \n",
       "4        ...                        1.0               1.0                 0.0   \n",
       "\n",
       "   lresult_gte_75pctl       labbatch  resultqualcode  qacode  sampleagency  \\\n",
       "0                 1.0   SH-5/26/1999               <      NR        SDCDEH   \n",
       "1                 0.0  SH-10/13/1999               =      NR        SDCDEH   \n",
       "2                 1.0  SH-10/26/1999               <      NR        SDCDEH   \n",
       "3                 1.0   SH-3/21/2000               <      NR        SDCDEH   \n",
       "4                 1.0   SH-5/24/2000               =      NR        SDCDEH   \n",
       "\n",
       "   labagency  submittingagency  \n",
       "0     SDCDEH            SDCDEH  \n",
       "1     SDCDEH            SDCDEH  \n",
       "2     SDCDEH            SDCDEH  \n",
       "3     SDCDEH            SDCDEH  \n",
       "4     SDCDEH            SDCDEH  \n",
       "\n",
       "[5 rows x 35 columns]"
      ]
     },
     "execution_count": 3,
     "metadata": {},
     "output_type": "execute_result"
    }
   ],
   "source": [
    "import metapack as mp\n",
    "pkg = mp.open_package('http://library.metatab.org/sandiegodata.org-beachwatch-4.zip')\n",
    "beachwatch =    pkg.resource('beachwatch').read_csv(parse_dates=True)\n",
    "measure_codes = pkg.resource('measure_codes').read_csv(parse_dates=True)\n",
    "stations =      pkg.resource('stations').read_csv(parse_dates=True)\n",
    "\n",
    "beachwatch.head()"
   ]
  },
  {
   "cell_type": "code",
   "execution_count": 4,
   "metadata": {},
   "outputs": [
    {
     "data": {
      "text/plain": [
       "0.0    136183\n",
       "1.0     66074\n",
       "Name: lresult_gt_lmedian, dtype: int64"
      ]
     },
     "execution_count": 4,
     "metadata": {},
     "output_type": "execute_result"
    }
   ],
   "source": [
    "\n",
    "beachwatch.lresult_gt_lmedian.value_counts(dropna=False)"
   ]
  },
  {
   "cell_type": "code",
   "execution_count": 5,
   "metadata": {},
   "outputs": [
    {
     "data": {
      "text/plain": [
       "0.043489224105964196"
      ]
     },
     "execution_count": 5,
     "metadata": {},
     "output_type": "execute_result"
    }
   ],
   "source": [
    "# Proportion of gt_mean and mt_median that are different. \n",
    "len(beachwatch[ beachwatch.lresult_gt_lmedian.notnull() & beachwatch.lresult_gt_lmedian.notnull() &  \n",
    "        (beachwatch.lresult_gt_lmedian != beachwatch.lresult_gt_lmean)])  / len(beachwatch)"
   ]
  },
  {
   "cell_type": "markdown",
   "metadata": {},
   "source": [
    "# Merge in environmental data"
   ]
  },
  {
   "cell_type": "code",
   "execution_count": 6,
   "metadata": {},
   "outputs": [],
   "source": [
    "env_pkg =  mp.open_package('http://library.metatab.org/sandiegodata.org-water_quality-4.zip')"
   ]
  },
  {
   "cell_type": "code",
   "execution_count": 7,
   "metadata": {},
   "outputs": [
    {
     "data": {
      "text/html": [
       "<div>\n",
       "<style scoped>\n",
       "    .dataframe tbody tr th:only-of-type {\n",
       "        vertical-align: middle;\n",
       "    }\n",
       "\n",
       "    .dataframe tbody tr th {\n",
       "        vertical-align: top;\n",
       "    }\n",
       "\n",
       "    .dataframe thead th {\n",
       "        text-align: right;\n",
       "    }\n",
       "</style>\n",
       "<table border=\"1\" class=\"dataframe\">\n",
       "  <thead>\n",
       "    <tr style=\"text-align: right;\">\n",
       "      <th></th>\n",
       "      <th>discharge_rate</th>\n",
       "      <th>recent_total_discharge</th>\n",
       "      <th>recent_max_discharge</th>\n",
       "      <th>dailyprecip</th>\n",
       "      <th>recent_precip</th>\n",
       "      <th>wl_max</th>\n",
       "      <th>wl_min</th>\n",
       "    </tr>\n",
       "    <tr>\n",
       "      <th>date</th>\n",
       "      <th></th>\n",
       "      <th></th>\n",
       "      <th></th>\n",
       "      <th></th>\n",
       "      <th></th>\n",
       "      <th></th>\n",
       "      <th></th>\n",
       "    </tr>\n",
       "  </thead>\n",
       "  <tbody>\n",
       "    <tr>\n",
       "      <th>1988-01-01</th>\n",
       "      <td>22.0</td>\n",
       "      <td>22.0</td>\n",
       "      <td>22.0</td>\n",
       "      <td>NaN</td>\n",
       "      <td>NaN</td>\n",
       "      <td>NaN</td>\n",
       "      <td>NaN</td>\n",
       "    </tr>\n",
       "    <tr>\n",
       "      <th>1988-01-02</th>\n",
       "      <td>20.0</td>\n",
       "      <td>42.0</td>\n",
       "      <td>42.0</td>\n",
       "      <td>NaN</td>\n",
       "      <td>NaN</td>\n",
       "      <td>NaN</td>\n",
       "      <td>NaN</td>\n",
       "    </tr>\n",
       "    <tr>\n",
       "      <th>1988-01-03</th>\n",
       "      <td>18.0</td>\n",
       "      <td>60.0</td>\n",
       "      <td>60.0</td>\n",
       "      <td>NaN</td>\n",
       "      <td>NaN</td>\n",
       "      <td>NaN</td>\n",
       "      <td>NaN</td>\n",
       "    </tr>\n",
       "    <tr>\n",
       "      <th>1988-01-04</th>\n",
       "      <td>18.0</td>\n",
       "      <td>56.0</td>\n",
       "      <td>60.0</td>\n",
       "      <td>NaN</td>\n",
       "      <td>NaN</td>\n",
       "      <td>NaN</td>\n",
       "      <td>NaN</td>\n",
       "    </tr>\n",
       "    <tr>\n",
       "      <th>1988-01-05</th>\n",
       "      <td>21.0</td>\n",
       "      <td>57.0</td>\n",
       "      <td>60.0</td>\n",
       "      <td>NaN</td>\n",
       "      <td>NaN</td>\n",
       "      <td>NaN</td>\n",
       "      <td>NaN</td>\n",
       "    </tr>\n",
       "  </tbody>\n",
       "</table>\n",
       "</div>"
      ],
      "text/plain": [
       "            discharge_rate  recent_total_discharge  recent_max_discharge  \\\n",
       "date                                                                       \n",
       "1988-01-01            22.0                    22.0                  22.0   \n",
       "1988-01-02            20.0                    42.0                  42.0   \n",
       "1988-01-03            18.0                    60.0                  60.0   \n",
       "1988-01-04            18.0                    56.0                  60.0   \n",
       "1988-01-05            21.0                    57.0                  60.0   \n",
       "\n",
       "            dailyprecip  recent_precip  wl_max  wl_min  \n",
       "date                                                    \n",
       "1988-01-01          NaN            NaN     NaN     NaN  \n",
       "1988-01-02          NaN            NaN     NaN     NaN  \n",
       "1988-01-03          NaN            NaN     NaN     NaN  \n",
       "1988-01-04          NaN            NaN     NaN     NaN  \n",
       "1988-01-05          NaN            NaN     NaN     NaN  "
      ]
     },
     "execution_count": 7,
     "metadata": {},
     "output_type": "execute_result"
    }
   ],
   "source": [
    "trr = env_pkg.resource('tides_river_rain').read_csv(parse_dates=True).set_index('date')\n",
    "trr.head()"
   ]
  },
  {
   "cell_type": "code",
   "execution_count": 8,
   "metadata": {},
   "outputs": [
    {
     "data": {
      "text/plain": [
       "<matplotlib.axes._subplots.AxesSubplot at 0x10d4ed710>"
      ]
     },
     "execution_count": 8,
     "metadata": {},
     "output_type": "execute_result"
    },
    {
     "data": {
      "image/png": "[encoded data removed]",
      "text/plain": [
       "<Figure size 432x288 with 1 Axes>"
      ]
     },
     "metadata": {},
     "output_type": "display_data"
    }
   ],
   "source": [
    "trr.loc['2007':'2008'].recent_precip.plot()"
   ]
  },
  {
   "cell_type": "code",
   "execution_count": 9,
   "metadata": {},
   "outputs": [
    {
     "data": {
      "text/plain": [
       "<matplotlib.axes._subplots.AxesSubplot at 0x10ce1cb70>"
      ]
     },
     "execution_count": 9,
     "metadata": {},
     "output_type": "execute_result"
    },
    {
     "data": {
      "image/png": "[encoded data removed]",
      "text/plain": [
       "<Figure size 432x288 with 1 Axes>"
      ]
     },
     "metadata": {},
     "output_type": "display_data"
    }
   ],
   "source": [
    "trr.groupby(by=[trr.index.month, trr.index.year]).sum().dailyprecip.plot()"
   ]
  },
  {
   "cell_type": "markdown",
   "metadata": {},
   "source": [
    "# Rain Seasonality\n",
    "\n",
    "Maybe there is a stonger correlation to precipitation in the first rains of the season? The guess is that late in the season, pollutants and nutrients have already been washed out by the early rains, so there should be more pollution earlier in the season. \n"
   ]
  },
  {
   "cell_type": "code",
   "execution_count": 10,
   "metadata": {},
   "outputs": [
    {
     "data": {
      "text/html": [
       "<div>\n",
       "<style scoped>\n",
       "    .dataframe tbody tr th:only-of-type {\n",
       "        vertical-align: middle;\n",
       "    }\n",
       "\n",
       "    .dataframe tbody tr th {\n",
       "        vertical-align: top;\n",
       "    }\n",
       "\n",
       "    .dataframe thead th {\n",
       "        text-align: right;\n",
       "    }\n",
       "</style>\n",
       "<table border=\"1\" class=\"dataframe\">\n",
       "  <thead>\n",
       "    <tr style=\"text-align: right;\">\n",
       "      <th></th>\n",
       "      <th>stationcode</th>\n",
       "      <th>stationgroup</th>\n",
       "      <th>collectiontime</th>\n",
       "      <th>measure_code</th>\n",
       "      <th>analyte</th>\n",
       "      <th>methodname</th>\n",
       "      <th>unit</th>\n",
       "      <th>result</th>\n",
       "      <th>result_group_count</th>\n",
       "      <th>result_group_std</th>\n",
       "      <th>...</th>\n",
       "      <th>submittingagency</th>\n",
       "      <th>discharge_rate</th>\n",
       "      <th>recent_total_discharge</th>\n",
       "      <th>recent_max_discharge</th>\n",
       "      <th>dailyprecip</th>\n",
       "      <th>recent_precip</th>\n",
       "      <th>wl_max</th>\n",
       "      <th>wl_min</th>\n",
       "      <th>high_flow</th>\n",
       "      <th>ldischarge_rate</th>\n",
       "    </tr>\n",
       "  </thead>\n",
       "  <tbody>\n",
       "    <tr>\n",
       "      <th>1998-07-21</th>\n",
       "      <td>SE-010</td>\n",
       "      <td>SE</td>\n",
       "      <td>2018-11-15</td>\n",
       "      <td>0</td>\n",
       "      <td>Coliform, Fecal</td>\n",
       "      <td>MTF</td>\n",
       "      <td>MPN/100 mL</td>\n",
       "      <td>4.0</td>\n",
       "      <td>527</td>\n",
       "      <td>225.561709</td>\n",
       "      <td>...</td>\n",
       "      <td>SEJPA</td>\n",
       "      <td>8.8</td>\n",
       "      <td>27.0</td>\n",
       "      <td>27.4</td>\n",
       "      <td>NaN</td>\n",
       "      <td>NaN</td>\n",
       "      <td>NaN</td>\n",
       "      <td>NaN</td>\n",
       "      <td>1</td>\n",
       "      <td>2.174752</td>\n",
       "    </tr>\n",
       "    <tr>\n",
       "      <th>1998-07-21</th>\n",
       "      <td>SE-010</td>\n",
       "      <td>SE</td>\n",
       "      <td>2018-11-15</td>\n",
       "      <td>9</td>\n",
       "      <td>Coliform, Total</td>\n",
       "      <td>MTF</td>\n",
       "      <td>MPN/100 mL</td>\n",
       "      <td>4.0</td>\n",
       "      <td>530</td>\n",
       "      <td>309.086717</td>\n",
       "      <td>...</td>\n",
       "      <td>SEJPA</td>\n",
       "      <td>8.8</td>\n",
       "      <td>27.0</td>\n",
       "      <td>27.4</td>\n",
       "      <td>NaN</td>\n",
       "      <td>NaN</td>\n",
       "      <td>NaN</td>\n",
       "      <td>NaN</td>\n",
       "      <td>1</td>\n",
       "      <td>2.174752</td>\n",
       "    </tr>\n",
       "    <tr>\n",
       "      <th>1998-07-21</th>\n",
       "      <td>SE-010</td>\n",
       "      <td>SE</td>\n",
       "      <td>2018-11-15</td>\n",
       "      <td>26</td>\n",
       "      <td>Enterococcus</td>\n",
       "      <td>MTF</td>\n",
       "      <td>MPN/100 mL</td>\n",
       "      <td>2.0</td>\n",
       "      <td>488</td>\n",
       "      <td>148.631518</td>\n",
       "      <td>...</td>\n",
       "      <td>SEJPA</td>\n",
       "      <td>8.8</td>\n",
       "      <td>27.0</td>\n",
       "      <td>27.4</td>\n",
       "      <td>NaN</td>\n",
       "      <td>NaN</td>\n",
       "      <td>NaN</td>\n",
       "      <td>NaN</td>\n",
       "      <td>1</td>\n",
       "      <td>2.174752</td>\n",
       "    </tr>\n",
       "    <tr>\n",
       "      <th>1998-07-21</th>\n",
       "      <td>SE-020</td>\n",
       "      <td>SE</td>\n",
       "      <td>2018-11-15</td>\n",
       "      <td>0</td>\n",
       "      <td>Coliform, Fecal</td>\n",
       "      <td>MTF</td>\n",
       "      <td>MPN/100 mL</td>\n",
       "      <td>23.0</td>\n",
       "      <td>477</td>\n",
       "      <td>128.262880</td>\n",
       "      <td>...</td>\n",
       "      <td>SEJPA</td>\n",
       "      <td>8.8</td>\n",
       "      <td>27.0</td>\n",
       "      <td>27.4</td>\n",
       "      <td>NaN</td>\n",
       "      <td>NaN</td>\n",
       "      <td>NaN</td>\n",
       "      <td>NaN</td>\n",
       "      <td>1</td>\n",
       "      <td>2.174752</td>\n",
       "    </tr>\n",
       "    <tr>\n",
       "      <th>1998-07-21</th>\n",
       "      <td>SE-020</td>\n",
       "      <td>SE</td>\n",
       "      <td>2018-11-15</td>\n",
       "      <td>9</td>\n",
       "      <td>Coliform, Total</td>\n",
       "      <td>MTF</td>\n",
       "      <td>MPN/100 mL</td>\n",
       "      <td>23.0</td>\n",
       "      <td>477</td>\n",
       "      <td>263.711243</td>\n",
       "      <td>...</td>\n",
       "      <td>SEJPA</td>\n",
       "      <td>8.8</td>\n",
       "      <td>27.0</td>\n",
       "      <td>27.4</td>\n",
       "      <td>NaN</td>\n",
       "      <td>NaN</td>\n",
       "      <td>NaN</td>\n",
       "      <td>NaN</td>\n",
       "      <td>1</td>\n",
       "      <td>2.174752</td>\n",
       "    </tr>\n",
       "  </tbody>\n",
       "</table>\n",
       "<p>5 rows × 43 columns</p>\n",
       "</div>"
      ],
      "text/plain": [
       "           stationcode stationgroup collectiontime  measure_code  \\\n",
       "1998-07-21      SE-010           SE     2018-11-15             0   \n",
       "1998-07-21      SE-010           SE     2018-11-15             9   \n",
       "1998-07-21      SE-010           SE     2018-11-15            26   \n",
       "1998-07-21      SE-020           SE     2018-11-15             0   \n",
       "1998-07-21      SE-020           SE     2018-11-15             9   \n",
       "\n",
       "                    analyte methodname        unit  result  \\\n",
       "1998-07-21  Coliform, Fecal        MTF  MPN/100 mL     4.0   \n",
       "1998-07-21  Coliform, Total        MTF  MPN/100 mL     4.0   \n",
       "1998-07-21     Enterococcus        MTF  MPN/100 mL     2.0   \n",
       "1998-07-21  Coliform, Fecal        MTF  MPN/100 mL    23.0   \n",
       "1998-07-21  Coliform, Total        MTF  MPN/100 mL    23.0   \n",
       "\n",
       "            result_group_count  result_group_std       ...         \\\n",
       "1998-07-21                 527        225.561709       ...          \n",
       "1998-07-21                 530        309.086717       ...          \n",
       "1998-07-21                 488        148.631518       ...          \n",
       "1998-07-21                 477        128.262880       ...          \n",
       "1998-07-21                 477        263.711243       ...          \n",
       "\n",
       "            submittingagency  discharge_rate  recent_total_discharge  \\\n",
       "1998-07-21             SEJPA             8.8                    27.0   \n",
       "1998-07-21             SEJPA             8.8                    27.0   \n",
       "1998-07-21             SEJPA             8.8                    27.0   \n",
       "1998-07-21             SEJPA             8.8                    27.0   \n",
       "1998-07-21             SEJPA             8.8                    27.0   \n",
       "\n",
       "            recent_max_discharge  dailyprecip  recent_precip  wl_max  wl_min  \\\n",
       "1998-07-21                  27.4          NaN            NaN     NaN     NaN   \n",
       "1998-07-21                  27.4          NaN            NaN     NaN     NaN   \n",
       "1998-07-21                  27.4          NaN            NaN     NaN     NaN   \n",
       "1998-07-21                  27.4          NaN            NaN     NaN     NaN   \n",
       "1998-07-21                  27.4          NaN            NaN     NaN     NaN   \n",
       "\n",
       "            high_flow  ldischarge_rate  \n",
       "1998-07-21          1         2.174752  \n",
       "1998-07-21          1         2.174752  \n",
       "1998-07-21          1         2.174752  \n",
       "1998-07-21          1         2.174752  \n",
       "1998-07-21          1         2.174752  \n",
       "\n",
       "[5 rows x 43 columns]"
      ]
     },
     "execution_count": 10,
     "metadata": {},
     "output_type": "execute_result"
    }
   ],
   "source": [
    "bw_env = beachwatch.set_index('sampledate').join(trr)\n",
    "bw_env['high_flow'] =  (bw_env.recent_total_discharge > bw_env.recent_total_discharge.median()).astype(int)\n",
    "bw_env['ldischarge_rate'] = np.log(bw_env.discharge_rate)\n",
    "bw_env.head()"
   ]
  },
  {
   "cell_type": "code",
   "execution_count": 11,
   "metadata": {},
   "outputs": [],
   "source": [
    "# Compute the quartile of rainfall for each month\n",
    "\n",
    "_1 = pd.qcut(trr.groupby(trr.index.month).sum().dailyprecip, \n",
    "             q=[0, .3, .5, .75, 1.], # .3 not .25 to smooth out summer\n",
    "            labels=[1,2,3,4])\n",
    "\n",
    "dmap = {e['date']:e['dailyprecip'] for _,e in _1.to_frame().reset_index().iterrows()}\n",
    "\n",
    "#trr.apply( lambda row: dmap[row.index.month])\n",
    "bw_env['month'] = bw_env.index.month\n",
    "bw_env['precip_month_q'] = bw_env.month.apply(lambda v: dmap[v])\n",
    "\n"
   ]
  },
  {
   "cell_type": "code",
   "execution_count": 12,
   "metadata": {},
   "outputs": [],
   "source": [
    "# How many years of rain data?\n",
    "_1 = trr.dailyprecip.dropna()\n",
    "span = (_1.index.max() - _1.index.min()).days/365"
   ]
  },
  {
   "cell_type": "code",
   "execution_count": 13,
   "metadata": {},
   "outputs": [
    {
     "data": {
      "image/png": "[encoded data removed]",
      "text/plain": [
       "<Figure size 432x288 with 1 Axes>"
      ]
     },
     "metadata": {},
     "output_type": "display_data"
    }
   ],
   "source": [
    "fig, axes = plt.subplots(1)\n",
    "\n",
    "(trr.groupby(trr.index.month).sum().dailyprecip/span).plot(ax=axes)\n",
    "\n",
    "fig.suptitle('Average San Diego Precipition by Month, 2008 - 2018\\nAt Lindbergh Field,')\n",
    "plt.xlabel('Month')\n",
    "plt.ylabel(\"Rainfall (inches)\");\n"
   ]
  },
  {
   "cell_type": "code",
   "execution_count": 14,
   "metadata": {},
   "outputs": [
    {
     "data": {
      "image/png": "[encoded data removed]",
      "text/plain": [
       "<Figure size 432x288 with 1 Axes>"
      ]
     },
     "metadata": {},
     "output_type": "display_data"
    }
   ],
   "source": [
    "fig, ax = plt.subplots(1)\n",
    "\n",
    "_1 = bw_env[(bw_env.measure_code==24)].copy()\n",
    "_1['dummy'] = 1\n",
    "# Values for lresult_gt_lmedian are 0 or 1, so sum() is counting # of vlaues that == 1\n",
    "_2 = _1.groupby([_1.month,_1.lresult_gt_lmedian]).count().dummy.unstack(1)\n",
    "_2['ratio'] = _2[1.0] / (_2[0.0]+_2[1.0])\n",
    "_2.ratio.plot(ax=ax)\n",
    "\n",
    "fig.suptitle('Ratio of Log Result Above Log Median of Station-Measurement Group')\n",
    "plt.xlabel('Month')\n",
    "plt.ylabel(\"Ratio\");"
   ]
  },
  {
   "cell_type": "code",
   "execution_count": 15,
   "metadata": {},
   "outputs": [
    {
     "data": {
      "text/plain": [
       "EH-420    1081\n",
       "FM-010     990\n",
       "IB-080     981\n",
       "OC-100     963\n",
       "FM-100     919\n",
       "Name: stationcode, dtype: int64"
      ]
     },
     "execution_count": 15,
     "metadata": {},
     "output_type": "execute_result"
    }
   ],
   "source": [
    "bw_env[(bw_env.measure_code==24)].stationcode.value_counts().sort_values(ascending=False).head()"
   ]
  },
  {
   "cell_type": "code",
   "execution_count": 16,
   "metadata": {},
   "outputs": [],
   "source": [
    "def plot_group(group):\n",
    "    fig, ax = plt.subplots(1)\n",
    "\n",
    "    _1 = bw_env[(bw_env.measure_code==24) & (bw_env.stationgroup == group)].copy()\n",
    "    _1['dummy'] = 1\n",
    "    # Values for lresult_gt_lmedian are 0 or 1, so sum() is counting # of vlaues that == 1\n",
    "    _2 = _1.groupby([_1.month,_1.lresult_gt_lmedian]).count().dummy.unstack(1)\n",
    "    _2['ratio'] = _2[1.0] / (_2[0.0]+_2[1.0])\n",
    "    _2.ratio.plot(ax=ax)\n",
    "\n",
    "    fig.suptitle('Ratio of Log Result Above Log Median of Station-Measurement Group')\n",
    "    plt.xlabel('Month')\n",
    "    plt.ylabel(\"Ratio\");\n",
    "    "
   ]
  },
  {
   "cell_type": "code",
   "execution_count": 17,
   "metadata": {},
   "outputs": [
    {
     "data": {
      "image/png": "[encoded data removed]",
      "text/plain": [
       "<Figure size 432x288 with 1 Axes>"
      ]
     },
     "metadata": {},
     "output_type": "display_data"
    }
   ],
   "source": [
    "    \n",
    "plot_group('EH')"
   ]
  },
  {
   "cell_type": "code",
   "execution_count": 18,
   "metadata": {},
   "outputs": [
    {
     "data": {
      "image/png": "[encoded data removed]",
      "text/plain": [
       "<Figure size 432x288 with 1 Axes>"
      ]
     },
     "metadata": {},
     "output_type": "display_data"
    }
   ],
   "source": [
    "plot_group('IB')"
   ]
  },
  {
   "cell_type": "code",
   "execution_count": 19,
   "metadata": {},
   "outputs": [
    {
     "data": {
      "image/png": "[encoded data removed]",
      "text/plain": [
       "<Figure size 432x288 with 1 Axes>"
      ]
     },
     "metadata": {},
     "output_type": "display_data"
    }
   ],
   "source": [
    "plot_group('FM')"
   ]
  },
  {
   "cell_type": "code",
   "execution_count": 90,
   "metadata": {},
   "outputs": [
    {
     "data": {
      "text/html": [
       "<div>\n",
       "<style scoped>\n",
       "    .dataframe tbody tr th:only-of-type {\n",
       "        vertical-align: middle;\n",
       "    }\n",
       "\n",
       "    .dataframe tbody tr th {\n",
       "        vertical-align: top;\n",
       "    }\n",
       "\n",
       "    .dataframe thead th {\n",
       "        text-align: right;\n",
       "    }\n",
       "</style>\n",
       "<table border=\"1\" class=\"dataframe\">\n",
       "  <thead>\n",
       "    <tr style=\"text-align: right;\">\n",
       "      <th></th>\n",
       "      <th>F</th>\n",
       "      <th>T</th>\n",
       "      <th>percent</th>\n",
       "    </tr>\n",
       "    <tr>\n",
       "      <th>stationgroup</th>\n",
       "      <th></th>\n",
       "      <th></th>\n",
       "      <th></th>\n",
       "    </tr>\n",
       "  </thead>\n",
       "  <tbody>\n",
       "    <tr>\n",
       "      <th>EH</th>\n",
       "      <td>16302.0</td>\n",
       "      <td>1076.0</td>\n",
       "      <td>6.19</td>\n",
       "    </tr>\n",
       "    <tr>\n",
       "      <th>EN</th>\n",
       "      <td>1131.0</td>\n",
       "      <td>14.0</td>\n",
       "      <td>1.22</td>\n",
       "    </tr>\n",
       "    <tr>\n",
       "      <th>FM</th>\n",
       "      <td>3331.0</td>\n",
       "      <td>243.0</td>\n",
       "      <td>6.80</td>\n",
       "    </tr>\n",
       "    <tr>\n",
       "      <th>IB</th>\n",
       "      <td>2507.0</td>\n",
       "      <td>333.0</td>\n",
       "      <td>11.73</td>\n",
       "    </tr>\n",
       "    <tr>\n",
       "      <th>MB</th>\n",
       "      <td>6235.0</td>\n",
       "      <td>582.0</td>\n",
       "      <td>8.54</td>\n",
       "    </tr>\n",
       "    <tr>\n",
       "      <th>OC</th>\n",
       "      <td>4599.0</td>\n",
       "      <td>289.0</td>\n",
       "      <td>5.91</td>\n",
       "    </tr>\n",
       "    <tr>\n",
       "      <th>PL</th>\n",
       "      <td>1584.0</td>\n",
       "      <td>75.0</td>\n",
       "      <td>4.52</td>\n",
       "    </tr>\n",
       "    <tr>\n",
       "      <th>SC</th>\n",
       "      <td>14.0</td>\n",
       "      <td>NaN</td>\n",
       "      <td>NaN</td>\n",
       "    </tr>\n",
       "    <tr>\n",
       "      <th>SE</th>\n",
       "      <td>1801.0</td>\n",
       "      <td>99.0</td>\n",
       "      <td>5.21</td>\n",
       "    </tr>\n",
       "    <tr>\n",
       "      <th>TJ</th>\n",
       "      <td>2.0</td>\n",
       "      <td>15.0</td>\n",
       "      <td>88.24</td>\n",
       "    </tr>\n",
       "  </tbody>\n",
       "</table>\n",
       "</div>"
      ],
      "text/plain": [
       "                    F       T  percent\n",
       "stationgroup                          \n",
       "EH            16302.0  1076.0     6.19\n",
       "EN             1131.0    14.0     1.22\n",
       "FM             3331.0   243.0     6.80\n",
       "IB             2507.0   333.0    11.73\n",
       "MB             6235.0   582.0     8.54\n",
       "OC             4599.0   289.0     5.91\n",
       "PL             1584.0    75.0     4.52\n",
       "SC               14.0     NaN      NaN\n",
       "SE             1801.0    99.0     5.21\n",
       "TJ                2.0    15.0    88.24"
      ]
     },
     "execution_count": 90,
     "metadata": {},
     "output_type": "execute_result"
    }
   ],
   "source": [
    "t = beachwatch[(beachwatch.measure_code == 24)].copy()\n",
    "t['exceeded'] = t.result > 104\n",
    "t = t.groupby(['stationgroup','exceeded']).count().result.to_frame().unstack()\n",
    "t.columns = ['F','T']\n",
    "t['percent'] = (t['T']/(t['F']+t['T'])*100).round(2)\n",
    "t"
   ]
  },
  {
   "cell_type": "code",
   "execution_count": 31,
   "metadata": {},
   "outputs": [
    {
     "data": {
      "text/plain": [
       "False    37623\n",
       "True      2726\n",
       "Name: exceeded, dtype: int64"
      ]
     },
     "execution_count": 31,
     "metadata": {},
     "output_type": "execute_result"
    }
   ],
   "source": [
    "t.exceeded.value_counts()"
   ]
  },
  {
   "cell_type": "code",
   "execution_count": 33,
   "metadata": {},
   "outputs": [
    {
     "data": {
      "text/plain": [
       "0.0    36149\n",
       "1.0     4200\n",
       "Name: result_gt_mean, dtype: int64"
      ]
     },
     "execution_count": 33,
     "metadata": {},
     "output_type": "execute_result"
    }
   ],
   "source": [
    "t.result_gt_mean.value_counts()"
   ]
  },
  {
   "cell_type": "code",
   "execution_count": 34,
   "metadata": {},
   "outputs": [
    {
     "data": {
      "text/plain": [
       "0.0    30910\n",
       "1.0     9439\n",
       "Name: lresult_gt_lmean, dtype: int64"
      ]
     },
     "execution_count": 34,
     "metadata": {},
     "output_type": "execute_result"
    }
   ],
   "source": [
    "t.lresult_gt_lmean.value_counts()"
   ]
  },
  {
   "cell_type": "code",
   "execution_count": 63,
   "metadata": {},
   "outputs": [
    {
     "data": {
      "text/plain": [
       "<matplotlib.axes._subplots.AxesSubplot at 0x11cdafbe0>"
      ]
     },
     "execution_count": 63,
     "metadata": {},
     "output_type": "execute_result"
    },
    {
     "data": {
      "image/png": "[encoded data removed]",
      "text/plain": [
       "<Figure size 1080x360 with 1 Axes>"
      ]
     },
     "metadata": {},
     "output_type": "display_data"
    }
   ],
   "source": [
    "import seaborn as sns \n",
    "\n",
    "t = beachwatch[['sampledate','result', 'stationgroup']].drop_duplicates(['sampledate', 'stationgroup'])\n",
    "t = t.set_index(['sampledate','stationgroup']).unstack().resample('1D').mean()\n",
    "\n",
    "fig, ax = plt.subplots(figsize=(15,5))\n",
    "sns.heatmap(t.isnull().T,cbar=False,xticklabels=False,cmap = 'viridis', ax=ax )"
   ]
  },
  {
   "cell_type": "code",
   "execution_count": 94,
   "metadata": {},
   "outputs": [
    {
     "data": {
      "text/plain": [
       "<matplotlib.axes._subplots.AxesSubplot at 0x11c43deb8>"
      ]
     },
     "execution_count": 94,
     "metadata": {},
     "output_type": "execute_result"
    },
    {
     "data": {
      "image/png": "[encoded data removed]",
      "text/plain": [
       "<Figure size 1080x720 with 1 Axes>"
      ]
     },
     "metadata": {},
     "output_type": "display_data"
    }
   ],
   "source": [
    "t = beachwatch[(beachwatch.measure_code == 24)].copy()\n",
    "t = t[t.stationgroup == 'SE'][['sampledate','result', 'stationcode']].drop_duplicates(['sampledate', 'stationcode'])\n",
    "t = t.set_index(['sampledate','stationcode']).unstack().resample('1D').mean()\n",
    "\n",
    "\n",
    "fig, ax = plt.subplots(figsize=(15,10))\n",
    "sns.heatmap(t.isnull().T,cbar=False,xticklabels=False,cmap = 'viridis', ax=ax )"
   ]
  },
  {
   "cell_type": "code",
   "execution_count": 91,
   "metadata": {},
   "outputs": [
    {
     "data": {
      "text/plain": [
       "24    40349\n",
       "2     26927\n",
       "11    23592\n",
       "9     19352\n",
       "0     19246\n",
       "15    17378\n",
       "29    16203\n",
       "5     15926\n",
       "26     4706\n",
       "7      4474\n",
       "17     4401\n",
       "25     2023\n",
       "3      1987\n",
       "12     1986\n",
       "6      1599\n",
       "23     1591\n",
       "28      101\n",
       "14       93\n",
       "4        85\n",
       "10       60\n",
       "1        57\n",
       "16       41\n",
       "27       36\n",
       "8        12\n",
       "19        9\n",
       "18        7\n",
       "20        6\n",
       "22        4\n",
       "13        4\n",
       "21        1\n",
       "30        1\n",
       "Name: measure_code, dtype: int64"
      ]
     },
     "execution_count": 91,
     "metadata": {},
     "output_type": "execute_result"
    }
   ],
   "source": [
    "beachwatch.measure_code.value_counts()"
   ]
  },
  {
   "cell_type": "code",
   "execution_count": null,
   "metadata": {},
   "outputs": [],
   "source": []
  }
 ],
 "metadata": {
  "kernelspec": {
   "display_name": "Python 3",
   "language": "python",
   "name": "python3"
  },
  "language_info": {
   "codemirror_mode": {
    "name": "ipython",
    "version": 3
   },
   "file_extension": ".py",
   "mimetype": "text/x-python",
   "name": "python",
   "nbconvert_exporter": "python",
   "pygments_lexer": "ipython3",
   "version": "3.6.5"
  }
 },
 "nbformat": 4,
 "nbformat_minor": 2
}
